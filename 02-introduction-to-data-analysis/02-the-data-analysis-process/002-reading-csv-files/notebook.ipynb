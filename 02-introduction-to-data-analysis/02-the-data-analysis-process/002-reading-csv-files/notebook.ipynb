{
 "cells": [
  {
   "cell_type": "markdown",
   "metadata": {
    "collapsed": true,
    "pycharm": {
     "name": "#%% md\n"
    }
   },
   "source": [
    "## Reading CSV Files\n"
   ]
  },
  {
   "cell_type": "code",
   "execution_count": 1,
   "outputs": [
    {
     "data": {
      "text/plain": "      ID   Name  Attendance    HW  Test1  Project1  Test2  Project2  Final\n0  27604    Joe        0.96  0.97   87.0      98.0   92.0      93.0   95.0\n1  30572   Alex        1.00  0.84   92.0      89.0   94.0      92.0   91.0\n2  39203  Avery        0.84  0.74   68.0      70.0   84.0      90.0   82.0\n3  28592   Kris        0.96  1.00   82.0      94.0   90.0      81.0   84.0\n4  27492   Rick        0.32  0.85   98.0     100.0   73.0      82.0   88.0",
      "text/html": "<div>\n<style scoped>\n    .dataframe tbody tr th:only-of-type {\n        vertical-align: middle;\n    }\n\n    .dataframe tbody tr th {\n        vertical-align: top;\n    }\n\n    .dataframe thead th {\n        text-align: right;\n    }\n</style>\n<table border=\"1\" class=\"dataframe\">\n  <thead>\n    <tr style=\"text-align: right;\">\n      <th></th>\n      <th>ID</th>\n      <th>Name</th>\n      <th>Attendance</th>\n      <th>HW</th>\n      <th>Test1</th>\n      <th>Project1</th>\n      <th>Test2</th>\n      <th>Project2</th>\n      <th>Final</th>\n    </tr>\n  </thead>\n  <tbody>\n    <tr>\n      <th>0</th>\n      <td>27604</td>\n      <td>Joe</td>\n      <td>0.96</td>\n      <td>0.97</td>\n      <td>87.0</td>\n      <td>98.0</td>\n      <td>92.0</td>\n      <td>93.0</td>\n      <td>95.0</td>\n    </tr>\n    <tr>\n      <th>1</th>\n      <td>30572</td>\n      <td>Alex</td>\n      <td>1.00</td>\n      <td>0.84</td>\n      <td>92.0</td>\n      <td>89.0</td>\n      <td>94.0</td>\n      <td>92.0</td>\n      <td>91.0</td>\n    </tr>\n    <tr>\n      <th>2</th>\n      <td>39203</td>\n      <td>Avery</td>\n      <td>0.84</td>\n      <td>0.74</td>\n      <td>68.0</td>\n      <td>70.0</td>\n      <td>84.0</td>\n      <td>90.0</td>\n      <td>82.0</td>\n    </tr>\n    <tr>\n      <th>3</th>\n      <td>28592</td>\n      <td>Kris</td>\n      <td>0.96</td>\n      <td>1.00</td>\n      <td>82.0</td>\n      <td>94.0</td>\n      <td>90.0</td>\n      <td>81.0</td>\n      <td>84.0</td>\n    </tr>\n    <tr>\n      <th>4</th>\n      <td>27492</td>\n      <td>Rick</td>\n      <td>0.32</td>\n      <td>0.85</td>\n      <td>98.0</td>\n      <td>100.0</td>\n      <td>73.0</td>\n      <td>82.0</td>\n      <td>88.0</td>\n    </tr>\n  </tbody>\n</table>\n</div>"
     },
     "execution_count": 1,
     "metadata": {},
     "output_type": "execute_result"
    }
   ],
   "source": [
    "import pandas as pd\n",
    "\n",
    "df_comma = pd.read_csv('data.csv')\n",
    "df_comma.head()\n"
   ],
   "metadata": {
    "collapsed": false,
    "pycharm": {
     "name": "#%%\n"
    }
   }
  },
  {
   "cell_type": "markdown",
   "source": [],
   "metadata": {
    "collapsed": false,
    "pycharm": {
     "name": "#%% md\n"
    }
   }
  },
  {
   "cell_type": "code",
   "execution_count": 2,
   "outputs": [
    {
     "data": {
      "text/plain": "  ID,Name,Attendance,HW,Test1,Project1,Test2,Project2,Final\n0       27604,Joe,0.96,0.97,87.0,98.0,92.0,93.0,95.0       \n1       30572,Alex,1.0,0.84,92.0,89.0,94.0,92.0,91.0       \n2     39203,Avery,0.84,0.74,68.0,70.0,84.0,90.0,82.0       \n3       28592,Kris,0.96,1.0,82.0,94.0,90.0,81.0,84.0       \n4     27492,Rick,0.32,0.85,98.0,100.0,73.0,82.0,88.0       ",
      "text/html": "<div>\n<style scoped>\n    .dataframe tbody tr th:only-of-type {\n        vertical-align: middle;\n    }\n\n    .dataframe tbody tr th {\n        vertical-align: top;\n    }\n\n    .dataframe thead th {\n        text-align: right;\n    }\n</style>\n<table border=\"1\" class=\"dataframe\">\n  <thead>\n    <tr style=\"text-align: right;\">\n      <th></th>\n      <th>ID,Name,Attendance,HW,Test1,Project1,Test2,Project2,Final</th>\n    </tr>\n  </thead>\n  <tbody>\n    <tr>\n      <th>0</th>\n      <td>27604,Joe,0.96,0.97,87.0,98.0,92.0,93.0,95.0</td>\n    </tr>\n    <tr>\n      <th>1</th>\n      <td>30572,Alex,1.0,0.84,92.0,89.0,94.0,92.0,91.0</td>\n    </tr>\n    <tr>\n      <th>2</th>\n      <td>39203,Avery,0.84,0.74,68.0,70.0,84.0,90.0,82.0</td>\n    </tr>\n    <tr>\n      <th>3</th>\n      <td>28592,Kris,0.96,1.0,82.0,94.0,90.0,81.0,84.0</td>\n    </tr>\n    <tr>\n      <th>4</th>\n      <td>27492,Rick,0.32,0.85,98.0,100.0,73.0,82.0,88.0</td>\n    </tr>\n  </tbody>\n</table>\n</div>"
     },
     "execution_count": 2,
     "metadata": {},
     "output_type": "execute_result"
    }
   ],
   "source": [
    "df_semicolon = pd.read_csv('data.csv', sep=';')\n",
    "df_semicolon.head()"
   ],
   "metadata": {
    "collapsed": false,
    "pycharm": {
     "name": "#%%\n"
    }
   }
  },
  {
   "cell_type": "markdown",
   "source": [
    "## Changing the header index\n",
    "We can specify the header line with header=index parameter."
   ],
   "metadata": {
    "collapsed": false,
    "pycharm": {
     "name": "#%% md\n"
    }
   }
  },
  {
   "cell_type": "code",
   "execution_count": 3,
   "outputs": [
    {
     "data": {
      "text/plain": "   30572   Alex   1.0  0.84  92.0   89.0  94.0  92.0.1  91.0\n0  39203  Avery  0.84  0.74  68.0   70.0  84.0    90.0  82.0\n1  28592   Kris  0.96  1.00  82.0   94.0  90.0    81.0  84.0\n2  27492   Rick  0.32  0.85  98.0  100.0  73.0    82.0  88.0",
      "text/html": "<div>\n<style scoped>\n    .dataframe tbody tr th:only-of-type {\n        vertical-align: middle;\n    }\n\n    .dataframe tbody tr th {\n        vertical-align: top;\n    }\n\n    .dataframe thead th {\n        text-align: right;\n    }\n</style>\n<table border=\"1\" class=\"dataframe\">\n  <thead>\n    <tr style=\"text-align: right;\">\n      <th></th>\n      <th>30572</th>\n      <th>Alex</th>\n      <th>1.0</th>\n      <th>0.84</th>\n      <th>92.0</th>\n      <th>89.0</th>\n      <th>94.0</th>\n      <th>92.0.1</th>\n      <th>91.0</th>\n    </tr>\n  </thead>\n  <tbody>\n    <tr>\n      <th>0</th>\n      <td>39203</td>\n      <td>Avery</td>\n      <td>0.84</td>\n      <td>0.74</td>\n      <td>68.0</td>\n      <td>70.0</td>\n      <td>84.0</td>\n      <td>90.0</td>\n      <td>82.0</td>\n    </tr>\n    <tr>\n      <th>1</th>\n      <td>28592</td>\n      <td>Kris</td>\n      <td>0.96</td>\n      <td>1.00</td>\n      <td>82.0</td>\n      <td>94.0</td>\n      <td>90.0</td>\n      <td>81.0</td>\n      <td>84.0</td>\n    </tr>\n    <tr>\n      <th>2</th>\n      <td>27492</td>\n      <td>Rick</td>\n      <td>0.32</td>\n      <td>0.85</td>\n      <td>98.0</td>\n      <td>100.0</td>\n      <td>73.0</td>\n      <td>82.0</td>\n      <td>88.0</td>\n    </tr>\n  </tbody>\n</table>\n</div>"
     },
     "execution_count": 3,
     "metadata": {},
     "output_type": "execute_result"
    }
   ],
   "source": [
    "df_other_header = pd.read_csv('data.csv', header=2)\n",
    "df_other_header.head()\n"
   ],
   "metadata": {
    "collapsed": false,
    "pycharm": {
     "name": "#%%\n"
    }
   }
  },
  {
   "cell_type": "markdown",
   "source": [
    "But we can also specify that we don't have any header at all, like this:"
   ],
   "metadata": {
    "collapsed": false,
    "pycharm": {
     "name": "#%% md\n"
    }
   }
  },
  {
   "cell_type": "code",
   "execution_count": 4,
   "outputs": [
    {
     "data": {
      "text/plain": "       0      1           2     3      4         5      6         7      8\n0     ID   Name  Attendance    HW  Test1  Project1  Test2  Project2  Final\n1  27604    Joe        0.96  0.97   87.0      98.0   92.0      93.0   95.0\n2  30572   Alex         1.0  0.84   92.0      89.0   94.0      92.0   91.0\n3  39203  Avery        0.84  0.74   68.0      70.0   84.0      90.0   82.0\n4  28592   Kris        0.96   1.0   82.0      94.0   90.0      81.0   84.0",
      "text/html": "<div>\n<style scoped>\n    .dataframe tbody tr th:only-of-type {\n        vertical-align: middle;\n    }\n\n    .dataframe tbody tr th {\n        vertical-align: top;\n    }\n\n    .dataframe thead th {\n        text-align: right;\n    }\n</style>\n<table border=\"1\" class=\"dataframe\">\n  <thead>\n    <tr style=\"text-align: right;\">\n      <th></th>\n      <th>0</th>\n      <th>1</th>\n      <th>2</th>\n      <th>3</th>\n      <th>4</th>\n      <th>5</th>\n      <th>6</th>\n      <th>7</th>\n      <th>8</th>\n    </tr>\n  </thead>\n  <tbody>\n    <tr>\n      <th>0</th>\n      <td>ID</td>\n      <td>Name</td>\n      <td>Attendance</td>\n      <td>HW</td>\n      <td>Test1</td>\n      <td>Project1</td>\n      <td>Test2</td>\n      <td>Project2</td>\n      <td>Final</td>\n    </tr>\n    <tr>\n      <th>1</th>\n      <td>27604</td>\n      <td>Joe</td>\n      <td>0.96</td>\n      <td>0.97</td>\n      <td>87.0</td>\n      <td>98.0</td>\n      <td>92.0</td>\n      <td>93.0</td>\n      <td>95.0</td>\n    </tr>\n    <tr>\n      <th>2</th>\n      <td>30572</td>\n      <td>Alex</td>\n      <td>1.0</td>\n      <td>0.84</td>\n      <td>92.0</td>\n      <td>89.0</td>\n      <td>94.0</td>\n      <td>92.0</td>\n      <td>91.0</td>\n    </tr>\n    <tr>\n      <th>3</th>\n      <td>39203</td>\n      <td>Avery</td>\n      <td>0.84</td>\n      <td>0.74</td>\n      <td>68.0</td>\n      <td>70.0</td>\n      <td>84.0</td>\n      <td>90.0</td>\n      <td>82.0</td>\n    </tr>\n    <tr>\n      <th>4</th>\n      <td>28592</td>\n      <td>Kris</td>\n      <td>0.96</td>\n      <td>1.0</td>\n      <td>82.0</td>\n      <td>94.0</td>\n      <td>90.0</td>\n      <td>81.0</td>\n      <td>84.0</td>\n    </tr>\n  </tbody>\n</table>\n</div>"
     },
     "execution_count": 4,
     "metadata": {},
     "output_type": "execute_result"
    }
   ],
   "source": [
    "df_no_header = pd.read_csv('data.csv', header=None)\n",
    "df_no_header.head()\n"
   ],
   "metadata": {
    "collapsed": false,
    "pycharm": {
     "name": "#%%\n"
    }
   }
  },
  {
   "cell_type": "markdown",
   "source": [
    "Since we already have a header, the first line was stored as values."
   ],
   "metadata": {
    "collapsed": false
   }
  },
  {
   "cell_type": "markdown",
   "source": [
    "## Changing header names\n",
    "We can also change our header names, with or without a header line. Look at the examples, Vini:"
   ],
   "metadata": {
    "collapsed": false,
    "pycharm": {
     "name": "#%% md\n"
    }
   }
  },
  {
   "cell_type": "code",
   "execution_count": 5,
   "outputs": [
    {
     "data": {
      "text/plain": "      id   name  attendance    hw  test1  project1  test2  project2  final\n0     ID   Name  Attendance    HW  Test1  Project1  Test2  Project2  Final\n1  27604    Joe        0.96  0.97   87.0      98.0   92.0      93.0   95.0\n2  30572   Alex         1.0  0.84   92.0      89.0   94.0      92.0   91.0\n3  39203  Avery        0.84  0.74   68.0      70.0   84.0      90.0   82.0\n4  28592   Kris        0.96   1.0   82.0      94.0   90.0      81.0   84.0",
      "text/html": "<div>\n<style scoped>\n    .dataframe tbody tr th:only-of-type {\n        vertical-align: middle;\n    }\n\n    .dataframe tbody tr th {\n        vertical-align: top;\n    }\n\n    .dataframe thead th {\n        text-align: right;\n    }\n</style>\n<table border=\"1\" class=\"dataframe\">\n  <thead>\n    <tr style=\"text-align: right;\">\n      <th></th>\n      <th>id</th>\n      <th>name</th>\n      <th>attendance</th>\n      <th>hw</th>\n      <th>test1</th>\n      <th>project1</th>\n      <th>test2</th>\n      <th>project2</th>\n      <th>final</th>\n    </tr>\n  </thead>\n  <tbody>\n    <tr>\n      <th>0</th>\n      <td>ID</td>\n      <td>Name</td>\n      <td>Attendance</td>\n      <td>HW</td>\n      <td>Test1</td>\n      <td>Project1</td>\n      <td>Test2</td>\n      <td>Project2</td>\n      <td>Final</td>\n    </tr>\n    <tr>\n      <th>1</th>\n      <td>27604</td>\n      <td>Joe</td>\n      <td>0.96</td>\n      <td>0.97</td>\n      <td>87.0</td>\n      <td>98.0</td>\n      <td>92.0</td>\n      <td>93.0</td>\n      <td>95.0</td>\n    </tr>\n    <tr>\n      <th>2</th>\n      <td>30572</td>\n      <td>Alex</td>\n      <td>1.0</td>\n      <td>0.84</td>\n      <td>92.0</td>\n      <td>89.0</td>\n      <td>94.0</td>\n      <td>92.0</td>\n      <td>91.0</td>\n    </tr>\n    <tr>\n      <th>3</th>\n      <td>39203</td>\n      <td>Avery</td>\n      <td>0.84</td>\n      <td>0.74</td>\n      <td>68.0</td>\n      <td>70.0</td>\n      <td>84.0</td>\n      <td>90.0</td>\n      <td>82.0</td>\n    </tr>\n    <tr>\n      <th>4</th>\n      <td>28592</td>\n      <td>Kris</td>\n      <td>0.96</td>\n      <td>1.0</td>\n      <td>82.0</td>\n      <td>94.0</td>\n      <td>90.0</td>\n      <td>81.0</td>\n      <td>84.0</td>\n    </tr>\n  </tbody>\n</table>\n</div>"
     },
     "execution_count": 5,
     "metadata": {},
     "output_type": "execute_result"
    }
   ],
   "source": [
    "labels = ['id', 'name', 'attendance', 'hw', 'test1', 'project1', 'test2', 'project2', 'final']\n",
    "df_header_label = pd.read_csv('data.csv', names=labels)\n",
    "df_header_label.head()\n"
   ],
   "metadata": {
    "collapsed": false,
    "pycharm": {
     "name": "#%%\n"
    }
   }
  },
  {
   "cell_type": "code",
   "execution_count": 6,
   "outputs": [
    {
     "data": {
      "text/plain": "      id   name  attendance    hw  test1  project1  test2  project2  final\n0  27604    Joe        0.96  0.97   87.0      98.0   92.0      93.0   95.0\n1  30572   Alex        1.00  0.84   92.0      89.0   94.0      92.0   91.0\n2  39203  Avery        0.84  0.74   68.0      70.0   84.0      90.0   82.0\n3  28592   Kris        0.96  1.00   82.0      94.0   90.0      81.0   84.0\n4  27492   Rick        0.32  0.85   98.0     100.0   73.0      82.0   88.0",
      "text/html": "<div>\n<style scoped>\n    .dataframe tbody tr th:only-of-type {\n        vertical-align: middle;\n    }\n\n    .dataframe tbody tr th {\n        vertical-align: top;\n    }\n\n    .dataframe thead th {\n        text-align: right;\n    }\n</style>\n<table border=\"1\" class=\"dataframe\">\n  <thead>\n    <tr style=\"text-align: right;\">\n      <th></th>\n      <th>id</th>\n      <th>name</th>\n      <th>attendance</th>\n      <th>hw</th>\n      <th>test1</th>\n      <th>project1</th>\n      <th>test2</th>\n      <th>project2</th>\n      <th>final</th>\n    </tr>\n  </thead>\n  <tbody>\n    <tr>\n      <th>0</th>\n      <td>27604</td>\n      <td>Joe</td>\n      <td>0.96</td>\n      <td>0.97</td>\n      <td>87.0</td>\n      <td>98.0</td>\n      <td>92.0</td>\n      <td>93.0</td>\n      <td>95.0</td>\n    </tr>\n    <tr>\n      <th>1</th>\n      <td>30572</td>\n      <td>Alex</td>\n      <td>1.00</td>\n      <td>0.84</td>\n      <td>92.0</td>\n      <td>89.0</td>\n      <td>94.0</td>\n      <td>92.0</td>\n      <td>91.0</td>\n    </tr>\n    <tr>\n      <th>2</th>\n      <td>39203</td>\n      <td>Avery</td>\n      <td>0.84</td>\n      <td>0.74</td>\n      <td>68.0</td>\n      <td>70.0</td>\n      <td>84.0</td>\n      <td>90.0</td>\n      <td>82.0</td>\n    </tr>\n    <tr>\n      <th>3</th>\n      <td>28592</td>\n      <td>Kris</td>\n      <td>0.96</td>\n      <td>1.00</td>\n      <td>82.0</td>\n      <td>94.0</td>\n      <td>90.0</td>\n      <td>81.0</td>\n      <td>84.0</td>\n    </tr>\n    <tr>\n      <th>4</th>\n      <td>27492</td>\n      <td>Rick</td>\n      <td>0.32</td>\n      <td>0.85</td>\n      <td>98.0</td>\n      <td>100.0</td>\n      <td>73.0</td>\n      <td>82.0</td>\n      <td>88.0</td>\n    </tr>\n  </tbody>\n</table>\n</div>"
     },
     "execution_count": 6,
     "metadata": {},
     "output_type": "execute_result"
    }
   ],
   "source": [
    "df_change_header_label = pd.read_csv('data.csv', header=0, names=labels)\n",
    "df_change_header_label.head()\n"
   ],
   "metadata": {
    "collapsed": false,
    "pycharm": {
     "name": "#%%\n"
    }
   }
  },
  {
   "cell_type": "markdown",
   "source": [
    "## Index\n",
    "We can change the index values, also! We can specify one or more of our columns to be the index!\n"
   ],
   "metadata": {
    "collapsed": false,
    "pycharm": {
     "name": "#%% md\n"
    }
   }
  },
  {
   "cell_type": "code",
   "execution_count": 7,
   "outputs": [
    {
     "data": {
      "text/plain": "          ID  Attendance    HW  Test1  Project1  Test2  Project2  Final\nName                                                                   \nJoe    27604        0.96  0.97   87.0      98.0   92.0      93.0   95.0\nAlex   30572        1.00  0.84   92.0      89.0   94.0      92.0   91.0\nAvery  39203        0.84  0.74   68.0      70.0   84.0      90.0   82.0\nKris   28592        0.96  1.00   82.0      94.0   90.0      81.0   84.0\nRick   27492        0.32  0.85   98.0     100.0   73.0      82.0   88.0",
      "text/html": "<div>\n<style scoped>\n    .dataframe tbody tr th:only-of-type {\n        vertical-align: middle;\n    }\n\n    .dataframe tbody tr th {\n        vertical-align: top;\n    }\n\n    .dataframe thead th {\n        text-align: right;\n    }\n</style>\n<table border=\"1\" class=\"dataframe\">\n  <thead>\n    <tr style=\"text-align: right;\">\n      <th></th>\n      <th>ID</th>\n      <th>Attendance</th>\n      <th>HW</th>\n      <th>Test1</th>\n      <th>Project1</th>\n      <th>Test2</th>\n      <th>Project2</th>\n      <th>Final</th>\n    </tr>\n    <tr>\n      <th>Name</th>\n      <th></th>\n      <th></th>\n      <th></th>\n      <th></th>\n      <th></th>\n      <th></th>\n      <th></th>\n      <th></th>\n    </tr>\n  </thead>\n  <tbody>\n    <tr>\n      <th>Joe</th>\n      <td>27604</td>\n      <td>0.96</td>\n      <td>0.97</td>\n      <td>87.0</td>\n      <td>98.0</td>\n      <td>92.0</td>\n      <td>93.0</td>\n      <td>95.0</td>\n    </tr>\n    <tr>\n      <th>Alex</th>\n      <td>30572</td>\n      <td>1.00</td>\n      <td>0.84</td>\n      <td>92.0</td>\n      <td>89.0</td>\n      <td>94.0</td>\n      <td>92.0</td>\n      <td>91.0</td>\n    </tr>\n    <tr>\n      <th>Avery</th>\n      <td>39203</td>\n      <td>0.84</td>\n      <td>0.74</td>\n      <td>68.0</td>\n      <td>70.0</td>\n      <td>84.0</td>\n      <td>90.0</td>\n      <td>82.0</td>\n    </tr>\n    <tr>\n      <th>Kris</th>\n      <td>28592</td>\n      <td>0.96</td>\n      <td>1.00</td>\n      <td>82.0</td>\n      <td>94.0</td>\n      <td>90.0</td>\n      <td>81.0</td>\n      <td>84.0</td>\n    </tr>\n    <tr>\n      <th>Rick</th>\n      <td>27492</td>\n      <td>0.32</td>\n      <td>0.85</td>\n      <td>98.0</td>\n      <td>100.0</td>\n      <td>73.0</td>\n      <td>82.0</td>\n      <td>88.0</td>\n    </tr>\n  </tbody>\n</table>\n</div>"
     },
     "execution_count": 7,
     "metadata": {},
     "output_type": "execute_result"
    }
   ],
   "source": [
    "df_index_name = pd.read_csv('data.csv', index_col='Name')\n",
    "df_index_name.head()\n"
   ],
   "metadata": {
    "collapsed": false,
    "pycharm": {
     "name": "#%%\n"
    }
   }
  },
  {
   "cell_type": "code",
   "execution_count": 8,
   "outputs": [
    {
     "data": {
      "text/plain": "             Attendance    HW  Test1  Project1  Test2  Project2  Final\nName  ID                                                              \nJoe   27604        0.96  0.97   87.0      98.0   92.0      93.0   95.0\nAlex  30572        1.00  0.84   92.0      89.0   94.0      92.0   91.0\nAvery 39203        0.84  0.74   68.0      70.0   84.0      90.0   82.0\nKris  28592        0.96  1.00   82.0      94.0   90.0      81.0   84.0\nRick  27492        0.32  0.85   98.0     100.0   73.0      82.0   88.0",
      "text/html": "<div>\n<style scoped>\n    .dataframe tbody tr th:only-of-type {\n        vertical-align: middle;\n    }\n\n    .dataframe tbody tr th {\n        vertical-align: top;\n    }\n\n    .dataframe thead th {\n        text-align: right;\n    }\n</style>\n<table border=\"1\" class=\"dataframe\">\n  <thead>\n    <tr style=\"text-align: right;\">\n      <th></th>\n      <th></th>\n      <th>Attendance</th>\n      <th>HW</th>\n      <th>Test1</th>\n      <th>Project1</th>\n      <th>Test2</th>\n      <th>Project2</th>\n      <th>Final</th>\n    </tr>\n    <tr>\n      <th>Name</th>\n      <th>ID</th>\n      <th></th>\n      <th></th>\n      <th></th>\n      <th></th>\n      <th></th>\n      <th></th>\n      <th></th>\n    </tr>\n  </thead>\n  <tbody>\n    <tr>\n      <th>Joe</th>\n      <th>27604</th>\n      <td>0.96</td>\n      <td>0.97</td>\n      <td>87.0</td>\n      <td>98.0</td>\n      <td>92.0</td>\n      <td>93.0</td>\n      <td>95.0</td>\n    </tr>\n    <tr>\n      <th>Alex</th>\n      <th>30572</th>\n      <td>1.00</td>\n      <td>0.84</td>\n      <td>92.0</td>\n      <td>89.0</td>\n      <td>94.0</td>\n      <td>92.0</td>\n      <td>91.0</td>\n    </tr>\n    <tr>\n      <th>Avery</th>\n      <th>39203</th>\n      <td>0.84</td>\n      <td>0.74</td>\n      <td>68.0</td>\n      <td>70.0</td>\n      <td>84.0</td>\n      <td>90.0</td>\n      <td>82.0</td>\n    </tr>\n    <tr>\n      <th>Kris</th>\n      <th>28592</th>\n      <td>0.96</td>\n      <td>1.00</td>\n      <td>82.0</td>\n      <td>94.0</td>\n      <td>90.0</td>\n      <td>81.0</td>\n      <td>84.0</td>\n    </tr>\n    <tr>\n      <th>Rick</th>\n      <th>27492</th>\n      <td>0.32</td>\n      <td>0.85</td>\n      <td>98.0</td>\n      <td>100.0</td>\n      <td>73.0</td>\n      <td>82.0</td>\n      <td>88.0</td>\n    </tr>\n  </tbody>\n</table>\n</div>"
     },
     "execution_count": 8,
     "metadata": {},
     "output_type": "execute_result"
    }
   ],
   "source": [
    "df_index_name_id = pd.read_csv('data.csv', index_col=['Name', 'ID'])\n",
    "df_index_name_id.head()\n"
   ],
   "metadata": {
    "collapsed": false,
    "pycharm": {
     "name": "#%%\n"
    }
   }
  },
  {
   "cell_type": "markdown",
   "source": [
    "## Quiz #1\n",
    "Use `read_csv()` to read in `cancer_data.csv` and use an appropriate column as the index. Then, use `.head()` on your dataframe to see if you've done this correctly. *Hint: First call `read_csv()` **without parameters** and then `head()` to see what the data looks like.*"
   ],
   "metadata": {
    "collapsed": false,
    "pycharm": {
     "name": "#%% md\n"
    }
   }
  },
  {
   "cell_type": "code",
   "execution_count": 11,
   "outputs": [
    {
     "data": {
      "text/plain": "         diagnosis  radius_mean  texture_mean  perimeter_mean  area_mean  \\\nid                                                                         \n842302           M        17.99         10.38          122.80     1001.0   \n842517           M        20.57         17.77          132.90     1326.0   \n84300903         M        19.69         21.25          130.00     1203.0   \n84348301         M        11.42         20.38           77.58      386.1   \n84358402         M        20.29         14.34          135.10     1297.0   \n\n          smoothness_mean  compactness_mean  concavity_mean  \\\nid                                                            \n842302            0.11840           0.27760          0.3001   \n842517            0.08474           0.07864          0.0869   \n84300903          0.10960           0.15990          0.1974   \n84348301          0.14250           0.28390          0.2414   \n84358402          0.10030           0.13280          0.1980   \n\n          concave points_mean  symmetry_mean  ...  texture_worst  \\\nid                                            ...                  \n842302                0.14710         0.2419  ...          17.33   \n842517                0.07017         0.1812  ...          23.41   \n84300903              0.12790         0.2069  ...          25.53   \n84348301              0.10520         0.2597  ...          26.50   \n84358402              0.10430         0.1809  ...          16.67   \n\n          perimeter_worst  area_worst  smoothness_worst  compactness_worst  \\\nid                                                                           \n842302             184.60      2019.0            0.1622             0.6656   \n842517             158.80      1956.0            0.1238             0.1866   \n84300903           152.50      1709.0            0.1444             0.4245   \n84348301            98.87       567.7            0.2098             0.8663   \n84358402           152.20      1575.0            0.1374             0.2050   \n\n          concavity_worst  concave points_worst  symmetry_worst  \\\nid                                                                \n842302             0.7119                0.2654          0.4601   \n842517             0.2416                0.1860          0.2750   \n84300903           0.4504                0.2430          0.3613   \n84348301           0.6869                0.2575          0.6638   \n84358402           0.4000                0.1625          0.2364   \n\n          fractal_dimension_worst  Unnamed: 32  \nid                                              \n842302                    0.11890          NaN  \n842517                    0.08902          NaN  \n84300903                  0.08758          NaN  \n84348301                  0.17300          NaN  \n84358402                  0.07678          NaN  \n\n[5 rows x 32 columns]",
      "text/html": "<div>\n<style scoped>\n    .dataframe tbody tr th:only-of-type {\n        vertical-align: middle;\n    }\n\n    .dataframe tbody tr th {\n        vertical-align: top;\n    }\n\n    .dataframe thead th {\n        text-align: right;\n    }\n</style>\n<table border=\"1\" class=\"dataframe\">\n  <thead>\n    <tr style=\"text-align: right;\">\n      <th></th>\n      <th>diagnosis</th>\n      <th>radius_mean</th>\n      <th>texture_mean</th>\n      <th>perimeter_mean</th>\n      <th>area_mean</th>\n      <th>smoothness_mean</th>\n      <th>compactness_mean</th>\n      <th>concavity_mean</th>\n      <th>concave points_mean</th>\n      <th>symmetry_mean</th>\n      <th>...</th>\n      <th>texture_worst</th>\n      <th>perimeter_worst</th>\n      <th>area_worst</th>\n      <th>smoothness_worst</th>\n      <th>compactness_worst</th>\n      <th>concavity_worst</th>\n      <th>concave points_worst</th>\n      <th>symmetry_worst</th>\n      <th>fractal_dimension_worst</th>\n      <th>Unnamed: 32</th>\n    </tr>\n    <tr>\n      <th>id</th>\n      <th></th>\n      <th></th>\n      <th></th>\n      <th></th>\n      <th></th>\n      <th></th>\n      <th></th>\n      <th></th>\n      <th></th>\n      <th></th>\n      <th></th>\n      <th></th>\n      <th></th>\n      <th></th>\n      <th></th>\n      <th></th>\n      <th></th>\n      <th></th>\n      <th></th>\n      <th></th>\n      <th></th>\n    </tr>\n  </thead>\n  <tbody>\n    <tr>\n      <th>842302</th>\n      <td>M</td>\n      <td>17.99</td>\n      <td>10.38</td>\n      <td>122.80</td>\n      <td>1001.0</td>\n      <td>0.11840</td>\n      <td>0.27760</td>\n      <td>0.3001</td>\n      <td>0.14710</td>\n      <td>0.2419</td>\n      <td>...</td>\n      <td>17.33</td>\n      <td>184.60</td>\n      <td>2019.0</td>\n      <td>0.1622</td>\n      <td>0.6656</td>\n      <td>0.7119</td>\n      <td>0.2654</td>\n      <td>0.4601</td>\n      <td>0.11890</td>\n      <td>NaN</td>\n    </tr>\n    <tr>\n      <th>842517</th>\n      <td>M</td>\n      <td>20.57</td>\n      <td>17.77</td>\n      <td>132.90</td>\n      <td>1326.0</td>\n      <td>0.08474</td>\n      <td>0.07864</td>\n      <td>0.0869</td>\n      <td>0.07017</td>\n      <td>0.1812</td>\n      <td>...</td>\n      <td>23.41</td>\n      <td>158.80</td>\n      <td>1956.0</td>\n      <td>0.1238</td>\n      <td>0.1866</td>\n      <td>0.2416</td>\n      <td>0.1860</td>\n      <td>0.2750</td>\n      <td>0.08902</td>\n      <td>NaN</td>\n    </tr>\n    <tr>\n      <th>84300903</th>\n      <td>M</td>\n      <td>19.69</td>\n      <td>21.25</td>\n      <td>130.00</td>\n      <td>1203.0</td>\n      <td>0.10960</td>\n      <td>0.15990</td>\n      <td>0.1974</td>\n      <td>0.12790</td>\n      <td>0.2069</td>\n      <td>...</td>\n      <td>25.53</td>\n      <td>152.50</td>\n      <td>1709.0</td>\n      <td>0.1444</td>\n      <td>0.4245</td>\n      <td>0.4504</td>\n      <td>0.2430</td>\n      <td>0.3613</td>\n      <td>0.08758</td>\n      <td>NaN</td>\n    </tr>\n    <tr>\n      <th>84348301</th>\n      <td>M</td>\n      <td>11.42</td>\n      <td>20.38</td>\n      <td>77.58</td>\n      <td>386.1</td>\n      <td>0.14250</td>\n      <td>0.28390</td>\n      <td>0.2414</td>\n      <td>0.10520</td>\n      <td>0.2597</td>\n      <td>...</td>\n      <td>26.50</td>\n      <td>98.87</td>\n      <td>567.7</td>\n      <td>0.2098</td>\n      <td>0.8663</td>\n      <td>0.6869</td>\n      <td>0.2575</td>\n      <td>0.6638</td>\n      <td>0.17300</td>\n      <td>NaN</td>\n    </tr>\n    <tr>\n      <th>84358402</th>\n      <td>M</td>\n      <td>20.29</td>\n      <td>14.34</td>\n      <td>135.10</td>\n      <td>1297.0</td>\n      <td>0.10030</td>\n      <td>0.13280</td>\n      <td>0.1980</td>\n      <td>0.10430</td>\n      <td>0.1809</td>\n      <td>...</td>\n      <td>16.67</td>\n      <td>152.20</td>\n      <td>1575.0</td>\n      <td>0.1374</td>\n      <td>0.2050</td>\n      <td>0.4000</td>\n      <td>0.1625</td>\n      <td>0.2364</td>\n      <td>0.07678</td>\n      <td>NaN</td>\n    </tr>\n  </tbody>\n</table>\n<p>5 rows × 32 columns</p>\n</div>"
     },
     "execution_count": 11,
     "metadata": {},
     "output_type": "execute_result"
    }
   ],
   "source": [
    "df_cancer = pd.read_csv('../001-cancer-predict-dataset/data.csv', index_col='id')\n",
    "df_cancer.head()"
   ],
   "metadata": {
    "collapsed": false,
    "pycharm": {
     "name": "#%%\n"
    }
   }
  },
  {
   "cell_type": "markdown",
   "source": [
    "## Quiz #2\n",
    "Use `read_csv()` to read in `powerplant_data.csv` with more descriptive column names based on the description of features on this [website](http://archive.ics.uci.edu/ml/datasets/combined+cycle+power+plant). Then, use `.head()` on your dataframe to see if you've done this correctly. *Hint: Like in the previous quiz, first call `read_csv()` without parameters and then `head()` to see what the data looks like.*"
   ],
   "metadata": {
    "collapsed": false,
    "pycharm": {
     "name": "#%% md\n"
    }
   }
  },
  {
   "cell_type": "code",
   "execution_count": 14,
   "outputs": [
    {
     "data": {
      "text/plain": "   temperature  exhaust_vacuum  ambient_pressure  relative_humidity  \\\n0         8.34           40.77           1010.84              90.01   \n1        23.64           58.49           1011.40              74.20   \n2        29.74           56.90           1007.15              41.91   \n3        19.07           49.69           1007.22              76.79   \n4        11.80           40.66           1017.13              97.20   \n\n   energy_output  \n0         480.48  \n1         445.75  \n2         438.76  \n3         453.09  \n4         464.43  ",
      "text/html": "<div>\n<style scoped>\n    .dataframe tbody tr th:only-of-type {\n        vertical-align: middle;\n    }\n\n    .dataframe tbody tr th {\n        vertical-align: top;\n    }\n\n    .dataframe thead th {\n        text-align: right;\n    }\n</style>\n<table border=\"1\" class=\"dataframe\">\n  <thead>\n    <tr style=\"text-align: right;\">\n      <th></th>\n      <th>temperature</th>\n      <th>exhaust_vacuum</th>\n      <th>ambient_pressure</th>\n      <th>relative_humidity</th>\n      <th>energy_output</th>\n    </tr>\n  </thead>\n  <tbody>\n    <tr>\n      <th>0</th>\n      <td>8.34</td>\n      <td>40.77</td>\n      <td>1010.84</td>\n      <td>90.01</td>\n      <td>480.48</td>\n    </tr>\n    <tr>\n      <th>1</th>\n      <td>23.64</td>\n      <td>58.49</td>\n      <td>1011.40</td>\n      <td>74.20</td>\n      <td>445.75</td>\n    </tr>\n    <tr>\n      <th>2</th>\n      <td>29.74</td>\n      <td>56.90</td>\n      <td>1007.15</td>\n      <td>41.91</td>\n      <td>438.76</td>\n    </tr>\n    <tr>\n      <th>3</th>\n      <td>19.07</td>\n      <td>49.69</td>\n      <td>1007.22</td>\n      <td>76.79</td>\n      <td>453.09</td>\n    </tr>\n    <tr>\n      <th>4</th>\n      <td>11.80</td>\n      <td>40.66</td>\n      <td>1017.13</td>\n      <td>97.20</td>\n      <td>464.43</td>\n    </tr>\n  </tbody>\n</table>\n</div>"
     },
     "execution_count": 14,
     "metadata": {},
     "output_type": "execute_result"
    }
   ],
   "source": [
    "labels = ['temperature', 'exhaust_vacuum', 'ambient_pressure', 'relative_humidity', 'energy_output']\n",
    "df_powerplant = pd.read_csv('../powerplantdata.csv', header=0, names=labels)\n",
    "df_powerplant.head()"
   ],
   "metadata": {
    "collapsed": false,
    "pycharm": {
     "name": "#%%\n"
    }
   }
  },
  {
   "cell_type": "code",
   "execution_count": 17,
   "outputs": [],
   "source": [
    "df_powerplant.to_csv('../powerplant_data_edited.csv', index=False)\n"
   ],
   "metadata": {
    "collapsed": false,
    "pycharm": {
     "name": "#%%\n"
    }
   }
  }
 ],
 "metadata": {
  "kernelspec": {
   "display_name": "Python 3",
   "language": "python",
   "name": "python3"
  },
  "language_info": {
   "codemirror_mode": {
    "name": "ipython",
    "version": 2
   },
   "file_extension": ".py",
   "mimetype": "text/x-python",
   "name": "python",
   "nbconvert_exporter": "python",
   "pygments_lexer": "ipython2",
   "version": "2.7.6"
  }
 },
 "nbformat": 4,
 "nbformat_minor": 0
}