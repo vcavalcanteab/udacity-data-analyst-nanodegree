{
 "cells": [
  {
   "cell_type": "code",
   "execution_count": 7,
   "metadata": {
    "collapsed": true
   },
   "outputs": [
    {
     "data": {
      "text/plain": "         id diagnosis  radius_mean  texture_mean  perimeter_mean  area_mean  \\\n0    842302         M        17.99           NaN          122.80     1001.0   \n1    842517         M        20.57         17.77          132.90     1326.0   \n2  84300903         M        19.69         21.25          130.00     1203.0   \n3  84348301         M        11.42         20.38           77.58      386.1   \n4  84358402         M        20.29         14.34          135.10     1297.0   \n\n   smoothness_mean  compactness_mean  concavity_mean  concave_points_mean  \\\n0          0.11840           0.27760          0.3001              0.14710   \n1          0.08474           0.07864          0.0869              0.07017   \n2          0.10960           0.15990          0.1974              0.12790   \n3              NaN           0.28390          0.2414              0.10520   \n4          0.10030           0.13280          0.1980              0.10430   \n\n   ...  radius_max  texture_max  perimeter_max  area_max  smoothness_max  \\\n0  ...       25.38          NaN         184.60    2019.0          0.1622   \n1  ...       24.99        23.41         158.80    1956.0          0.1238   \n2  ...       23.57        25.53         152.50    1709.0          0.1444   \n3  ...       14.91        26.50          98.87     567.7             NaN   \n4  ...       22.54        16.67         152.20    1575.0          0.1374   \n\n   compactness_max  concavity_max  concave_points_max  symmetry_max  \\\n0           0.6656         0.7119              0.2654        0.4601   \n1           0.1866         0.2416              0.1860        0.2750   \n2           0.4245         0.4504              0.2430        0.3613   \n3           0.8663         0.6869              0.2575        0.6638   \n4           0.2050         0.4000              0.1625        0.2364   \n\n   fractal_dimension_max  \n0                0.11890  \n1                0.08902  \n2                0.08758  \n3                0.17300  \n4                0.07678  \n\n[5 rows x 32 columns]",
      "text/html": "<div>\n<style scoped>\n    .dataframe tbody tr th:only-of-type {\n        vertical-align: middle;\n    }\n\n    .dataframe tbody tr th {\n        vertical-align: top;\n    }\n\n    .dataframe thead th {\n        text-align: right;\n    }\n</style>\n<table border=\"1\" class=\"dataframe\">\n  <thead>\n    <tr style=\"text-align: right;\">\n      <th></th>\n      <th>id</th>\n      <th>diagnosis</th>\n      <th>radius_mean</th>\n      <th>texture_mean</th>\n      <th>perimeter_mean</th>\n      <th>area_mean</th>\n      <th>smoothness_mean</th>\n      <th>compactness_mean</th>\n      <th>concavity_mean</th>\n      <th>concave_points_mean</th>\n      <th>...</th>\n      <th>radius_max</th>\n      <th>texture_max</th>\n      <th>perimeter_max</th>\n      <th>area_max</th>\n      <th>smoothness_max</th>\n      <th>compactness_max</th>\n      <th>concavity_max</th>\n      <th>concave_points_max</th>\n      <th>symmetry_max</th>\n      <th>fractal_dimension_max</th>\n    </tr>\n  </thead>\n  <tbody>\n    <tr>\n      <th>0</th>\n      <td>842302</td>\n      <td>M</td>\n      <td>17.99</td>\n      <td>NaN</td>\n      <td>122.80</td>\n      <td>1001.0</td>\n      <td>0.11840</td>\n      <td>0.27760</td>\n      <td>0.3001</td>\n      <td>0.14710</td>\n      <td>...</td>\n      <td>25.38</td>\n      <td>NaN</td>\n      <td>184.60</td>\n      <td>2019.0</td>\n      <td>0.1622</td>\n      <td>0.6656</td>\n      <td>0.7119</td>\n      <td>0.2654</td>\n      <td>0.4601</td>\n      <td>0.11890</td>\n    </tr>\n    <tr>\n      <th>1</th>\n      <td>842517</td>\n      <td>M</td>\n      <td>20.57</td>\n      <td>17.77</td>\n      <td>132.90</td>\n      <td>1326.0</td>\n      <td>0.08474</td>\n      <td>0.07864</td>\n      <td>0.0869</td>\n      <td>0.07017</td>\n      <td>...</td>\n      <td>24.99</td>\n      <td>23.41</td>\n      <td>158.80</td>\n      <td>1956.0</td>\n      <td>0.1238</td>\n      <td>0.1866</td>\n      <td>0.2416</td>\n      <td>0.1860</td>\n      <td>0.2750</td>\n      <td>0.08902</td>\n    </tr>\n    <tr>\n      <th>2</th>\n      <td>84300903</td>\n      <td>M</td>\n      <td>19.69</td>\n      <td>21.25</td>\n      <td>130.00</td>\n      <td>1203.0</td>\n      <td>0.10960</td>\n      <td>0.15990</td>\n      <td>0.1974</td>\n      <td>0.12790</td>\n      <td>...</td>\n      <td>23.57</td>\n      <td>25.53</td>\n      <td>152.50</td>\n      <td>1709.0</td>\n      <td>0.1444</td>\n      <td>0.4245</td>\n      <td>0.4504</td>\n      <td>0.2430</td>\n      <td>0.3613</td>\n      <td>0.08758</td>\n    </tr>\n    <tr>\n      <th>3</th>\n      <td>84348301</td>\n      <td>M</td>\n      <td>11.42</td>\n      <td>20.38</td>\n      <td>77.58</td>\n      <td>386.1</td>\n      <td>NaN</td>\n      <td>0.28390</td>\n      <td>0.2414</td>\n      <td>0.10520</td>\n      <td>...</td>\n      <td>14.91</td>\n      <td>26.50</td>\n      <td>98.87</td>\n      <td>567.7</td>\n      <td>NaN</td>\n      <td>0.8663</td>\n      <td>0.6869</td>\n      <td>0.2575</td>\n      <td>0.6638</td>\n      <td>0.17300</td>\n    </tr>\n    <tr>\n      <th>4</th>\n      <td>84358402</td>\n      <td>M</td>\n      <td>20.29</td>\n      <td>14.34</td>\n      <td>135.10</td>\n      <td>1297.0</td>\n      <td>0.10030</td>\n      <td>0.13280</td>\n      <td>0.1980</td>\n      <td>0.10430</td>\n      <td>...</td>\n      <td>22.54</td>\n      <td>16.67</td>\n      <td>152.20</td>\n      <td>1575.0</td>\n      <td>0.1374</td>\n      <td>0.2050</td>\n      <td>0.4000</td>\n      <td>0.1625</td>\n      <td>0.2364</td>\n      <td>0.07678</td>\n    </tr>\n  </tbody>\n</table>\n<p>5 rows × 32 columns</p>\n</div>"
     },
     "execution_count": 7,
     "metadata": {},
     "output_type": "execute_result"
    }
   ],
   "source": [
    "import pandas as pd\n",
    "\n",
    "df = pd.read_csv('../cancer_data.csv')\n",
    "df.head()\n"
   ]
  },
  {
   "cell_type": "markdown",
   "source": [
    "## Shape to view tuple of dimensions\n"
   ],
   "metadata": {
    "collapsed": false,
    "pycharm": {
     "name": "#%% md\n"
    }
   }
  },
  {
   "cell_type": "code",
   "execution_count": 8,
   "outputs": [
    {
     "data": {
      "text/plain": "(569, 32)"
     },
     "execution_count": 8,
     "metadata": {},
     "output_type": "execute_result"
    }
   ],
   "source": [
    "df.shape\n"
   ],
   "metadata": {
    "collapsed": false,
    "pycharm": {
     "name": "#%%\n"
    }
   }
  },
  {
   "cell_type": "markdown",
   "source": [
    "## Dtypes to view datatypes of the columns\n"
   ],
   "metadata": {
    "collapsed": false,
    "pycharm": {
     "name": "#%% md\n"
    }
   }
  },
  {
   "cell_type": "code",
   "execution_count": 9,
   "outputs": [
    {
     "data": {
      "text/plain": "id                          int64\ndiagnosis                  object\nradius_mean               float64\ntexture_mean              float64\nperimeter_mean            float64\narea_mean                 float64\nsmoothness_mean           float64\ncompactness_mean          float64\nconcavity_mean            float64\nconcave_points_mean       float64\nsymmetry_mean             float64\nfractal_dimension_mean    float64\nradius_SE                 float64\ntexture_SE                float64\nperimeter_SE              float64\narea_SE                   float64\nsmoothness_SE             float64\ncompactness_SE            float64\nconcavity_SE              float64\nconcave_points_SE         float64\nsymmetry_SE               float64\nfractal_dimension_SE      float64\nradius_max                float64\ntexture_max               float64\nperimeter_max             float64\narea_max                  float64\nsmoothness_max            float64\ncompactness_max           float64\nconcavity_max             float64\nconcave_points_max        float64\nsymmetry_max              float64\nfractal_dimension_max     float64\ndtype: object"
     },
     "execution_count": 9,
     "metadata": {},
     "output_type": "execute_result"
    }
   ],
   "source": [
    "df.dtypes\n"
   ],
   "metadata": {
    "collapsed": false,
    "pycharm": {
     "name": "#%%\n"
    }
   }
  },
  {
   "cell_type": "markdown",
   "source": [
    "## Info to view a summary and non-null values in columns\n"
   ],
   "metadata": {
    "collapsed": false,
    "pycharm": {
     "name": "#%% md\n"
    }
   }
  },
  {
   "cell_type": "code",
   "execution_count": 10,
   "outputs": [
    {
     "name": "stdout",
     "output_type": "stream",
     "text": [
      "<class 'pandas.core.frame.DataFrame'>\n",
      "RangeIndex: 569 entries, 0 to 568\n",
      "Data columns (total 32 columns):\n",
      " #   Column                  Non-Null Count  Dtype  \n",
      "---  ------                  --------------  -----  \n",
      " 0   id                      569 non-null    int64  \n",
      " 1   diagnosis               569 non-null    object \n",
      " 2   radius_mean             569 non-null    float64\n",
      " 3   texture_mean            548 non-null    float64\n",
      " 4   perimeter_mean          569 non-null    float64\n",
      " 5   area_mean               569 non-null    float64\n",
      " 6   smoothness_mean         521 non-null    float64\n",
      " 7   compactness_mean        569 non-null    float64\n",
      " 8   concavity_mean          569 non-null    float64\n",
      " 9   concave_points_mean     569 non-null    float64\n",
      " 10  symmetry_mean           504 non-null    float64\n",
      " 11  fractal_dimension_mean  569 non-null    float64\n",
      " 12  radius_SE               569 non-null    float64\n",
      " 13  texture_SE              548 non-null    float64\n",
      " 14  perimeter_SE            569 non-null    float64\n",
      " 15  area_SE                 569 non-null    float64\n",
      " 16  smoothness_SE           521 non-null    float64\n",
      " 17  compactness_SE          569 non-null    float64\n",
      " 18  concavity_SE            569 non-null    float64\n",
      " 19  concave_points_SE       569 non-null    float64\n",
      " 20  symmetry_SE             504 non-null    float64\n",
      " 21  fractal_dimension_SE    569 non-null    float64\n",
      " 22  radius_max              569 non-null    float64\n",
      " 23  texture_max             548 non-null    float64\n",
      " 24  perimeter_max           569 non-null    float64\n",
      " 25  area_max                569 non-null    float64\n",
      " 26  smoothness_max          521 non-null    float64\n",
      " 27  compactness_max         569 non-null    float64\n",
      " 28  concavity_max           569 non-null    float64\n",
      " 29  concave_points_max      569 non-null    float64\n",
      " 30  symmetry_max            504 non-null    float64\n",
      " 31  fractal_dimension_max   569 non-null    float64\n",
      "dtypes: float64(30), int64(1), object(1)\n",
      "memory usage: 142.4+ KB\n"
     ]
    }
   ],
   "source": [
    "df.info()\n"
   ],
   "metadata": {
    "collapsed": false,
    "pycharm": {
     "name": "#%%\n"
    }
   }
  },
  {
   "cell_type": "markdown",
   "source": [
    "## Nunique to view unique values per column\n"
   ],
   "metadata": {
    "collapsed": false,
    "pycharm": {
     "name": "#%% md\n"
    }
   }
  },
  {
   "cell_type": "code",
   "execution_count": 11,
   "outputs": [
    {
     "data": {
      "text/plain": "id                        562\ndiagnosis                   2\nradius_mean               451\ntexture_mean              459\nperimeter_mean            516\narea_mean                 532\nsmoothness_mean           434\ncompactness_mean          530\nconcavity_mean            530\nconcave_points_mean       536\nsymmetry_mean             394\nfractal_dimension_mean    494\nradius_SE                 535\ntexture_SE                499\nperimeter_SE              526\narea_SE                   523\nsmoothness_SE             495\ncompactness_SE            534\nconcavity_SE              526\nconcave_points_SE         500\nsymmetry_SE               438\nfractal_dimension_SE      539\nradius_max                452\ntexture_max               490\nperimeter_max             510\narea_max                  537\nsmoothness_max            378\ncompactness_max           523\nconcavity_max             532\nconcave_points_max        485\nsymmetry_max              449\nfractal_dimension_max     530\ndtype: int64"
     },
     "execution_count": 11,
     "metadata": {},
     "output_type": "execute_result"
    }
   ],
   "source": [
    "df.nunique()\n"
   ],
   "metadata": {
    "collapsed": false,
    "pycharm": {
     "name": "#%%\n"
    }
   }
  },
  {
   "cell_type": "markdown",
   "source": [
    "## Describe to view useful descriptive statistics per quantitative column\n"
   ],
   "metadata": {
    "collapsed": false,
    "pycharm": {
     "name": "#%% md\n"
    }
   }
  },
  {
   "cell_type": "code",
   "execution_count": 12,
   "outputs": [
    {
     "data": {
      "text/plain": "                 id  radius_mean  texture_mean  perimeter_mean    area_mean  \\\ncount  5.690000e+02   569.000000    548.000000      569.000000   569.000000   \nmean   3.051467e+07    14.113021     19.293431       91.877909   653.288576   \nstd    1.250417e+08     3.506148      4.327287       24.162787   349.476899   \nmin    8.670000e+03     6.981000      9.710000       43.790000   143.500000   \n25%    8.691040e+05    11.700000     16.167500       75.170000   420.300000   \n50%    9.060240e+05    13.370000     18.785000       86.340000   551.100000   \n75%    8.910251e+06    15.780000     21.825000      103.800000   782.700000   \nmax    9.113205e+08    28.110000     39.280000      188.500000  2501.000000   \n\n       smoothness_mean  compactness_mean  concavity_mean  concave_points_mean  \\\ncount       521.000000        569.000000      569.000000           569.000000   \nmean          0.096087          0.104536        0.088620             0.048837   \nstd           0.013924          0.052674        0.079011             0.038578   \nmin           0.052630          0.019380        0.000000             0.000000   \n25%           0.086050          0.065260        0.029560             0.020360   \n50%           0.095780          0.094530        0.061550             0.033700   \n75%           0.104800          0.130500        0.131900             0.074040   \nmax           0.163400          0.345400        0.426800             0.201200   \n\n       symmetry_mean  ...  radius_max  texture_max  perimeter_max  \\\ncount     504.000000  ...  569.000000   548.000000     569.000000   \nmean        0.181091  ...   16.261896    25.660803     107.211142   \nstd         0.027899  ...    4.841175     6.202916      33.621975   \nmin         0.106000  ...    7.930000    12.020000      50.410000   \n25%         0.161800  ...   13.010000    21.017500      84.110000   \n50%         0.178950  ...   14.970000    25.370000      97.650000   \n75%         0.195750  ...   18.760000    29.675000     125.100000   \nmax         0.304000  ...   36.040000    49.540000     251.200000   \n\n          area_max  smoothness_max  compactness_max  concavity_max  \\\ncount   569.000000      521.000000       569.000000     569.000000   \nmean    880.163796        0.132090         0.254557       0.271681   \nstd     570.498628        0.022685         0.158042       0.208298   \nmin     185.200000        0.071170         0.027290       0.000000   \n25%     515.300000        0.116600         0.146000       0.112500   \n50%     686.500000        0.131200         0.211900       0.226700   \n75%    1070.000000        0.145000         0.339900       0.385300   \nmax    4254.000000        0.222600         1.058000       1.252000   \n\n       concave_points_max  symmetry_max  fractal_dimension_max  \ncount          569.000000    504.000000             569.000000  \nmean             0.114377      0.288856               0.084012  \nstd              0.065760      0.062520               0.018151  \nmin              0.000000      0.156500               0.055040  \n25%              0.064020      0.247650               0.071270  \n50%              0.100100      0.280650               0.080040  \n75%              0.162500      0.317525               0.092110  \nmax              0.291000      0.663800               0.207500  \n\n[8 rows x 31 columns]",
      "text/html": "<div>\n<style scoped>\n    .dataframe tbody tr th:only-of-type {\n        vertical-align: middle;\n    }\n\n    .dataframe tbody tr th {\n        vertical-align: top;\n    }\n\n    .dataframe thead th {\n        text-align: right;\n    }\n</style>\n<table border=\"1\" class=\"dataframe\">\n  <thead>\n    <tr style=\"text-align: right;\">\n      <th></th>\n      <th>id</th>\n      <th>radius_mean</th>\n      <th>texture_mean</th>\n      <th>perimeter_mean</th>\n      <th>area_mean</th>\n      <th>smoothness_mean</th>\n      <th>compactness_mean</th>\n      <th>concavity_mean</th>\n      <th>concave_points_mean</th>\n      <th>symmetry_mean</th>\n      <th>...</th>\n      <th>radius_max</th>\n      <th>texture_max</th>\n      <th>perimeter_max</th>\n      <th>area_max</th>\n      <th>smoothness_max</th>\n      <th>compactness_max</th>\n      <th>concavity_max</th>\n      <th>concave_points_max</th>\n      <th>symmetry_max</th>\n      <th>fractal_dimension_max</th>\n    </tr>\n  </thead>\n  <tbody>\n    <tr>\n      <th>count</th>\n      <td>5.690000e+02</td>\n      <td>569.000000</td>\n      <td>548.000000</td>\n      <td>569.000000</td>\n      <td>569.000000</td>\n      <td>521.000000</td>\n      <td>569.000000</td>\n      <td>569.000000</td>\n      <td>569.000000</td>\n      <td>504.000000</td>\n      <td>...</td>\n      <td>569.000000</td>\n      <td>548.000000</td>\n      <td>569.000000</td>\n      <td>569.000000</td>\n      <td>521.000000</td>\n      <td>569.000000</td>\n      <td>569.000000</td>\n      <td>569.000000</td>\n      <td>504.000000</td>\n      <td>569.000000</td>\n    </tr>\n    <tr>\n      <th>mean</th>\n      <td>3.051467e+07</td>\n      <td>14.113021</td>\n      <td>19.293431</td>\n      <td>91.877909</td>\n      <td>653.288576</td>\n      <td>0.096087</td>\n      <td>0.104536</td>\n      <td>0.088620</td>\n      <td>0.048837</td>\n      <td>0.181091</td>\n      <td>...</td>\n      <td>16.261896</td>\n      <td>25.660803</td>\n      <td>107.211142</td>\n      <td>880.163796</td>\n      <td>0.132090</td>\n      <td>0.254557</td>\n      <td>0.271681</td>\n      <td>0.114377</td>\n      <td>0.288856</td>\n      <td>0.084012</td>\n    </tr>\n    <tr>\n      <th>std</th>\n      <td>1.250417e+08</td>\n      <td>3.506148</td>\n      <td>4.327287</td>\n      <td>24.162787</td>\n      <td>349.476899</td>\n      <td>0.013924</td>\n      <td>0.052674</td>\n      <td>0.079011</td>\n      <td>0.038578</td>\n      <td>0.027899</td>\n      <td>...</td>\n      <td>4.841175</td>\n      <td>6.202916</td>\n      <td>33.621975</td>\n      <td>570.498628</td>\n      <td>0.022685</td>\n      <td>0.158042</td>\n      <td>0.208298</td>\n      <td>0.065760</td>\n      <td>0.062520</td>\n      <td>0.018151</td>\n    </tr>\n    <tr>\n      <th>min</th>\n      <td>8.670000e+03</td>\n      <td>6.981000</td>\n      <td>9.710000</td>\n      <td>43.790000</td>\n      <td>143.500000</td>\n      <td>0.052630</td>\n      <td>0.019380</td>\n      <td>0.000000</td>\n      <td>0.000000</td>\n      <td>0.106000</td>\n      <td>...</td>\n      <td>7.930000</td>\n      <td>12.020000</td>\n      <td>50.410000</td>\n      <td>185.200000</td>\n      <td>0.071170</td>\n      <td>0.027290</td>\n      <td>0.000000</td>\n      <td>0.000000</td>\n      <td>0.156500</td>\n      <td>0.055040</td>\n    </tr>\n    <tr>\n      <th>25%</th>\n      <td>8.691040e+05</td>\n      <td>11.700000</td>\n      <td>16.167500</td>\n      <td>75.170000</td>\n      <td>420.300000</td>\n      <td>0.086050</td>\n      <td>0.065260</td>\n      <td>0.029560</td>\n      <td>0.020360</td>\n      <td>0.161800</td>\n      <td>...</td>\n      <td>13.010000</td>\n      <td>21.017500</td>\n      <td>84.110000</td>\n      <td>515.300000</td>\n      <td>0.116600</td>\n      <td>0.146000</td>\n      <td>0.112500</td>\n      <td>0.064020</td>\n      <td>0.247650</td>\n      <td>0.071270</td>\n    </tr>\n    <tr>\n      <th>50%</th>\n      <td>9.060240e+05</td>\n      <td>13.370000</td>\n      <td>18.785000</td>\n      <td>86.340000</td>\n      <td>551.100000</td>\n      <td>0.095780</td>\n      <td>0.094530</td>\n      <td>0.061550</td>\n      <td>0.033700</td>\n      <td>0.178950</td>\n      <td>...</td>\n      <td>14.970000</td>\n      <td>25.370000</td>\n      <td>97.650000</td>\n      <td>686.500000</td>\n      <td>0.131200</td>\n      <td>0.211900</td>\n      <td>0.226700</td>\n      <td>0.100100</td>\n      <td>0.280650</td>\n      <td>0.080040</td>\n    </tr>\n    <tr>\n      <th>75%</th>\n      <td>8.910251e+06</td>\n      <td>15.780000</td>\n      <td>21.825000</td>\n      <td>103.800000</td>\n      <td>782.700000</td>\n      <td>0.104800</td>\n      <td>0.130500</td>\n      <td>0.131900</td>\n      <td>0.074040</td>\n      <td>0.195750</td>\n      <td>...</td>\n      <td>18.760000</td>\n      <td>29.675000</td>\n      <td>125.100000</td>\n      <td>1070.000000</td>\n      <td>0.145000</td>\n      <td>0.339900</td>\n      <td>0.385300</td>\n      <td>0.162500</td>\n      <td>0.317525</td>\n      <td>0.092110</td>\n    </tr>\n    <tr>\n      <th>max</th>\n      <td>9.113205e+08</td>\n      <td>28.110000</td>\n      <td>39.280000</td>\n      <td>188.500000</td>\n      <td>2501.000000</td>\n      <td>0.163400</td>\n      <td>0.345400</td>\n      <td>0.426800</td>\n      <td>0.201200</td>\n      <td>0.304000</td>\n      <td>...</td>\n      <td>36.040000</td>\n      <td>49.540000</td>\n      <td>251.200000</td>\n      <td>4254.000000</td>\n      <td>0.222600</td>\n      <td>1.058000</td>\n      <td>1.252000</td>\n      <td>0.291000</td>\n      <td>0.663800</td>\n      <td>0.207500</td>\n    </tr>\n  </tbody>\n</table>\n<p>8 rows × 31 columns</p>\n</div>"
     },
     "execution_count": 12,
     "metadata": {},
     "output_type": "execute_result"
    }
   ],
   "source": [
    "df.describe()\n"
   ],
   "metadata": {
    "collapsed": false,
    "pycharm": {
     "name": "#%%\n"
    }
   }
  },
  {
   "cell_type": "markdown",
   "source": [
    "## Indexing and Selecting Data in Pandas\n"
   ],
   "metadata": {
    "collapsed": false,
    "pycharm": {
     "name": "#%% md\n"
    }
   }
  },
  {
   "cell_type": "code",
   "execution_count": 18,
   "outputs": [
    {
     "name": "stdout",
     "output_type": "stream",
     "text": [
      "0 id\n",
      "1 diagnosis\n",
      "2 radius_mean\n",
      "3 texture_mean\n",
      "4 perimeter_mean\n",
      "5 area_mean\n",
      "6 smoothness_mean\n",
      "7 compactness_mean\n",
      "8 concavity_mean\n",
      "9 concave_points_mean\n",
      "10 symmetry_mean\n",
      "11 fractal_dimension_mean\n",
      "12 radius_SE\n",
      "13 texture_SE\n",
      "14 perimeter_SE\n",
      "15 area_SE\n",
      "16 smoothness_SE\n",
      "17 compactness_SE\n",
      "18 concavity_SE\n",
      "19 concave_points_SE\n",
      "20 symmetry_SE\n",
      "21 fractal_dimension_SE\n",
      "22 radius_max\n",
      "23 texture_max\n",
      "24 perimeter_max\n",
      "25 area_max\n",
      "26 smoothness_max\n",
      "27 compactness_max\n",
      "28 concavity_max\n",
      "29 concave_points_max\n",
      "30 symmetry_max\n",
      "31 fractal_dimension_max\n"
     ]
    }
   ],
   "source": [
    "for index, column in enumerate(df.columns):\n",
    "    print(index, column)"
   ],
   "metadata": {
    "collapsed": false,
    "pycharm": {
     "name": "#%%\n"
    }
   }
  },
  {
   "cell_type": "markdown",
   "source": [
    "## Selecting columns using loc\n"
   ],
   "metadata": {
    "collapsed": false,
    "pycharm": {
     "name": "#%% md\n"
    }
   }
  },
  {
   "cell_type": "code",
   "execution_count": 19,
   "outputs": [
    {
     "data": {
      "text/plain": "         id diagnosis  radius_mean  texture_mean  perimeter_mean  area_mean  \\\n0    842302         M        17.99           NaN          122.80     1001.0   \n1    842517         M        20.57         17.77          132.90     1326.0   \n2  84300903         M        19.69         21.25          130.00     1203.0   \n3  84348301         M        11.42         20.38           77.58      386.1   \n4  84358402         M        20.29         14.34          135.10     1297.0   \n\n   smoothness_mean  compactness_mean  concavity_mean  concave_points_mean  \\\n0          0.11840           0.27760          0.3001              0.14710   \n1          0.08474           0.07864          0.0869              0.07017   \n2          0.10960           0.15990          0.1974              0.12790   \n3              NaN           0.28390          0.2414              0.10520   \n4          0.10030           0.13280          0.1980              0.10430   \n\n   symmetry_mean  fractal_dimension_mean  \n0         0.2419                 0.07871  \n1         0.1812                 0.05667  \n2         0.2069                 0.05999  \n3         0.2597                 0.09744  \n4         0.1809                 0.05883  ",
      "text/html": "<div>\n<style scoped>\n    .dataframe tbody tr th:only-of-type {\n        vertical-align: middle;\n    }\n\n    .dataframe tbody tr th {\n        vertical-align: top;\n    }\n\n    .dataframe thead th {\n        text-align: right;\n    }\n</style>\n<table border=\"1\" class=\"dataframe\">\n  <thead>\n    <tr style=\"text-align: right;\">\n      <th></th>\n      <th>id</th>\n      <th>diagnosis</th>\n      <th>radius_mean</th>\n      <th>texture_mean</th>\n      <th>perimeter_mean</th>\n      <th>area_mean</th>\n      <th>smoothness_mean</th>\n      <th>compactness_mean</th>\n      <th>concavity_mean</th>\n      <th>concave_points_mean</th>\n      <th>symmetry_mean</th>\n      <th>fractal_dimension_mean</th>\n    </tr>\n  </thead>\n  <tbody>\n    <tr>\n      <th>0</th>\n      <td>842302</td>\n      <td>M</td>\n      <td>17.99</td>\n      <td>NaN</td>\n      <td>122.80</td>\n      <td>1001.0</td>\n      <td>0.11840</td>\n      <td>0.27760</td>\n      <td>0.3001</td>\n      <td>0.14710</td>\n      <td>0.2419</td>\n      <td>0.07871</td>\n    </tr>\n    <tr>\n      <th>1</th>\n      <td>842517</td>\n      <td>M</td>\n      <td>20.57</td>\n      <td>17.77</td>\n      <td>132.90</td>\n      <td>1326.0</td>\n      <td>0.08474</td>\n      <td>0.07864</td>\n      <td>0.0869</td>\n      <td>0.07017</td>\n      <td>0.1812</td>\n      <td>0.05667</td>\n    </tr>\n    <tr>\n      <th>2</th>\n      <td>84300903</td>\n      <td>M</td>\n      <td>19.69</td>\n      <td>21.25</td>\n      <td>130.00</td>\n      <td>1203.0</td>\n      <td>0.10960</td>\n      <td>0.15990</td>\n      <td>0.1974</td>\n      <td>0.12790</td>\n      <td>0.2069</td>\n      <td>0.05999</td>\n    </tr>\n    <tr>\n      <th>3</th>\n      <td>84348301</td>\n      <td>M</td>\n      <td>11.42</td>\n      <td>20.38</td>\n      <td>77.58</td>\n      <td>386.1</td>\n      <td>NaN</td>\n      <td>0.28390</td>\n      <td>0.2414</td>\n      <td>0.10520</td>\n      <td>0.2597</td>\n      <td>0.09744</td>\n    </tr>\n    <tr>\n      <th>4</th>\n      <td>84358402</td>\n      <td>M</td>\n      <td>20.29</td>\n      <td>14.34</td>\n      <td>135.10</td>\n      <td>1297.0</td>\n      <td>0.10030</td>\n      <td>0.13280</td>\n      <td>0.1980</td>\n      <td>0.10430</td>\n      <td>0.1809</td>\n      <td>0.05883</td>\n    </tr>\n  </tbody>\n</table>\n</div>"
     },
     "execution_count": 19,
     "metadata": {},
     "output_type": "execute_result"
    }
   ],
   "source": [
    "df_means = df.loc[:, 'id': 'fractal_dimension_mean']\n",
    "df_means.head()\n"
   ],
   "metadata": {
    "collapsed": false,
    "pycharm": {
     "name": "#%%\n"
    }
   }
  },
  {
   "cell_type": "markdown",
   "source": [
    "## Selecting columns using iloc\n"
   ],
   "metadata": {
    "collapsed": false,
    "pycharm": {
     "name": "#%% md\n"
    }
   }
  },
  {
   "cell_type": "code",
   "execution_count": 20,
   "outputs": [
    {
     "data": {
      "text/plain": "         id diagnosis  radius_mean  texture_mean  perimeter_mean  area_mean  \\\n0    842302         M        17.99           NaN          122.80     1001.0   \n1    842517         M        20.57         17.77          132.90     1326.0   \n2  84300903         M        19.69         21.25          130.00     1203.0   \n3  84348301         M        11.42         20.38           77.58      386.1   \n4  84358402         M        20.29         14.34          135.10     1297.0   \n\n   smoothness_mean  compactness_mean  concavity_mean  concave_points_mean  \\\n0          0.11840           0.27760          0.3001              0.14710   \n1          0.08474           0.07864          0.0869              0.07017   \n2          0.10960           0.15990          0.1974              0.12790   \n3              NaN           0.28390          0.2414              0.10520   \n4          0.10030           0.13280          0.1980              0.10430   \n\n   symmetry_mean  fractal_dimension_mean  \n0         0.2419                 0.07871  \n1         0.1812                 0.05667  \n2         0.2069                 0.05999  \n3         0.2597                 0.09744  \n4         0.1809                 0.05883  ",
      "text/html": "<div>\n<style scoped>\n    .dataframe tbody tr th:only-of-type {\n        vertical-align: middle;\n    }\n\n    .dataframe tbody tr th {\n        vertical-align: top;\n    }\n\n    .dataframe thead th {\n        text-align: right;\n    }\n</style>\n<table border=\"1\" class=\"dataframe\">\n  <thead>\n    <tr style=\"text-align: right;\">\n      <th></th>\n      <th>id</th>\n      <th>diagnosis</th>\n      <th>radius_mean</th>\n      <th>texture_mean</th>\n      <th>perimeter_mean</th>\n      <th>area_mean</th>\n      <th>smoothness_mean</th>\n      <th>compactness_mean</th>\n      <th>concavity_mean</th>\n      <th>concave_points_mean</th>\n      <th>symmetry_mean</th>\n      <th>fractal_dimension_mean</th>\n    </tr>\n  </thead>\n  <tbody>\n    <tr>\n      <th>0</th>\n      <td>842302</td>\n      <td>M</td>\n      <td>17.99</td>\n      <td>NaN</td>\n      <td>122.80</td>\n      <td>1001.0</td>\n      <td>0.11840</td>\n      <td>0.27760</td>\n      <td>0.3001</td>\n      <td>0.14710</td>\n      <td>0.2419</td>\n      <td>0.07871</td>\n    </tr>\n    <tr>\n      <th>1</th>\n      <td>842517</td>\n      <td>M</td>\n      <td>20.57</td>\n      <td>17.77</td>\n      <td>132.90</td>\n      <td>1326.0</td>\n      <td>0.08474</td>\n      <td>0.07864</td>\n      <td>0.0869</td>\n      <td>0.07017</td>\n      <td>0.1812</td>\n      <td>0.05667</td>\n    </tr>\n    <tr>\n      <th>2</th>\n      <td>84300903</td>\n      <td>M</td>\n      <td>19.69</td>\n      <td>21.25</td>\n      <td>130.00</td>\n      <td>1203.0</td>\n      <td>0.10960</td>\n      <td>0.15990</td>\n      <td>0.1974</td>\n      <td>0.12790</td>\n      <td>0.2069</td>\n      <td>0.05999</td>\n    </tr>\n    <tr>\n      <th>3</th>\n      <td>84348301</td>\n      <td>M</td>\n      <td>11.42</td>\n      <td>20.38</td>\n      <td>77.58</td>\n      <td>386.1</td>\n      <td>NaN</td>\n      <td>0.28390</td>\n      <td>0.2414</td>\n      <td>0.10520</td>\n      <td>0.2597</td>\n      <td>0.09744</td>\n    </tr>\n    <tr>\n      <th>4</th>\n      <td>84358402</td>\n      <td>M</td>\n      <td>20.29</td>\n      <td>14.34</td>\n      <td>135.10</td>\n      <td>1297.0</td>\n      <td>0.10030</td>\n      <td>0.13280</td>\n      <td>0.1980</td>\n      <td>0.10430</td>\n      <td>0.1809</td>\n      <td>0.05883</td>\n    </tr>\n  </tbody>\n</table>\n</div>"
     },
     "execution_count": 20,
     "metadata": {},
     "output_type": "execute_result"
    }
   ],
   "source": [
    "df_means = df.iloc[:, :12]\n",
    "df_means.head()\n"
   ],
   "metadata": {
    "collapsed": false,
    "pycharm": {
     "name": "#%%\n"
    }
   }
  },
  {
   "cell_type": "code",
   "execution_count": 21,
   "outputs": [],
   "source": [
    "df_means.to_csv('../cancer_data_means.csv', index=False)"
   ],
   "metadata": {
    "collapsed": false,
    "pycharm": {
     "name": "#%%\n"
    }
   }
  },
  {
   "cell_type": "code",
   "execution_count": 22,
   "outputs": [
    {
     "name": "stdout",
     "output_type": "stream",
     "text": [
      "0 id\n",
      "1 diagnosis\n",
      "2 radius_mean\n",
      "3 texture_mean\n",
      "4 perimeter_mean\n",
      "5 area_mean\n",
      "6 smoothness_mean\n",
      "7 compactness_mean\n",
      "8 concavity_mean\n",
      "9 concave_points_mean\n",
      "10 symmetry_mean\n",
      "11 fractal_dimension_mean\n",
      "12 radius_SE\n",
      "13 texture_SE\n",
      "14 perimeter_SE\n",
      "15 area_SE\n",
      "16 smoothness_SE\n",
      "17 compactness_SE\n",
      "18 concavity_SE\n",
      "19 concave_points_SE\n",
      "20 symmetry_SE\n",
      "21 fractal_dimension_SE\n",
      "22 radius_max\n",
      "23 texture_max\n",
      "24 perimeter_max\n",
      "25 area_max\n",
      "26 smoothness_max\n",
      "27 compactness_max\n",
      "28 concavity_max\n",
      "29 concave_points_max\n",
      "30 symmetry_max\n",
      "31 fractal_dimension_max\n"
     ]
    }
   ],
   "source": [
    "for index, column in enumerate(df.columns):\n",
    "    print(index, column)\n"
   ],
   "metadata": {
    "collapsed": false,
    "pycharm": {
     "name": "#%%\n"
    }
   }
  },
  {
   "cell_type": "markdown",
   "source": [
    "## Selecting Multiple Ranges in Pandas\n"
   ],
   "metadata": {
    "collapsed": false,
    "pycharm": {
     "name": "#%% md\n"
    }
   }
  },
  {
   "cell_type": "code",
   "execution_count": 25,
   "outputs": [
    {
     "name": "stdout",
     "output_type": "stream",
     "text": [
      "[ 0 12 13 14 15 16 17 18 19 20 21]\n",
      "<class 'numpy.ndarray'>\n"
     ]
    },
    {
     "data": {
      "text/plain": "         id  radius_SE  texture_SE  perimeter_SE  area_SE  smoothness_SE  \\\n0    842302     1.0950         NaN         8.589   153.40       0.006399   \n1    842517     0.5435      0.7339         3.398    74.08       0.005225   \n2  84300903     0.7456      0.7869         4.585    94.03       0.006150   \n3  84348301     0.4956      1.1560         3.445    27.23            NaN   \n4  84358402     0.7572      0.7813         5.438    94.44       0.011490   \n\n   compactness_SE  concavity_SE  concave_points_SE  symmetry_SE  \\\n0         0.04904       0.05373            0.01587      0.03003   \n1         0.01308       0.01860            0.01340      0.01389   \n2         0.04006       0.03832            0.02058      0.02250   \n3         0.07458       0.05661            0.01867      0.05963   \n4         0.02461       0.05688            0.01885      0.01756   \n\n   fractal_dimension_SE  \n0              0.006193  \n1              0.003532  \n2              0.004571  \n3              0.009208  \n4              0.005115  ",
      "text/html": "<div>\n<style scoped>\n    .dataframe tbody tr th:only-of-type {\n        vertical-align: middle;\n    }\n\n    .dataframe tbody tr th {\n        vertical-align: top;\n    }\n\n    .dataframe thead th {\n        text-align: right;\n    }\n</style>\n<table border=\"1\" class=\"dataframe\">\n  <thead>\n    <tr style=\"text-align: right;\">\n      <th></th>\n      <th>id</th>\n      <th>radius_SE</th>\n      <th>texture_SE</th>\n      <th>perimeter_SE</th>\n      <th>area_SE</th>\n      <th>smoothness_SE</th>\n      <th>compactness_SE</th>\n      <th>concavity_SE</th>\n      <th>concave_points_SE</th>\n      <th>symmetry_SE</th>\n      <th>fractal_dimension_SE</th>\n    </tr>\n  </thead>\n  <tbody>\n    <tr>\n      <th>0</th>\n      <td>842302</td>\n      <td>1.0950</td>\n      <td>NaN</td>\n      <td>8.589</td>\n      <td>153.40</td>\n      <td>0.006399</td>\n      <td>0.04904</td>\n      <td>0.05373</td>\n      <td>0.01587</td>\n      <td>0.03003</td>\n      <td>0.006193</td>\n    </tr>\n    <tr>\n      <th>1</th>\n      <td>842517</td>\n      <td>0.5435</td>\n      <td>0.7339</td>\n      <td>3.398</td>\n      <td>74.08</td>\n      <td>0.005225</td>\n      <td>0.01308</td>\n      <td>0.01860</td>\n      <td>0.01340</td>\n      <td>0.01389</td>\n      <td>0.003532</td>\n    </tr>\n    <tr>\n      <th>2</th>\n      <td>84300903</td>\n      <td>0.7456</td>\n      <td>0.7869</td>\n      <td>4.585</td>\n      <td>94.03</td>\n      <td>0.006150</td>\n      <td>0.04006</td>\n      <td>0.03832</td>\n      <td>0.02058</td>\n      <td>0.02250</td>\n      <td>0.004571</td>\n    </tr>\n    <tr>\n      <th>3</th>\n      <td>84348301</td>\n      <td>0.4956</td>\n      <td>1.1560</td>\n      <td>3.445</td>\n      <td>27.23</td>\n      <td>NaN</td>\n      <td>0.07458</td>\n      <td>0.05661</td>\n      <td>0.01867</td>\n      <td>0.05963</td>\n      <td>0.009208</td>\n    </tr>\n    <tr>\n      <th>4</th>\n      <td>84358402</td>\n      <td>0.7572</td>\n      <td>0.7813</td>\n      <td>5.438</td>\n      <td>94.44</td>\n      <td>0.011490</td>\n      <td>0.02461</td>\n      <td>0.05688</td>\n      <td>0.01885</td>\n      <td>0.01756</td>\n      <td>0.005115</td>\n    </tr>\n  </tbody>\n</table>\n</div>"
     },
     "execution_count": 25,
     "metadata": {},
     "output_type": "execute_result"
    }
   ],
   "source": [
    "import numpy as np\n",
    "\n",
    "standard_errors_ranges = np.r_[0:1, 12:22]\n",
    "print(standard_errors_ranges)\n",
    "print(type(standard_errors_ranges))\n",
    "\n",
    "df_standard_errors = df.iloc[:, standard_errors_ranges]\n",
    "\n",
    "df_standard_errors.head()"
   ],
   "metadata": {
    "collapsed": false,
    "pycharm": {
     "name": "#%%\n"
    }
   }
  },
  {
   "cell_type": "code",
   "execution_count": null,
   "outputs": [],
   "source": [],
   "metadata": {
    "collapsed": false,
    "pycharm": {
     "name": "#%%\n"
    }
   }
  }
 ],
 "metadata": {
  "kernelspec": {
   "display_name": "Python 3",
   "language": "python",
   "name": "python3"
  },
  "language_info": {
   "codemirror_mode": {
    "name": "ipython",
    "version": 2
   },
   "file_extension": ".py",
   "mimetype": "text/x-python",
   "name": "python",
   "nbconvert_exporter": "python",
   "pygments_lexer": "ipython2",
   "version": "2.7.6"
  }
 },
 "nbformat": 4,
 "nbformat_minor": 0
}