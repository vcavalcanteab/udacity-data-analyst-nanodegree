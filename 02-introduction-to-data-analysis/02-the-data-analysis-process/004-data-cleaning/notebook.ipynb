{
 "cells": [
  {
   "cell_type": "code",
   "execution_count": 1,
   "metadata": {
    "collapsed": true
   },
   "outputs": [],
   "source": [
    "import pandas as pd\n",
    "\n",
    "df = pd.read_csv('../product_view_data.csv')"
   ]
  },
  {
   "cell_type": "code",
   "execution_count": 2,
   "outputs": [
    {
     "name": "stdout",
     "output_type": "stream",
     "text": [
      "<class 'pandas.core.frame.DataFrame'>\n",
      "RangeIndex: 11 entries, 0 to 10\n",
      "Data columns (total 6 columns):\n",
      " #   Column         Non-Null Count  Dtype  \n",
      "---  ------         --------------  -----  \n",
      " 0   user_id        11 non-null     int64  \n",
      " 1   product_id     11 non-null     int64  \n",
      " 2   liked          11 non-null     bool   \n",
      " 3   view_duration  8 non-null      float64\n",
      " 4   source         11 non-null     object \n",
      " 5   timestamp      11 non-null     object \n",
      "dtypes: bool(1), float64(1), int64(2), object(2)\n",
      "memory usage: 579.0+ bytes\n"
     ]
    }
   ],
   "source": [
    "df.info()"
   ],
   "metadata": {
    "collapsed": false,
    "pycharm": {
     "name": "#%%\n"
    }
   }
  },
  {
   "cell_type": "markdown",
   "source": [
    "Here, in df.info(), we notice that we have missing data on view_duraction column. We will fix this."
   ],
   "metadata": {
    "collapsed": false,
    "pycharm": {
     "name": "#%% md\n"
    }
   }
  },
  {
   "cell_type": "code",
   "execution_count": 7,
   "outputs": [
    {
     "data": {
      "text/plain": "   user_id  product_id  liked  view_duration  source  \\\n3     7782      283235   True       0.194162  mobile   \n4     7782      283235   True       0.194162  mobile   \n\n                    timestamp  \n3  2017-09-17 03:48:20.019677  \n4  2017-09-17 03:48:20.019677  ",
      "text/html": "<div>\n<style scoped>\n    .dataframe tbody tr th:only-of-type {\n        vertical-align: middle;\n    }\n\n    .dataframe tbody tr th {\n        vertical-align: top;\n    }\n\n    .dataframe thead th {\n        text-align: right;\n    }\n</style>\n<table border=\"1\" class=\"dataframe\">\n  <thead>\n    <tr style=\"text-align: right;\">\n      <th></th>\n      <th>user_id</th>\n      <th>product_id</th>\n      <th>liked</th>\n      <th>view_duration</th>\n      <th>source</th>\n      <th>timestamp</th>\n    </tr>\n  </thead>\n  <tbody>\n    <tr>\n      <th>3</th>\n      <td>7782</td>\n      <td>283235</td>\n      <td>True</td>\n      <td>0.194162</td>\n      <td>mobile</td>\n      <td>2017-09-17 03:48:20.019677</td>\n    </tr>\n    <tr>\n      <th>4</th>\n      <td>7782</td>\n      <td>283235</td>\n      <td>True</td>\n      <td>0.194162</td>\n      <td>mobile</td>\n      <td>2017-09-17 03:48:20.019677</td>\n    </tr>\n  </tbody>\n</table>\n</div>"
     },
     "execution_count": 7,
     "metadata": {},
     "output_type": "execute_result"
    }
   ],
   "source": [
    "df.iloc[3:5, :]"
   ],
   "metadata": {
    "collapsed": false,
    "pycharm": {
     "name": "#%%\n"
    }
   }
  },
  {
   "cell_type": "markdown",
   "source": [
    "And we can see that we have two duplicated rows. We will fix this too.\n"
   ],
   "metadata": {
    "collapsed": false,
    "pycharm": {
     "name": "#%% md\n"
    }
   }
  },
  {
   "cell_type": "code",
   "execution_count": 8,
   "outputs": [
    {
     "data": {
      "text/plain": "user_id            int64\nproduct_id         int64\nliked               bool\nview_duration    float64\nsource            object\ntimestamp         object\ndtype: object"
     },
     "execution_count": 8,
     "metadata": {},
     "output_type": "execute_result"
    }
   ],
   "source": [
    "df.dtypes\n"
   ],
   "metadata": {
    "collapsed": false,
    "pycharm": {
     "name": "#%%\n"
    }
   }
  },
  {
   "cell_type": "markdown",
   "source": [
    "Here, we see problems with dtypes. Timestamp is represented as string, when ideally, it should be represented as a datetime object. This will be fixed too."
   ],
   "metadata": {
    "collapsed": false,
    "pycharm": {
     "name": "#%% md\n"
    }
   }
  },
  {
   "cell_type": "markdown",
   "source": [
    "## Dealing with missing data\n",
    "In this context, we can deal with it using the mean as a good replace for the missing values. We can use the inplace parameter to get sure that it will also change the original dataset.\n"
   ],
   "metadata": {
    "collapsed": false,
    "pycharm": {
     "name": "#%% md\n"
    }
   }
  },
  {
   "cell_type": "code",
   "source": [
    "mean = df['view_duration'].mean()\n",
    "df['view_duration'].fillna(mean, inplace=True)\n",
    "df"
   ],
   "metadata": {
    "collapsed": false,
    "pycharm": {
     "name": "#%%\n"
    }
   },
   "execution_count": 11,
   "outputs": [
    {
     "data": {
      "text/plain": "    user_id  product_id  liked  view_duration  source  \\\n0      3987      997021   True       1.048242     web   \n1      6300      865003   True       1.688173     web   \n2      6451      712951  False       0.938350  mobile   \n3      7782      283235   True       0.194162  mobile   \n4      7782      283235   True       0.194162  mobile   \n5      5700      587019  False       0.493194     web   \n6      3400      505123   True       0.938350     web   \n7      8403      459916  False       0.675041  mobile   \n8      8965      943363  False       0.938350     web   \n9      9693      787546   True       0.101743     web   \n10     4107      811855  False       3.112086     web   \n\n                     timestamp  \n0   2017-09-23 00:18:29.056895  \n1   2017-09-21 02:20:22.022096  \n2   2017-09-07 11:57:50.044683  \n3   2017-09-17 03:48:20.019677  \n4   2017-09-17 03:48:20.019677  \n5   2017-09-07 00:25:07.019097  \n6   2017-09-07 13:53:21.008403  \n7   2017-09-25 21:54:00.028323  \n8   2017-09-17 15:12:21.059489  \n9   2017-09-26 12:34:46.012559  \n10  2017-09-01 10:50:07.042593  ",
      "text/html": "<div>\n<style scoped>\n    .dataframe tbody tr th:only-of-type {\n        vertical-align: middle;\n    }\n\n    .dataframe tbody tr th {\n        vertical-align: top;\n    }\n\n    .dataframe thead th {\n        text-align: right;\n    }\n</style>\n<table border=\"1\" class=\"dataframe\">\n  <thead>\n    <tr style=\"text-align: right;\">\n      <th></th>\n      <th>user_id</th>\n      <th>product_id</th>\n      <th>liked</th>\n      <th>view_duration</th>\n      <th>source</th>\n      <th>timestamp</th>\n    </tr>\n  </thead>\n  <tbody>\n    <tr>\n      <th>0</th>\n      <td>3987</td>\n      <td>997021</td>\n      <td>True</td>\n      <td>1.048242</td>\n      <td>web</td>\n      <td>2017-09-23 00:18:29.056895</td>\n    </tr>\n    <tr>\n      <th>1</th>\n      <td>6300</td>\n      <td>865003</td>\n      <td>True</td>\n      <td>1.688173</td>\n      <td>web</td>\n      <td>2017-09-21 02:20:22.022096</td>\n    </tr>\n    <tr>\n      <th>2</th>\n      <td>6451</td>\n      <td>712951</td>\n      <td>False</td>\n      <td>0.938350</td>\n      <td>mobile</td>\n      <td>2017-09-07 11:57:50.044683</td>\n    </tr>\n    <tr>\n      <th>3</th>\n      <td>7782</td>\n      <td>283235</td>\n      <td>True</td>\n      <td>0.194162</td>\n      <td>mobile</td>\n      <td>2017-09-17 03:48:20.019677</td>\n    </tr>\n    <tr>\n      <th>4</th>\n      <td>7782</td>\n      <td>283235</td>\n      <td>True</td>\n      <td>0.194162</td>\n      <td>mobile</td>\n      <td>2017-09-17 03:48:20.019677</td>\n    </tr>\n    <tr>\n      <th>5</th>\n      <td>5700</td>\n      <td>587019</td>\n      <td>False</td>\n      <td>0.493194</td>\n      <td>web</td>\n      <td>2017-09-07 00:25:07.019097</td>\n    </tr>\n    <tr>\n      <th>6</th>\n      <td>3400</td>\n      <td>505123</td>\n      <td>True</td>\n      <td>0.938350</td>\n      <td>web</td>\n      <td>2017-09-07 13:53:21.008403</td>\n    </tr>\n    <tr>\n      <th>7</th>\n      <td>8403</td>\n      <td>459916</td>\n      <td>False</td>\n      <td>0.675041</td>\n      <td>mobile</td>\n      <td>2017-09-25 21:54:00.028323</td>\n    </tr>\n    <tr>\n      <th>8</th>\n      <td>8965</td>\n      <td>943363</td>\n      <td>False</td>\n      <td>0.938350</td>\n      <td>web</td>\n      <td>2017-09-17 15:12:21.059489</td>\n    </tr>\n    <tr>\n      <th>9</th>\n      <td>9693</td>\n      <td>787546</td>\n      <td>True</td>\n      <td>0.101743</td>\n      <td>web</td>\n      <td>2017-09-26 12:34:46.012559</td>\n    </tr>\n    <tr>\n      <th>10</th>\n      <td>4107</td>\n      <td>811855</td>\n      <td>False</td>\n      <td>3.112086</td>\n      <td>web</td>\n      <td>2017-09-01 10:50:07.042593</td>\n    </tr>\n  </tbody>\n</table>\n</div>"
     },
     "execution_count": 11,
     "metadata": {},
     "output_type": "execute_result"
    }
   ]
  },
  {
   "cell_type": "markdown",
   "source": [
    "## Dealing with duplicated data\n"
   ],
   "metadata": {
    "collapsed": false,
    "pycharm": {
     "name": "#%% md\n"
    }
   }
  },
  {
   "cell_type": "code",
   "execution_count": 15,
   "outputs": [
    {
     "name": "stdout",
     "output_type": "stream",
     "text": [
      "0\n"
     ]
    }
   ],
   "source": [
    "sum(df.duplicated())\n",
    "df.drop_duplicates(inplace=True)"
   ],
   "metadata": {
    "collapsed": false,
    "pycharm": {
     "name": "#%%\n"
    }
   }
  },
  {
   "cell_type": "markdown",
   "source": [
    "## Dealing with incorrect datatypes\n"
   ],
   "metadata": {
    "collapsed": false,
    "pycharm": {
     "name": "#%% md\n"
    }
   }
  },
  {
   "cell_type": "code",
   "execution_count": 16,
   "outputs": [],
   "source": [
    "df['timestamp'] = pd.to_datetime(df['timestamp'])\n"
   ],
   "metadata": {
    "collapsed": false,
    "pycharm": {
     "name": "#%%\n"
    }
   }
  }
 ],
 "metadata": {
  "kernelspec": {
   "display_name": "Python 3",
   "language": "python",
   "name": "python3"
  },
  "language_info": {
   "codemirror_mode": {
    "name": "ipython",
    "version": 2
   },
   "file_extension": ".py",
   "mimetype": "text/x-python",
   "name": "python",
   "nbconvert_exporter": "python",
   "pygments_lexer": "ipython2",
   "version": "2.7.6"
  }
 },
 "nbformat": 4,
 "nbformat_minor": 0
}