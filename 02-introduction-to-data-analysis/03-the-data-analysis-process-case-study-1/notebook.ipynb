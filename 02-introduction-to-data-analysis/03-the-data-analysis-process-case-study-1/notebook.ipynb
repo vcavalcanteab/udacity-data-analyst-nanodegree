{
 "cells": [
  {
   "cell_type": "code",
   "execution_count": 151,
   "id": "2fa9cbaa",
   "metadata": {
    "execution": {
     "iopub.execute_input": "2022-02-26T00:48:17.195345Z",
     "iopub.status.busy": "2022-02-26T00:48:17.195345Z",
     "iopub.status.idle": "2022-02-26T00:48:17.222688Z",
     "shell.execute_reply": "2022-02-26T00:48:17.221772Z",
     "shell.execute_reply.started": "2022-02-26T00:48:17.195345Z"
    },
    "tags": []
   },
   "outputs": [],
   "source": [
    "import pandas as pd\n",
    "import numpy as np\n",
    "%matplotlib inline\n",
    "\n",
    "df_red = pd.read_csv('datasets/winequality-red.csv', sep=';')\n",
    "df_white = pd.read_csv('datasets/winequality-white.csv', sep=';')"
   ]
  },
  {
   "cell_type": "code",
   "execution_count": 152,
   "id": "59c83583",
   "metadata": {
    "execution": {
     "iopub.execute_input": "2022-02-26T00:48:17.528582Z",
     "iopub.status.busy": "2022-02-26T00:48:17.528582Z",
     "iopub.status.idle": "2022-02-26T00:48:17.566366Z",
     "shell.execute_reply": "2022-02-26T00:48:17.565444Z",
     "shell.execute_reply.started": "2022-02-26T00:48:17.528582Z"
    },
    "tags": []
   },
   "outputs": [
    {
     "data": {
      "text/html": [
       "<div>\n",
       "<style scoped>\n",
       "    .dataframe tbody tr th:only-of-type {\n",
       "        vertical-align: middle;\n",
       "    }\n",
       "\n",
       "    .dataframe tbody tr th {\n",
       "        vertical-align: top;\n",
       "    }\n",
       "\n",
       "    .dataframe thead th {\n",
       "        text-align: right;\n",
       "    }\n",
       "</style>\n",
       "<table border=\"1\" class=\"dataframe\">\n",
       "  <thead>\n",
       "    <tr style=\"text-align: right;\">\n",
       "      <th></th>\n",
       "      <th>fixed acidity</th>\n",
       "      <th>volatile acidity</th>\n",
       "      <th>citric acid</th>\n",
       "      <th>residual sugar</th>\n",
       "      <th>chlorides</th>\n",
       "      <th>free sulfur dioxide</th>\n",
       "      <th>total sulfur dioxide</th>\n",
       "      <th>density</th>\n",
       "      <th>pH</th>\n",
       "      <th>sulphates</th>\n",
       "      <th>alcohol</th>\n",
       "      <th>quality</th>\n",
       "    </tr>\n",
       "  </thead>\n",
       "  <tbody>\n",
       "    <tr>\n",
       "      <th>0</th>\n",
       "      <td>7.4</td>\n",
       "      <td>0.70</td>\n",
       "      <td>0.00</td>\n",
       "      <td>1.9</td>\n",
       "      <td>0.076</td>\n",
       "      <td>11.0</td>\n",
       "      <td>34.0</td>\n",
       "      <td>0.9978</td>\n",
       "      <td>3.51</td>\n",
       "      <td>0.56</td>\n",
       "      <td>9.4</td>\n",
       "      <td>5</td>\n",
       "    </tr>\n",
       "    <tr>\n",
       "      <th>1</th>\n",
       "      <td>7.8</td>\n",
       "      <td>0.88</td>\n",
       "      <td>0.00</td>\n",
       "      <td>2.6</td>\n",
       "      <td>0.098</td>\n",
       "      <td>25.0</td>\n",
       "      <td>67.0</td>\n",
       "      <td>0.9968</td>\n",
       "      <td>3.20</td>\n",
       "      <td>0.68</td>\n",
       "      <td>9.8</td>\n",
       "      <td>5</td>\n",
       "    </tr>\n",
       "    <tr>\n",
       "      <th>2</th>\n",
       "      <td>7.8</td>\n",
       "      <td>0.76</td>\n",
       "      <td>0.04</td>\n",
       "      <td>2.3</td>\n",
       "      <td>0.092</td>\n",
       "      <td>15.0</td>\n",
       "      <td>54.0</td>\n",
       "      <td>0.9970</td>\n",
       "      <td>3.26</td>\n",
       "      <td>0.65</td>\n",
       "      <td>9.8</td>\n",
       "      <td>5</td>\n",
       "    </tr>\n",
       "    <tr>\n",
       "      <th>3</th>\n",
       "      <td>11.2</td>\n",
       "      <td>0.28</td>\n",
       "      <td>0.56</td>\n",
       "      <td>1.9</td>\n",
       "      <td>0.075</td>\n",
       "      <td>17.0</td>\n",
       "      <td>60.0</td>\n",
       "      <td>0.9980</td>\n",
       "      <td>3.16</td>\n",
       "      <td>0.58</td>\n",
       "      <td>9.8</td>\n",
       "      <td>6</td>\n",
       "    </tr>\n",
       "    <tr>\n",
       "      <th>4</th>\n",
       "      <td>7.4</td>\n",
       "      <td>0.70</td>\n",
       "      <td>0.00</td>\n",
       "      <td>1.9</td>\n",
       "      <td>0.076</td>\n",
       "      <td>11.0</td>\n",
       "      <td>34.0</td>\n",
       "      <td>0.9978</td>\n",
       "      <td>3.51</td>\n",
       "      <td>0.56</td>\n",
       "      <td>9.4</td>\n",
       "      <td>5</td>\n",
       "    </tr>\n",
       "  </tbody>\n",
       "</table>\n",
       "</div>"
      ],
      "text/plain": [
       "   fixed acidity  volatile acidity  citric acid  residual sugar  chlorides  \\\n",
       "0            7.4              0.70         0.00             1.9      0.076   \n",
       "1            7.8              0.88         0.00             2.6      0.098   \n",
       "2            7.8              0.76         0.04             2.3      0.092   \n",
       "3           11.2              0.28         0.56             1.9      0.075   \n",
       "4            7.4              0.70         0.00             1.9      0.076   \n",
       "\n",
       "   free sulfur dioxide  total sulfur dioxide  density    pH  sulphates  \\\n",
       "0                 11.0                  34.0   0.9978  3.51       0.56   \n",
       "1                 25.0                  67.0   0.9968  3.20       0.68   \n",
       "2                 15.0                  54.0   0.9970  3.26       0.65   \n",
       "3                 17.0                  60.0   0.9980  3.16       0.58   \n",
       "4                 11.0                  34.0   0.9978  3.51       0.56   \n",
       "\n",
       "   alcohol  quality  \n",
       "0      9.4        5  \n",
       "1      9.8        5  \n",
       "2      9.8        5  \n",
       "3      9.8        6  \n",
       "4      9.4        5  "
      ]
     },
     "execution_count": 152,
     "metadata": {},
     "output_type": "execute_result"
    }
   ],
   "source": [
    "df_red.head()"
   ]
  },
  {
   "cell_type": "code",
   "execution_count": 153,
   "id": "83982b67",
   "metadata": {
    "execution": {
     "iopub.execute_input": "2022-02-26T00:48:17.914204Z",
     "iopub.status.busy": "2022-02-26T00:48:17.913206Z",
     "iopub.status.idle": "2022-02-26T00:48:17.939445Z",
     "shell.execute_reply": "2022-02-26T00:48:17.939148Z",
     "shell.execute_reply.started": "2022-02-26T00:48:17.914204Z"
    },
    "tags": []
   },
   "outputs": [
    {
     "data": {
      "text/html": [
       "<div>\n",
       "<style scoped>\n",
       "    .dataframe tbody tr th:only-of-type {\n",
       "        vertical-align: middle;\n",
       "    }\n",
       "\n",
       "    .dataframe tbody tr th {\n",
       "        vertical-align: top;\n",
       "    }\n",
       "\n",
       "    .dataframe thead th {\n",
       "        text-align: right;\n",
       "    }\n",
       "</style>\n",
       "<table border=\"1\" class=\"dataframe\">\n",
       "  <thead>\n",
       "    <tr style=\"text-align: right;\">\n",
       "      <th></th>\n",
       "      <th>fixed acidity</th>\n",
       "      <th>volatile acidity</th>\n",
       "      <th>citric acid</th>\n",
       "      <th>residual sugar</th>\n",
       "      <th>chlorides</th>\n",
       "      <th>free sulfur dioxide</th>\n",
       "      <th>total sulfur dioxide</th>\n",
       "      <th>density</th>\n",
       "      <th>pH</th>\n",
       "      <th>sulphates</th>\n",
       "      <th>alcohol</th>\n",
       "      <th>quality</th>\n",
       "    </tr>\n",
       "  </thead>\n",
       "  <tbody>\n",
       "    <tr>\n",
       "      <th>0</th>\n",
       "      <td>7.0</td>\n",
       "      <td>0.27</td>\n",
       "      <td>0.36</td>\n",
       "      <td>20.7</td>\n",
       "      <td>0.045</td>\n",
       "      <td>45.0</td>\n",
       "      <td>170.0</td>\n",
       "      <td>1.0010</td>\n",
       "      <td>3.00</td>\n",
       "      <td>0.45</td>\n",
       "      <td>8.8</td>\n",
       "      <td>6</td>\n",
       "    </tr>\n",
       "    <tr>\n",
       "      <th>1</th>\n",
       "      <td>6.3</td>\n",
       "      <td>0.30</td>\n",
       "      <td>0.34</td>\n",
       "      <td>1.6</td>\n",
       "      <td>0.049</td>\n",
       "      <td>14.0</td>\n",
       "      <td>132.0</td>\n",
       "      <td>0.9940</td>\n",
       "      <td>3.30</td>\n",
       "      <td>0.49</td>\n",
       "      <td>9.5</td>\n",
       "      <td>6</td>\n",
       "    </tr>\n",
       "    <tr>\n",
       "      <th>2</th>\n",
       "      <td>8.1</td>\n",
       "      <td>0.28</td>\n",
       "      <td>0.40</td>\n",
       "      <td>6.9</td>\n",
       "      <td>0.050</td>\n",
       "      <td>30.0</td>\n",
       "      <td>97.0</td>\n",
       "      <td>0.9951</td>\n",
       "      <td>3.26</td>\n",
       "      <td>0.44</td>\n",
       "      <td>10.1</td>\n",
       "      <td>6</td>\n",
       "    </tr>\n",
       "    <tr>\n",
       "      <th>3</th>\n",
       "      <td>7.2</td>\n",
       "      <td>0.23</td>\n",
       "      <td>0.32</td>\n",
       "      <td>8.5</td>\n",
       "      <td>0.058</td>\n",
       "      <td>47.0</td>\n",
       "      <td>186.0</td>\n",
       "      <td>0.9956</td>\n",
       "      <td>3.19</td>\n",
       "      <td>0.40</td>\n",
       "      <td>9.9</td>\n",
       "      <td>6</td>\n",
       "    </tr>\n",
       "    <tr>\n",
       "      <th>4</th>\n",
       "      <td>7.2</td>\n",
       "      <td>0.23</td>\n",
       "      <td>0.32</td>\n",
       "      <td>8.5</td>\n",
       "      <td>0.058</td>\n",
       "      <td>47.0</td>\n",
       "      <td>186.0</td>\n",
       "      <td>0.9956</td>\n",
       "      <td>3.19</td>\n",
       "      <td>0.40</td>\n",
       "      <td>9.9</td>\n",
       "      <td>6</td>\n",
       "    </tr>\n",
       "  </tbody>\n",
       "</table>\n",
       "</div>"
      ],
      "text/plain": [
       "   fixed acidity  volatile acidity  citric acid  residual sugar  chlorides  \\\n",
       "0            7.0              0.27         0.36            20.7      0.045   \n",
       "1            6.3              0.30         0.34             1.6      0.049   \n",
       "2            8.1              0.28         0.40             6.9      0.050   \n",
       "3            7.2              0.23         0.32             8.5      0.058   \n",
       "4            7.2              0.23         0.32             8.5      0.058   \n",
       "\n",
       "   free sulfur dioxide  total sulfur dioxide  density    pH  sulphates  \\\n",
       "0                 45.0                 170.0   1.0010  3.00       0.45   \n",
       "1                 14.0                 132.0   0.9940  3.30       0.49   \n",
       "2                 30.0                  97.0   0.9951  3.26       0.44   \n",
       "3                 47.0                 186.0   0.9956  3.19       0.40   \n",
       "4                 47.0                 186.0   0.9956  3.19       0.40   \n",
       "\n",
       "   alcohol  quality  \n",
       "0      8.8        6  \n",
       "1      9.5        6  \n",
       "2     10.1        6  \n",
       "3      9.9        6  \n",
       "4      9.9        6  "
      ]
     },
     "execution_count": 153,
     "metadata": {},
     "output_type": "execute_result"
    }
   ],
   "source": [
    "df_white.head()"
   ]
  },
  {
   "cell_type": "markdown",
   "id": "217fdada",
   "metadata": {},
   "source": [
    "## Assessing Data"
   ]
  },
  {
   "cell_type": "code",
   "execution_count": 154,
   "id": "6037b68f",
   "metadata": {
    "execution": {
     "iopub.execute_input": "2022-02-26T00:48:18.463463Z",
     "iopub.status.busy": "2022-02-26T00:48:18.462689Z",
     "iopub.status.idle": "2022-02-26T00:48:18.467893Z",
     "shell.execute_reply": "2022-02-26T00:48:18.467631Z",
     "shell.execute_reply.started": "2022-02-26T00:48:18.463463Z"
    },
    "tags": []
   },
   "outputs": [
    {
     "name": "stdout",
     "output_type": "stream",
     "text": [
      "There are 1599 samples of red wine and 4898 of white wine.\n",
      "There are 12 columns in the red dataset and 12 in the white one.\n"
     ]
    }
   ],
   "source": [
    "# How many samples of red wine and white wine are there?\n",
    "print(f\"There are {df_red.shape[0]} samples of red wine and {df_white.shape[0]} of white wine.\")\n",
    "print(f\"There are {df_red.shape[1]} columns in the red dataset and {df_white.shape[1]} in the white one.\")\n"
   ]
  },
  {
   "cell_type": "code",
   "execution_count": 155,
   "id": "a092e463",
   "metadata": {
    "execution": {
     "iopub.execute_input": "2022-02-26T00:48:18.763476Z",
     "iopub.status.busy": "2022-02-26T00:48:18.763476Z",
     "iopub.status.idle": "2022-02-26T00:48:18.843464Z",
     "shell.execute_reply": "2022-02-26T00:48:18.842398Z",
     "shell.execute_reply.started": "2022-02-26T00:48:18.763476Z"
    },
    "tags": []
   },
   "outputs": [
    {
     "data": {
      "text/html": [
       "<div>\n",
       "<style scoped>\n",
       "    .dataframe tbody tr th:only-of-type {\n",
       "        vertical-align: middle;\n",
       "    }\n",
       "\n",
       "    .dataframe tbody tr th {\n",
       "        vertical-align: top;\n",
       "    }\n",
       "\n",
       "    .dataframe thead th {\n",
       "        text-align: right;\n",
       "    }\n",
       "</style>\n",
       "<table border=\"1\" class=\"dataframe\">\n",
       "  <thead>\n",
       "    <tr style=\"text-align: right;\">\n",
       "      <th></th>\n",
       "      <th>fixed acidity</th>\n",
       "      <th>volatile acidity</th>\n",
       "      <th>citric acid</th>\n",
       "      <th>residual sugar</th>\n",
       "      <th>chlorides</th>\n",
       "      <th>free sulfur dioxide</th>\n",
       "      <th>total sulfur dioxide</th>\n",
       "      <th>density</th>\n",
       "      <th>pH</th>\n",
       "      <th>sulphates</th>\n",
       "      <th>alcohol</th>\n",
       "      <th>quality</th>\n",
       "    </tr>\n",
       "  </thead>\n",
       "  <tbody>\n",
       "    <tr>\n",
       "      <th>count</th>\n",
       "      <td>1599.000000</td>\n",
       "      <td>1599.000000</td>\n",
       "      <td>1599.000000</td>\n",
       "      <td>1599.000000</td>\n",
       "      <td>1599.000000</td>\n",
       "      <td>1599.000000</td>\n",
       "      <td>1599.000000</td>\n",
       "      <td>1599.000000</td>\n",
       "      <td>1599.000000</td>\n",
       "      <td>1599.000000</td>\n",
       "      <td>1599.000000</td>\n",
       "      <td>1599.000000</td>\n",
       "    </tr>\n",
       "    <tr>\n",
       "      <th>mean</th>\n",
       "      <td>8.319637</td>\n",
       "      <td>0.527821</td>\n",
       "      <td>0.270976</td>\n",
       "      <td>2.538806</td>\n",
       "      <td>0.087467</td>\n",
       "      <td>15.874922</td>\n",
       "      <td>46.467792</td>\n",
       "      <td>0.996747</td>\n",
       "      <td>3.311113</td>\n",
       "      <td>0.658149</td>\n",
       "      <td>10.422983</td>\n",
       "      <td>5.636023</td>\n",
       "    </tr>\n",
       "    <tr>\n",
       "      <th>std</th>\n",
       "      <td>1.741096</td>\n",
       "      <td>0.179060</td>\n",
       "      <td>0.194801</td>\n",
       "      <td>1.409928</td>\n",
       "      <td>0.047065</td>\n",
       "      <td>10.460157</td>\n",
       "      <td>32.895324</td>\n",
       "      <td>0.001887</td>\n",
       "      <td>0.154386</td>\n",
       "      <td>0.169507</td>\n",
       "      <td>1.065668</td>\n",
       "      <td>0.807569</td>\n",
       "    </tr>\n",
       "    <tr>\n",
       "      <th>min</th>\n",
       "      <td>4.600000</td>\n",
       "      <td>0.120000</td>\n",
       "      <td>0.000000</td>\n",
       "      <td>0.900000</td>\n",
       "      <td>0.012000</td>\n",
       "      <td>1.000000</td>\n",
       "      <td>6.000000</td>\n",
       "      <td>0.990070</td>\n",
       "      <td>2.740000</td>\n",
       "      <td>0.330000</td>\n",
       "      <td>8.400000</td>\n",
       "      <td>3.000000</td>\n",
       "    </tr>\n",
       "    <tr>\n",
       "      <th>25%</th>\n",
       "      <td>7.100000</td>\n",
       "      <td>0.390000</td>\n",
       "      <td>0.090000</td>\n",
       "      <td>1.900000</td>\n",
       "      <td>0.070000</td>\n",
       "      <td>7.000000</td>\n",
       "      <td>22.000000</td>\n",
       "      <td>0.995600</td>\n",
       "      <td>3.210000</td>\n",
       "      <td>0.550000</td>\n",
       "      <td>9.500000</td>\n",
       "      <td>5.000000</td>\n",
       "    </tr>\n",
       "    <tr>\n",
       "      <th>50%</th>\n",
       "      <td>7.900000</td>\n",
       "      <td>0.520000</td>\n",
       "      <td>0.260000</td>\n",
       "      <td>2.200000</td>\n",
       "      <td>0.079000</td>\n",
       "      <td>14.000000</td>\n",
       "      <td>38.000000</td>\n",
       "      <td>0.996750</td>\n",
       "      <td>3.310000</td>\n",
       "      <td>0.620000</td>\n",
       "      <td>10.200000</td>\n",
       "      <td>6.000000</td>\n",
       "    </tr>\n",
       "    <tr>\n",
       "      <th>75%</th>\n",
       "      <td>9.200000</td>\n",
       "      <td>0.640000</td>\n",
       "      <td>0.420000</td>\n",
       "      <td>2.600000</td>\n",
       "      <td>0.090000</td>\n",
       "      <td>21.000000</td>\n",
       "      <td>62.000000</td>\n",
       "      <td>0.997835</td>\n",
       "      <td>3.400000</td>\n",
       "      <td>0.730000</td>\n",
       "      <td>11.100000</td>\n",
       "      <td>6.000000</td>\n",
       "    </tr>\n",
       "    <tr>\n",
       "      <th>max</th>\n",
       "      <td>15.900000</td>\n",
       "      <td>1.580000</td>\n",
       "      <td>1.000000</td>\n",
       "      <td>15.500000</td>\n",
       "      <td>0.611000</td>\n",
       "      <td>72.000000</td>\n",
       "      <td>289.000000</td>\n",
       "      <td>1.003690</td>\n",
       "      <td>4.010000</td>\n",
       "      <td>2.000000</td>\n",
       "      <td>14.900000</td>\n",
       "      <td>8.000000</td>\n",
       "    </tr>\n",
       "  </tbody>\n",
       "</table>\n",
       "</div>"
      ],
      "text/plain": [
       "       fixed acidity  volatile acidity  citric acid  residual sugar  \\\n",
       "count    1599.000000       1599.000000  1599.000000     1599.000000   \n",
       "mean        8.319637          0.527821     0.270976        2.538806   \n",
       "std         1.741096          0.179060     0.194801        1.409928   \n",
       "min         4.600000          0.120000     0.000000        0.900000   \n",
       "25%         7.100000          0.390000     0.090000        1.900000   \n",
       "50%         7.900000          0.520000     0.260000        2.200000   \n",
       "75%         9.200000          0.640000     0.420000        2.600000   \n",
       "max        15.900000          1.580000     1.000000       15.500000   \n",
       "\n",
       "         chlorides  free sulfur dioxide  total sulfur dioxide      density  \\\n",
       "count  1599.000000          1599.000000           1599.000000  1599.000000   \n",
       "mean      0.087467            15.874922             46.467792     0.996747   \n",
       "std       0.047065            10.460157             32.895324     0.001887   \n",
       "min       0.012000             1.000000              6.000000     0.990070   \n",
       "25%       0.070000             7.000000             22.000000     0.995600   \n",
       "50%       0.079000            14.000000             38.000000     0.996750   \n",
       "75%       0.090000            21.000000             62.000000     0.997835   \n",
       "max       0.611000            72.000000            289.000000     1.003690   \n",
       "\n",
       "                pH    sulphates      alcohol      quality  \n",
       "count  1599.000000  1599.000000  1599.000000  1599.000000  \n",
       "mean      3.311113     0.658149    10.422983     5.636023  \n",
       "std       0.154386     0.169507     1.065668     0.807569  \n",
       "min       2.740000     0.330000     8.400000     3.000000  \n",
       "25%       3.210000     0.550000     9.500000     5.000000  \n",
       "50%       3.310000     0.620000    10.200000     6.000000  \n",
       "75%       3.400000     0.730000    11.100000     6.000000  \n",
       "max       4.010000     2.000000    14.900000     8.000000  "
      ]
     },
     "execution_count": 155,
     "metadata": {},
     "output_type": "execute_result"
    }
   ],
   "source": [
    "df_red.describe()"
   ]
  },
  {
   "cell_type": "code",
   "execution_count": 156,
   "id": "47cf4ccf",
   "metadata": {
    "execution": {
     "iopub.execute_input": "2022-02-26T00:48:19.083124Z",
     "iopub.status.busy": "2022-02-26T00:48:19.082389Z",
     "iopub.status.idle": "2022-02-26T00:48:19.172471Z",
     "shell.execute_reply": "2022-02-26T00:48:19.171528Z",
     "shell.execute_reply.started": "2022-02-26T00:48:19.083124Z"
    },
    "tags": []
   },
   "outputs": [
    {
     "data": {
      "text/html": [
       "<div>\n",
       "<style scoped>\n",
       "    .dataframe tbody tr th:only-of-type {\n",
       "        vertical-align: middle;\n",
       "    }\n",
       "\n",
       "    .dataframe tbody tr th {\n",
       "        vertical-align: top;\n",
       "    }\n",
       "\n",
       "    .dataframe thead th {\n",
       "        text-align: right;\n",
       "    }\n",
       "</style>\n",
       "<table border=\"1\" class=\"dataframe\">\n",
       "  <thead>\n",
       "    <tr style=\"text-align: right;\">\n",
       "      <th></th>\n",
       "      <th>fixed acidity</th>\n",
       "      <th>volatile acidity</th>\n",
       "      <th>citric acid</th>\n",
       "      <th>residual sugar</th>\n",
       "      <th>chlorides</th>\n",
       "      <th>free sulfur dioxide</th>\n",
       "      <th>total sulfur dioxide</th>\n",
       "      <th>density</th>\n",
       "      <th>pH</th>\n",
       "      <th>sulphates</th>\n",
       "      <th>alcohol</th>\n",
       "      <th>quality</th>\n",
       "    </tr>\n",
       "  </thead>\n",
       "  <tbody>\n",
       "    <tr>\n",
       "      <th>count</th>\n",
       "      <td>4898.000000</td>\n",
       "      <td>4898.000000</td>\n",
       "      <td>4898.000000</td>\n",
       "      <td>4898.000000</td>\n",
       "      <td>4898.000000</td>\n",
       "      <td>4898.000000</td>\n",
       "      <td>4898.000000</td>\n",
       "      <td>4898.000000</td>\n",
       "      <td>4898.000000</td>\n",
       "      <td>4898.000000</td>\n",
       "      <td>4898.000000</td>\n",
       "      <td>4898.000000</td>\n",
       "    </tr>\n",
       "    <tr>\n",
       "      <th>mean</th>\n",
       "      <td>6.854788</td>\n",
       "      <td>0.278241</td>\n",
       "      <td>0.334192</td>\n",
       "      <td>6.391415</td>\n",
       "      <td>0.045772</td>\n",
       "      <td>35.308085</td>\n",
       "      <td>138.360657</td>\n",
       "      <td>0.994027</td>\n",
       "      <td>3.188267</td>\n",
       "      <td>0.489847</td>\n",
       "      <td>10.514267</td>\n",
       "      <td>5.877909</td>\n",
       "    </tr>\n",
       "    <tr>\n",
       "      <th>std</th>\n",
       "      <td>0.843868</td>\n",
       "      <td>0.100795</td>\n",
       "      <td>0.121020</td>\n",
       "      <td>5.072058</td>\n",
       "      <td>0.021848</td>\n",
       "      <td>17.007137</td>\n",
       "      <td>42.498065</td>\n",
       "      <td>0.002991</td>\n",
       "      <td>0.151001</td>\n",
       "      <td>0.114126</td>\n",
       "      <td>1.230621</td>\n",
       "      <td>0.885639</td>\n",
       "    </tr>\n",
       "    <tr>\n",
       "      <th>min</th>\n",
       "      <td>3.800000</td>\n",
       "      <td>0.080000</td>\n",
       "      <td>0.000000</td>\n",
       "      <td>0.600000</td>\n",
       "      <td>0.009000</td>\n",
       "      <td>2.000000</td>\n",
       "      <td>9.000000</td>\n",
       "      <td>0.987110</td>\n",
       "      <td>2.720000</td>\n",
       "      <td>0.220000</td>\n",
       "      <td>8.000000</td>\n",
       "      <td>3.000000</td>\n",
       "    </tr>\n",
       "    <tr>\n",
       "      <th>25%</th>\n",
       "      <td>6.300000</td>\n",
       "      <td>0.210000</td>\n",
       "      <td>0.270000</td>\n",
       "      <td>1.700000</td>\n",
       "      <td>0.036000</td>\n",
       "      <td>23.000000</td>\n",
       "      <td>108.000000</td>\n",
       "      <td>0.991723</td>\n",
       "      <td>3.090000</td>\n",
       "      <td>0.410000</td>\n",
       "      <td>9.500000</td>\n",
       "      <td>5.000000</td>\n",
       "    </tr>\n",
       "    <tr>\n",
       "      <th>50%</th>\n",
       "      <td>6.800000</td>\n",
       "      <td>0.260000</td>\n",
       "      <td>0.320000</td>\n",
       "      <td>5.200000</td>\n",
       "      <td>0.043000</td>\n",
       "      <td>34.000000</td>\n",
       "      <td>134.000000</td>\n",
       "      <td>0.993740</td>\n",
       "      <td>3.180000</td>\n",
       "      <td>0.470000</td>\n",
       "      <td>10.400000</td>\n",
       "      <td>6.000000</td>\n",
       "    </tr>\n",
       "    <tr>\n",
       "      <th>75%</th>\n",
       "      <td>7.300000</td>\n",
       "      <td>0.320000</td>\n",
       "      <td>0.390000</td>\n",
       "      <td>9.900000</td>\n",
       "      <td>0.050000</td>\n",
       "      <td>46.000000</td>\n",
       "      <td>167.000000</td>\n",
       "      <td>0.996100</td>\n",
       "      <td>3.280000</td>\n",
       "      <td>0.550000</td>\n",
       "      <td>11.400000</td>\n",
       "      <td>6.000000</td>\n",
       "    </tr>\n",
       "    <tr>\n",
       "      <th>max</th>\n",
       "      <td>14.200000</td>\n",
       "      <td>1.100000</td>\n",
       "      <td>1.660000</td>\n",
       "      <td>65.800000</td>\n",
       "      <td>0.346000</td>\n",
       "      <td>289.000000</td>\n",
       "      <td>440.000000</td>\n",
       "      <td>1.038980</td>\n",
       "      <td>3.820000</td>\n",
       "      <td>1.080000</td>\n",
       "      <td>14.200000</td>\n",
       "      <td>9.000000</td>\n",
       "    </tr>\n",
       "  </tbody>\n",
       "</table>\n",
       "</div>"
      ],
      "text/plain": [
       "       fixed acidity  volatile acidity  citric acid  residual sugar  \\\n",
       "count    4898.000000       4898.000000  4898.000000     4898.000000   \n",
       "mean        6.854788          0.278241     0.334192        6.391415   \n",
       "std         0.843868          0.100795     0.121020        5.072058   \n",
       "min         3.800000          0.080000     0.000000        0.600000   \n",
       "25%         6.300000          0.210000     0.270000        1.700000   \n",
       "50%         6.800000          0.260000     0.320000        5.200000   \n",
       "75%         7.300000          0.320000     0.390000        9.900000   \n",
       "max        14.200000          1.100000     1.660000       65.800000   \n",
       "\n",
       "         chlorides  free sulfur dioxide  total sulfur dioxide      density  \\\n",
       "count  4898.000000          4898.000000           4898.000000  4898.000000   \n",
       "mean      0.045772            35.308085            138.360657     0.994027   \n",
       "std       0.021848            17.007137             42.498065     0.002991   \n",
       "min       0.009000             2.000000              9.000000     0.987110   \n",
       "25%       0.036000            23.000000            108.000000     0.991723   \n",
       "50%       0.043000            34.000000            134.000000     0.993740   \n",
       "75%       0.050000            46.000000            167.000000     0.996100   \n",
       "max       0.346000           289.000000            440.000000     1.038980   \n",
       "\n",
       "                pH    sulphates      alcohol      quality  \n",
       "count  4898.000000  4898.000000  4898.000000  4898.000000  \n",
       "mean      3.188267     0.489847    10.514267     5.877909  \n",
       "std       0.151001     0.114126     1.230621     0.885639  \n",
       "min       2.720000     0.220000     8.000000     3.000000  \n",
       "25%       3.090000     0.410000     9.500000     5.000000  \n",
       "50%       3.180000     0.470000    10.400000     6.000000  \n",
       "75%       3.280000     0.550000    11.400000     6.000000  \n",
       "max       3.820000     1.080000    14.200000     9.000000  "
      ]
     },
     "execution_count": 156,
     "metadata": {},
     "output_type": "execute_result"
    }
   ],
   "source": [
    "df_white.describe()"
   ]
  },
  {
   "cell_type": "code",
   "execution_count": 157,
   "id": "a40beb2e",
   "metadata": {
    "execution": {
     "iopub.execute_input": "2022-02-26T00:48:19.380958Z",
     "iopub.status.busy": "2022-02-26T00:48:19.380958Z",
     "iopub.status.idle": "2022-02-26T00:48:19.389597Z",
     "shell.execute_reply": "2022-02-26T00:48:19.388693Z",
     "shell.execute_reply.started": "2022-02-26T00:48:19.380958Z"
    },
    "tags": []
   },
   "outputs": [
    {
     "data": {
      "text/plain": [
       "fixed acidity           0\n",
       "volatile acidity        0\n",
       "citric acid             0\n",
       "residual sugar          0\n",
       "chlorides               0\n",
       "free sulfur dioxide     0\n",
       "total sulfur dioxide    0\n",
       "density                 0\n",
       "pH                      0\n",
       "sulphates               0\n",
       "alcohol                 0\n",
       "quality                 0\n",
       "dtype: int64"
      ]
     },
     "execution_count": 157,
     "metadata": {},
     "output_type": "execute_result"
    }
   ],
   "source": [
    "# Which features have missing values?\n",
    "df_red.isnull().sum()"
   ]
  },
  {
   "cell_type": "code",
   "execution_count": 158,
   "id": "aa874e37",
   "metadata": {
    "execution": {
     "iopub.execute_input": "2022-02-26T00:48:19.768536Z",
     "iopub.status.busy": "2022-02-26T00:48:19.768428Z",
     "iopub.status.idle": "2022-02-26T00:48:19.780396Z",
     "shell.execute_reply": "2022-02-26T00:48:19.779502Z",
     "shell.execute_reply.started": "2022-02-26T00:48:19.768536Z"
    },
    "tags": []
   },
   "outputs": [
    {
     "data": {
      "text/plain": [
       "fixed acidity           0\n",
       "volatile acidity        0\n",
       "citric acid             0\n",
       "residual sugar          0\n",
       "chlorides               0\n",
       "free sulfur dioxide     0\n",
       "total sulfur dioxide    0\n",
       "density                 0\n",
       "pH                      0\n",
       "sulphates               0\n",
       "alcohol                 0\n",
       "quality                 0\n",
       "dtype: int64"
      ]
     },
     "execution_count": 158,
     "metadata": {},
     "output_type": "execute_result"
    }
   ],
   "source": [
    "df_white.isnull().sum()"
   ]
  },
  {
   "cell_type": "code",
   "execution_count": 159,
   "id": "bfd3d2df",
   "metadata": {
    "execution": {
     "iopub.execute_input": "2022-02-26T00:48:20.135471Z",
     "iopub.status.busy": "2022-02-26T00:48:20.134473Z",
     "iopub.status.idle": "2022-02-26T00:48:20.170223Z",
     "shell.execute_reply": "2022-02-26T00:48:20.169258Z",
     "shell.execute_reply.started": "2022-02-26T00:48:20.135471Z"
    },
    "tags": []
   },
   "outputs": [
    {
     "name": "stdout",
     "output_type": "stream",
     "text": [
      "There are 240 duplicated rows in the red wine dataset and 937 in the white one.\n"
     ]
    }
   ],
   "source": [
    "# How many duplicate rows are in the white and red dataset?\n",
    "red_duplicated = df_red.duplicated().sum()\n",
    "white_duplicated = df_white.duplicated().sum()\n",
    "\n",
    "print(f\"There are {red_duplicated} duplicated rows in the red wine dataset and {white_duplicated} in the white one.\")"
   ]
  },
  {
   "cell_type": "code",
   "execution_count": 160,
   "id": "ad56cd6a",
   "metadata": {
    "execution": {
     "iopub.execute_input": "2022-02-26T00:48:20.545408Z",
     "iopub.status.busy": "2022-02-26T00:48:20.544371Z",
     "iopub.status.idle": "2022-02-26T00:48:20.560438Z",
     "shell.execute_reply": "2022-02-26T00:48:20.559364Z",
     "shell.execute_reply.started": "2022-02-26T00:48:20.545408Z"
    },
    "tags": []
   },
   "outputs": [
    {
     "name": "stdout",
     "output_type": "stream",
     "text": [
      "There are 6 unique values of quality in the red wine dataset. They are [3, 4, 5, 6, 7, 8]\n",
      "There are 7 unique values of quality in the red wine dataset. They are [3, 4, 5, 6, 7, 8, 9]\n"
     ]
    }
   ],
   "source": [
    "# How many unique values of quality are in the red and white wine dataset?\n",
    "quality_white = df_white[['quality']].drop_duplicates()\n",
    "quality_red = df_red[['quality']].drop_duplicates()\n",
    "\n",
    "result_red = [x for x in quality_red['quality']]\n",
    "result_white = [x for x in quality_white['quality']]\n",
    "\n",
    "print(f\"There are {len(result_red)} unique values of quality in the red wine dataset. They are {sorted(result_red)}\")\n",
    "print(f\"There are {len(result_white)} unique values of quality in the red wine dataset. They are {sorted(result_white)}\")"
   ]
  },
  {
   "cell_type": "code",
   "execution_count": 161,
   "id": "0dd79089",
   "metadata": {
    "execution": {
     "iopub.execute_input": "2022-02-26T00:48:20.995652Z",
     "iopub.status.busy": "2022-02-26T00:48:20.995652Z",
     "iopub.status.idle": "2022-02-26T00:48:21.005666Z",
     "shell.execute_reply": "2022-02-26T00:48:21.004668Z",
     "shell.execute_reply.started": "2022-02-26T00:48:20.995652Z"
    },
    "tags": []
   },
   "outputs": [
    {
     "name": "stdout",
     "output_type": "stream",
     "text": [
      "The mean density of the red wine dataset is 0.9967466791744831 and the white one is 0.9940273764801896\n"
     ]
    }
   ],
   "source": [
    "# What is the mean density in the red and white wine dataset?\n",
    "r_min_density = df_red['density'].mean()\n",
    "w_min_density = df_white['density'].mean()\n",
    "\n",
    "print(f\"The mean density of the red wine dataset is {r_min_density} and the white one is {w_min_density}\")"
   ]
  },
  {
   "cell_type": "markdown",
   "id": "379e9679",
   "metadata": {},
   "source": [
    "## Appending Data"
   ]
  },
  {
   "cell_type": "code",
   "execution_count": 162,
   "id": "e4c44268",
   "metadata": {
    "execution": {
     "iopub.execute_input": "2022-02-26T00:48:21.833208Z",
     "iopub.status.busy": "2022-02-26T00:48:21.833208Z",
     "iopub.status.idle": "2022-02-26T00:48:21.850327Z",
     "shell.execute_reply": "2022-02-26T00:48:21.849331Z",
     "shell.execute_reply.started": "2022-02-26T00:48:21.833208Z"
    },
    "tags": []
   },
   "outputs": [],
   "source": [
    "# create color array for red dataframe\n",
    "color_red = np.repeat('red', df_red.shape[0])\n",
    "\n",
    "# create color_array for white dataframe\n",
    "color_white = np.repeat('white', df_white.shape[0])"
   ]
  },
  {
   "cell_type": "code",
   "execution_count": 163,
   "id": "0267a949",
   "metadata": {
    "execution": {
     "iopub.execute_input": "2022-02-26T00:48:22.248676Z",
     "iopub.status.busy": "2022-02-26T00:48:22.248401Z",
     "iopub.status.idle": "2022-02-26T00:48:22.269303Z",
     "shell.execute_reply": "2022-02-26T00:48:22.268378Z",
     "shell.execute_reply.started": "2022-02-26T00:48:22.248676Z"
    },
    "tags": []
   },
   "outputs": [],
   "source": [
    "df_red['color'] = color_red\n",
    "df_white['color'] = color_white"
   ]
  },
  {
   "cell_type": "code",
   "execution_count": 164,
   "id": "7101d8d9",
   "metadata": {
    "execution": {
     "iopub.execute_input": "2022-02-26T00:48:22.715492Z",
     "iopub.status.busy": "2022-02-26T00:48:22.715492Z",
     "iopub.status.idle": "2022-02-26T00:48:22.721735Z",
     "shell.execute_reply": "2022-02-26T00:48:22.721474Z",
     "shell.execute_reply.started": "2022-02-26T00:48:22.715492Z"
    },
    "tags": []
   },
   "outputs": [],
   "source": [
    "df_red = df_red.rename(columns={'total_sulfur-dioxide': 'total_sulfur_dioxide'})\n",
    "df_wine = df_red.append(df_white, ignore_index=True, sort=False)"
   ]
  },
  {
   "cell_type": "code",
   "execution_count": 165,
   "id": "26905c8b",
   "metadata": {
    "execution": {
     "iopub.execute_input": "2022-02-26T00:48:23.145314Z",
     "iopub.status.busy": "2022-02-26T00:48:23.145314Z",
     "iopub.status.idle": "2022-02-26T00:48:23.160452Z",
     "shell.execute_reply": "2022-02-26T00:48:23.160335Z",
     "shell.execute_reply.started": "2022-02-26T00:48:23.145314Z"
    },
    "tags": []
   },
   "outputs": [],
   "source": [
    "df_wine.rename(columns={'fixed acidity': 'fixed_acidity',\n",
    "                       'volatile acidity': 'volatile_acidity',\n",
    "                       'citric acid': 'citric_acid',\n",
    "                       'residual sugar': 'residual_sugar',\n",
    "                       'free sulfur dioxide': 'free_sulfur_dioxide',\n",
    "                       'total sulfur dioxide': 'total_sulfur_dioxide'},\n",
    "               inplace=True)"
   ]
  },
  {
   "cell_type": "code",
   "execution_count": 166,
   "id": "0e7941e8",
   "metadata": {
    "execution": {
     "iopub.execute_input": "2022-02-26T00:48:24.129579Z",
     "iopub.status.busy": "2022-02-26T00:48:24.128911Z",
     "iopub.status.idle": "2022-02-26T00:48:24.160721Z",
     "shell.execute_reply": "2022-02-26T00:48:24.159633Z",
     "shell.execute_reply.started": "2022-02-26T00:48:24.129579Z"
    },
    "tags": []
   },
   "outputs": [
    {
     "data": {
      "text/html": [
       "<div>\n",
       "<style scoped>\n",
       "    .dataframe tbody tr th:only-of-type {\n",
       "        vertical-align: middle;\n",
       "    }\n",
       "\n",
       "    .dataframe tbody tr th {\n",
       "        vertical-align: top;\n",
       "    }\n",
       "\n",
       "    .dataframe thead th {\n",
       "        text-align: right;\n",
       "    }\n",
       "</style>\n",
       "<table border=\"1\" class=\"dataframe\">\n",
       "  <thead>\n",
       "    <tr style=\"text-align: right;\">\n",
       "      <th></th>\n",
       "      <th>fixed_acidity</th>\n",
       "      <th>volatile_acidity</th>\n",
       "      <th>citric_acid</th>\n",
       "      <th>residual_sugar</th>\n",
       "      <th>chlorides</th>\n",
       "      <th>free_sulfur_dioxide</th>\n",
       "      <th>total_sulfur_dioxide</th>\n",
       "      <th>density</th>\n",
       "      <th>pH</th>\n",
       "      <th>sulphates</th>\n",
       "      <th>alcohol</th>\n",
       "      <th>quality</th>\n",
       "      <th>color</th>\n",
       "    </tr>\n",
       "  </thead>\n",
       "  <tbody>\n",
       "    <tr>\n",
       "      <th>0</th>\n",
       "      <td>7.4</td>\n",
       "      <td>0.70</td>\n",
       "      <td>0.00</td>\n",
       "      <td>1.9</td>\n",
       "      <td>0.076</td>\n",
       "      <td>11.0</td>\n",
       "      <td>34.0</td>\n",
       "      <td>0.9978</td>\n",
       "      <td>3.51</td>\n",
       "      <td>0.56</td>\n",
       "      <td>9.4</td>\n",
       "      <td>5</td>\n",
       "      <td>red</td>\n",
       "    </tr>\n",
       "    <tr>\n",
       "      <th>1</th>\n",
       "      <td>7.8</td>\n",
       "      <td>0.88</td>\n",
       "      <td>0.00</td>\n",
       "      <td>2.6</td>\n",
       "      <td>0.098</td>\n",
       "      <td>25.0</td>\n",
       "      <td>67.0</td>\n",
       "      <td>0.9968</td>\n",
       "      <td>3.20</td>\n",
       "      <td>0.68</td>\n",
       "      <td>9.8</td>\n",
       "      <td>5</td>\n",
       "      <td>red</td>\n",
       "    </tr>\n",
       "    <tr>\n",
       "      <th>2</th>\n",
       "      <td>7.8</td>\n",
       "      <td>0.76</td>\n",
       "      <td>0.04</td>\n",
       "      <td>2.3</td>\n",
       "      <td>0.092</td>\n",
       "      <td>15.0</td>\n",
       "      <td>54.0</td>\n",
       "      <td>0.9970</td>\n",
       "      <td>3.26</td>\n",
       "      <td>0.65</td>\n",
       "      <td>9.8</td>\n",
       "      <td>5</td>\n",
       "      <td>red</td>\n",
       "    </tr>\n",
       "    <tr>\n",
       "      <th>3</th>\n",
       "      <td>11.2</td>\n",
       "      <td>0.28</td>\n",
       "      <td>0.56</td>\n",
       "      <td>1.9</td>\n",
       "      <td>0.075</td>\n",
       "      <td>17.0</td>\n",
       "      <td>60.0</td>\n",
       "      <td>0.9980</td>\n",
       "      <td>3.16</td>\n",
       "      <td>0.58</td>\n",
       "      <td>9.8</td>\n",
       "      <td>6</td>\n",
       "      <td>red</td>\n",
       "    </tr>\n",
       "    <tr>\n",
       "      <th>4</th>\n",
       "      <td>7.4</td>\n",
       "      <td>0.70</td>\n",
       "      <td>0.00</td>\n",
       "      <td>1.9</td>\n",
       "      <td>0.076</td>\n",
       "      <td>11.0</td>\n",
       "      <td>34.0</td>\n",
       "      <td>0.9978</td>\n",
       "      <td>3.51</td>\n",
       "      <td>0.56</td>\n",
       "      <td>9.4</td>\n",
       "      <td>5</td>\n",
       "      <td>red</td>\n",
       "    </tr>\n",
       "  </tbody>\n",
       "</table>\n",
       "</div>"
      ],
      "text/plain": [
       "   fixed_acidity  volatile_acidity  citric_acid  residual_sugar  chlorides  \\\n",
       "0            7.4              0.70         0.00             1.9      0.076   \n",
       "1            7.8              0.88         0.00             2.6      0.098   \n",
       "2            7.8              0.76         0.04             2.3      0.092   \n",
       "3           11.2              0.28         0.56             1.9      0.075   \n",
       "4            7.4              0.70         0.00             1.9      0.076   \n",
       "\n",
       "   free_sulfur_dioxide  total_sulfur_dioxide  density    pH  sulphates  \\\n",
       "0                 11.0                  34.0   0.9978  3.51       0.56   \n",
       "1                 25.0                  67.0   0.9968  3.20       0.68   \n",
       "2                 15.0                  54.0   0.9970  3.26       0.65   \n",
       "3                 17.0                  60.0   0.9980  3.16       0.58   \n",
       "4                 11.0                  34.0   0.9978  3.51       0.56   \n",
       "\n",
       "   alcohol  quality color  \n",
       "0      9.4        5   red  \n",
       "1      9.8        5   red  \n",
       "2      9.8        5   red  \n",
       "3      9.8        6   red  \n",
       "4      9.4        5   red  "
      ]
     },
     "execution_count": 166,
     "metadata": {},
     "output_type": "execute_result"
    }
   ],
   "source": [
    "df_wine.head()"
   ]
  },
  {
   "cell_type": "code",
   "execution_count": 167,
   "id": "a113c435",
   "metadata": {
    "execution": {
     "iopub.execute_input": "2022-02-26T00:48:24.491469Z",
     "iopub.status.busy": "2022-02-26T00:48:24.491469Z",
     "iopub.status.idle": "2022-02-26T00:48:24.501443Z",
     "shell.execute_reply": "2022-02-26T00:48:24.500511Z",
     "shell.execute_reply.started": "2022-02-26T00:48:24.491469Z"
    },
    "tags": []
   },
   "outputs": [
    {
     "name": "stdout",
     "output_type": "stream",
     "text": [
      "There are 6497 rows and 13 columns in the new dataframe.\n"
     ]
    }
   ],
   "source": [
    "print(f\"There are {df_wine.shape[0]} rows and {df_wine.shape[1]} columns in the new dataframe.\")"
   ]
  },
  {
   "cell_type": "markdown",
   "id": "384199a6",
   "metadata": {},
   "source": [
    "## Exploratory Data Analysis with Visuals"
   ]
  },
  {
   "cell_type": "markdown",
   "id": "5bd0f9df",
   "metadata": {},
   "source": [
    "#### Histograms for Various Features"
   ]
  },
  {
   "cell_type": "code",
   "execution_count": 168,
   "id": "5177e5c0",
   "metadata": {
    "execution": {
     "iopub.execute_input": "2022-02-26T00:48:25.598772Z",
     "iopub.status.busy": "2022-02-26T00:48:25.598772Z",
     "iopub.status.idle": "2022-02-26T00:48:25.608941Z",
     "shell.execute_reply": "2022-02-26T00:48:25.607941Z",
     "shell.execute_reply.started": "2022-02-26T00:48:25.598772Z"
    },
    "tags": []
   },
   "outputs": [
    {
     "data": {
      "text/plain": [
       "Index(['fixed_acidity', 'volatile_acidity', 'citric_acid', 'residual_sugar',\n",
       "       'chlorides', 'free_sulfur_dioxide', 'total_sulfur_dioxide', 'density',\n",
       "       'pH', 'sulphates', 'alcohol', 'quality', 'color'],\n",
       "      dtype='object')"
      ]
     },
     "execution_count": 168,
     "metadata": {},
     "output_type": "execute_result"
    }
   ],
   "source": [
    "df_wine.columns"
   ]
  },
  {
   "cell_type": "code",
   "execution_count": 169,
   "id": "8ca12e91",
   "metadata": {
    "execution": {
     "iopub.execute_input": "2022-02-26T00:48:25.932420Z",
     "iopub.status.busy": "2022-02-26T00:48:25.931391Z",
     "iopub.status.idle": "2022-02-26T00:48:26.248692Z",
     "shell.execute_reply": "2022-02-26T00:48:26.247634Z",
     "shell.execute_reply.started": "2022-02-26T00:48:25.932420Z"
    },
    "tags": []
   },
   "outputs": [
    {
     "data": {
      "image/png": "[encoded data removed]",
      "text/plain": [
       "<Figure size 432x288 with 1 Axes>"
      ]
     },
     "metadata": {
      "needs_background": "light"
     },
     "output_type": "display_data"
    }
   ],
   "source": [
    "df_wine[['fixed_acidity']].hist();"
   ]
  },
  {
   "cell_type": "code",
   "execution_count": 170,
   "id": "1348ca74",
   "metadata": {
    "execution": {
     "iopub.execute_input": "2022-02-26T00:48:26.315510Z",
     "iopub.status.busy": "2022-02-26T00:48:26.314514Z",
     "iopub.status.idle": "2022-02-26T00:48:26.650321Z",
     "shell.execute_reply": "2022-02-26T00:48:26.649465Z",
     "shell.execute_reply.started": "2022-02-26T00:48:26.315510Z"
    },
    "tags": []
   },
   "outputs": [
    {
     "data": {
      "image/png": "[encoded data removed]",
      "text/plain": [
       "<Figure size 432x288 with 1 Axes>"
      ]
     },
     "metadata": {
      "needs_background": "light"
     },
     "output_type": "display_data"
    }
   ],
   "source": [
    "df_wine[['total_sulfur_dioxide']].hist();"
   ]
  },
  {
   "cell_type": "code",
   "execution_count": 171,
   "id": "3d885d9c",
   "metadata": {
    "execution": {
     "iopub.execute_input": "2022-02-26T00:48:26.740039Z",
     "iopub.status.busy": "2022-02-26T00:48:26.739892Z",
     "iopub.status.idle": "2022-02-26T00:48:27.146643Z",
     "shell.execute_reply": "2022-02-26T00:48:27.146189Z",
     "shell.execute_reply.started": "2022-02-26T00:48:26.740039Z"
    },
    "tags": []
   },
   "outputs": [
    {
     "data": {
      "image/png": "[encoded data removed]",
      "text/plain": [
       "<Figure size 432x288 with 1 Axes>"
      ]
     },
     "metadata": {
      "needs_background": "light"
     },
     "output_type": "display_data"
    }
   ],
   "source": [
    "df_wine[['pH']].hist();"
   ]
  },
  {
   "cell_type": "code",
   "execution_count": 172,
   "id": "731ee771",
   "metadata": {
    "execution": {
     "iopub.execute_input": "2022-02-26T00:48:27.480707Z",
     "iopub.status.busy": "2022-02-26T00:48:27.480707Z",
     "iopub.status.idle": "2022-02-26T00:48:27.817610Z",
     "shell.execute_reply": "2022-02-26T00:48:27.816363Z",
     "shell.execute_reply.started": "2022-02-26T00:48:27.480707Z"
    },
    "tags": []
   },
   "outputs": [
    {
     "data": {
      "image/png": "[encoded data removed]",
      "text/plain": [
       "<Figure size 432x288 with 1 Axes>"
      ]
     },
     "metadata": {
      "needs_background": "light"
     },
     "output_type": "display_data"
    }
   ],
   "source": [
    "df_wine[['alcohol']].hist();"
   ]
  },
  {
   "cell_type": "markdown",
   "id": "720aa897",
   "metadata": {},
   "source": [
    "#### Scatterplots of Quality Against Various Features"
   ]
  },
  {
   "cell_type": "code",
   "execution_count": 173,
   "id": "7330376e",
   "metadata": {
    "execution": {
     "iopub.execute_input": "2022-02-26T00:48:28.382166Z",
     "iopub.status.busy": "2022-02-26T00:48:28.382166Z",
     "iopub.status.idle": "2022-02-26T00:48:28.660270Z",
     "shell.execute_reply": "2022-02-26T00:48:28.659398Z",
     "shell.execute_reply.started": "2022-02-26T00:48:28.382166Z"
    },
    "tags": []
   },
   "outputs": [
    {
     "data": {
      "image/png": "[encoded data removed]",
      "text/plain": [
       "<Figure size 432x288 with 1 Axes>"
      ]
     },
     "metadata": {
      "needs_background": "light"
     },
     "output_type": "display_data"
    }
   ],
   "source": [
    "df_wine.plot(x='volatile_acidity', y='quality', kind='scatter');"
   ]
  },
  {
   "cell_type": "code",
   "execution_count": 174,
   "id": "f8c1323c",
   "metadata": {
    "execution": {
     "iopub.execute_input": "2022-02-26T00:48:28.816387Z",
     "iopub.status.busy": "2022-02-26T00:48:28.816387Z",
     "iopub.status.idle": "2022-02-26T00:48:29.098285Z",
     "shell.execute_reply": "2022-02-26T00:48:29.097739Z",
     "shell.execute_reply.started": "2022-02-26T00:48:28.816387Z"
    },
    "tags": []
   },
   "outputs": [
    {
     "data": {
      "image/png": "[encoded data removed]",
      "text/plain": [
       "<Figure size 432x288 with 1 Axes>"
      ]
     },
     "metadata": {
      "needs_background": "light"
     },
     "output_type": "display_data"
    }
   ],
   "source": [
    "df_wine.plot(x='residual_sugar', y='quality', kind='scatter');"
   ]
  },
  {
   "cell_type": "code",
   "execution_count": 175,
   "id": "ebb567b9",
   "metadata": {
    "execution": {
     "iopub.execute_input": "2022-02-26T00:48:29.322415Z",
     "iopub.status.busy": "2022-02-26T00:48:29.321417Z",
     "iopub.status.idle": "2022-02-26T00:48:29.588429Z",
     "shell.execute_reply": "2022-02-26T00:48:29.587432Z",
     "shell.execute_reply.started": "2022-02-26T00:48:29.322415Z"
    },
    "tags": []
   },
   "outputs": [
    {
     "data": {
      "image/png": "[encoded data removed]",
      "text/plain": [
       "<Figure size 432x288 with 1 Axes>"
      ]
     },
     "metadata": {
      "needs_background": "light"
     },
     "output_type": "display_data"
    }
   ],
   "source": [
    "df_wine.plot(x='pH', y='quality', kind='scatter');"
   ]
  },
  {
   "cell_type": "code",
   "execution_count": 176,
   "id": "fe97786f",
   "metadata": {
    "execution": {
     "iopub.execute_input": "2022-02-26T00:48:29.975328Z",
     "iopub.status.busy": "2022-02-26T00:48:29.974359Z",
     "iopub.status.idle": "2022-02-26T00:48:30.217545Z",
     "shell.execute_reply": "2022-02-26T00:48:30.216549Z",
     "shell.execute_reply.started": "2022-02-26T00:48:29.974359Z"
    },
    "tags": []
   },
   "outputs": [
    {
     "data": {
      "image/png": "[encoded data removed]",
      "text/plain": [
       "<Figure size 432x288 with 1 Axes>"
      ]
     },
     "metadata": {
      "needs_background": "light"
     },
     "output_type": "display_data"
    }
   ],
   "source": [
    "df_wine.plot(x='alcohol', y='quality', kind='scatter');"
   ]
  },
  {
   "cell_type": "markdown",
   "id": "bec2967a",
   "metadata": {},
   "source": [
    "## Pandas Groupby"
   ]
  },
  {
   "cell_type": "code",
   "execution_count": 177,
   "id": "0af0c128",
   "metadata": {
    "execution": {
     "iopub.execute_input": "2022-02-26T00:48:31.253244Z",
     "iopub.status.busy": "2022-02-26T00:48:31.252246Z",
     "iopub.status.idle": "2022-02-26T00:48:31.276239Z",
     "shell.execute_reply": "2022-02-26T00:48:31.275241Z",
     "shell.execute_reply.started": "2022-02-26T00:48:31.253244Z"
    },
    "tags": []
   },
   "outputs": [
    {
     "data": {
      "text/html": [
       "<div>\n",
       "<style scoped>\n",
       "    .dataframe tbody tr th:only-of-type {\n",
       "        vertical-align: middle;\n",
       "    }\n",
       "\n",
       "    .dataframe tbody tr th {\n",
       "        vertical-align: top;\n",
       "    }\n",
       "\n",
       "    .dataframe thead th {\n",
       "        text-align: right;\n",
       "    }\n",
       "</style>\n",
       "<table border=\"1\" class=\"dataframe\">\n",
       "  <thead>\n",
       "    <tr style=\"text-align: right;\">\n",
       "      <th></th>\n",
       "      <th>fixed_acidity</th>\n",
       "      <th>volatile_acidity</th>\n",
       "      <th>citric_acid</th>\n",
       "      <th>residual_sugar</th>\n",
       "      <th>chlorides</th>\n",
       "      <th>free_sulfur_dioxide</th>\n",
       "      <th>total_sulfur_dioxide</th>\n",
       "      <th>density</th>\n",
       "      <th>pH</th>\n",
       "      <th>sulphates</th>\n",
       "      <th>alcohol</th>\n",
       "    </tr>\n",
       "    <tr>\n",
       "      <th>quality</th>\n",
       "      <th></th>\n",
       "      <th></th>\n",
       "      <th></th>\n",
       "      <th></th>\n",
       "      <th></th>\n",
       "      <th></th>\n",
       "      <th></th>\n",
       "      <th></th>\n",
       "      <th></th>\n",
       "      <th></th>\n",
       "      <th></th>\n",
       "    </tr>\n",
       "  </thead>\n",
       "  <tbody>\n",
       "    <tr>\n",
       "      <th>3</th>\n",
       "      <td>7.853333</td>\n",
       "      <td>0.517000</td>\n",
       "      <td>0.281000</td>\n",
       "      <td>5.140000</td>\n",
       "      <td>0.077033</td>\n",
       "      <td>39.216667</td>\n",
       "      <td>122.033333</td>\n",
       "      <td>0.995744</td>\n",
       "      <td>3.257667</td>\n",
       "      <td>0.506333</td>\n",
       "      <td>10.215000</td>\n",
       "    </tr>\n",
       "    <tr>\n",
       "      <th>4</th>\n",
       "      <td>7.288889</td>\n",
       "      <td>0.457963</td>\n",
       "      <td>0.272315</td>\n",
       "      <td>4.153704</td>\n",
       "      <td>0.060056</td>\n",
       "      <td>20.636574</td>\n",
       "      <td>103.432870</td>\n",
       "      <td>0.994833</td>\n",
       "      <td>3.231620</td>\n",
       "      <td>0.505648</td>\n",
       "      <td>10.180093</td>\n",
       "    </tr>\n",
       "    <tr>\n",
       "      <th>5</th>\n",
       "      <td>7.326801</td>\n",
       "      <td>0.389614</td>\n",
       "      <td>0.307722</td>\n",
       "      <td>5.804116</td>\n",
       "      <td>0.064666</td>\n",
       "      <td>30.237371</td>\n",
       "      <td>120.839102</td>\n",
       "      <td>0.995849</td>\n",
       "      <td>3.212189</td>\n",
       "      <td>0.526403</td>\n",
       "      <td>9.837783</td>\n",
       "    </tr>\n",
       "    <tr>\n",
       "      <th>6</th>\n",
       "      <td>7.177257</td>\n",
       "      <td>0.313863</td>\n",
       "      <td>0.323583</td>\n",
       "      <td>5.549753</td>\n",
       "      <td>0.054157</td>\n",
       "      <td>31.165021</td>\n",
       "      <td>115.410790</td>\n",
       "      <td>0.994558</td>\n",
       "      <td>3.217726</td>\n",
       "      <td>0.532549</td>\n",
       "      <td>10.587553</td>\n",
       "    </tr>\n",
       "    <tr>\n",
       "      <th>7</th>\n",
       "      <td>7.128962</td>\n",
       "      <td>0.288800</td>\n",
       "      <td>0.334764</td>\n",
       "      <td>4.731696</td>\n",
       "      <td>0.045272</td>\n",
       "      <td>30.422150</td>\n",
       "      <td>108.498610</td>\n",
       "      <td>0.993126</td>\n",
       "      <td>3.228072</td>\n",
       "      <td>0.547025</td>\n",
       "      <td>11.386006</td>\n",
       "    </tr>\n",
       "    <tr>\n",
       "      <th>8</th>\n",
       "      <td>6.835233</td>\n",
       "      <td>0.291010</td>\n",
       "      <td>0.332539</td>\n",
       "      <td>5.382902</td>\n",
       "      <td>0.041124</td>\n",
       "      <td>34.533679</td>\n",
       "      <td>117.518135</td>\n",
       "      <td>0.992514</td>\n",
       "      <td>3.223212</td>\n",
       "      <td>0.512487</td>\n",
       "      <td>11.678756</td>\n",
       "    </tr>\n",
       "    <tr>\n",
       "      <th>9</th>\n",
       "      <td>7.420000</td>\n",
       "      <td>0.298000</td>\n",
       "      <td>0.386000</td>\n",
       "      <td>4.120000</td>\n",
       "      <td>0.027400</td>\n",
       "      <td>33.400000</td>\n",
       "      <td>116.000000</td>\n",
       "      <td>0.991460</td>\n",
       "      <td>3.308000</td>\n",
       "      <td>0.466000</td>\n",
       "      <td>12.180000</td>\n",
       "    </tr>\n",
       "  </tbody>\n",
       "</table>\n",
       "</div>"
      ],
      "text/plain": [
       "         fixed_acidity  volatile_acidity  citric_acid  residual_sugar  \\\n",
       "quality                                                                 \n",
       "3             7.853333          0.517000     0.281000        5.140000   \n",
       "4             7.288889          0.457963     0.272315        4.153704   \n",
       "5             7.326801          0.389614     0.307722        5.804116   \n",
       "6             7.177257          0.313863     0.323583        5.549753   \n",
       "7             7.128962          0.288800     0.334764        4.731696   \n",
       "8             6.835233          0.291010     0.332539        5.382902   \n",
       "9             7.420000          0.298000     0.386000        4.120000   \n",
       "\n",
       "         chlorides  free_sulfur_dioxide  total_sulfur_dioxide   density  \\\n",
       "quality                                                                   \n",
       "3         0.077033            39.216667            122.033333  0.995744   \n",
       "4         0.060056            20.636574            103.432870  0.994833   \n",
       "5         0.064666            30.237371            120.839102  0.995849   \n",
       "6         0.054157            31.165021            115.410790  0.994558   \n",
       "7         0.045272            30.422150            108.498610  0.993126   \n",
       "8         0.041124            34.533679            117.518135  0.992514   \n",
       "9         0.027400            33.400000            116.000000  0.991460   \n",
       "\n",
       "               pH  sulphates    alcohol  \n",
       "quality                                  \n",
       "3        3.257667   0.506333  10.215000  \n",
       "4        3.231620   0.505648  10.180093  \n",
       "5        3.212189   0.526403   9.837783  \n",
       "6        3.217726   0.532549  10.587553  \n",
       "7        3.228072   0.547025  11.386006  \n",
       "8        3.223212   0.512487  11.678756  \n",
       "9        3.308000   0.466000  12.180000  "
      ]
     },
     "execution_count": 177,
     "metadata": {},
     "output_type": "execute_result"
    }
   ],
   "source": [
    "df_wine.groupby('quality').mean()"
   ]
  },
  {
   "cell_type": "code",
   "execution_count": 178,
   "id": "d49240b7",
   "metadata": {
    "execution": {
     "iopub.execute_input": "2022-02-26T00:48:31.799655Z",
     "iopub.status.busy": "2022-02-26T00:48:31.798628Z",
     "iopub.status.idle": "2022-02-26T00:48:31.839103Z",
     "shell.execute_reply": "2022-02-26T00:48:31.838431Z",
     "shell.execute_reply.started": "2022-02-26T00:48:31.799655Z"
    },
    "tags": []
   },
   "outputs": [
    {
     "data": {
      "text/html": [
       "<div>\n",
       "<style scoped>\n",
       "    .dataframe tbody tr th:only-of-type {\n",
       "        vertical-align: middle;\n",
       "    }\n",
       "\n",
       "    .dataframe tbody tr th {\n",
       "        vertical-align: top;\n",
       "    }\n",
       "\n",
       "    .dataframe thead th {\n",
       "        text-align: right;\n",
       "    }\n",
       "</style>\n",
       "<table border=\"1\" class=\"dataframe\">\n",
       "  <thead>\n",
       "    <tr style=\"text-align: right;\">\n",
       "      <th></th>\n",
       "      <th>quality</th>\n",
       "      <th>color</th>\n",
       "      <th>fixed_acidity</th>\n",
       "      <th>volatile_acidity</th>\n",
       "      <th>citric_acid</th>\n",
       "      <th>residual_sugar</th>\n",
       "      <th>chlorides</th>\n",
       "      <th>free_sulfur_dioxide</th>\n",
       "      <th>total_sulfur_dioxide</th>\n",
       "      <th>density</th>\n",
       "      <th>pH</th>\n",
       "      <th>sulphates</th>\n",
       "      <th>alcohol</th>\n",
       "    </tr>\n",
       "  </thead>\n",
       "  <tbody>\n",
       "    <tr>\n",
       "      <th>0</th>\n",
       "      <td>3</td>\n",
       "      <td>red</td>\n",
       "      <td>8.360000</td>\n",
       "      <td>0.884500</td>\n",
       "      <td>0.171000</td>\n",
       "      <td>2.635000</td>\n",
       "      <td>0.122500</td>\n",
       "      <td>11.000000</td>\n",
       "      <td>24.900000</td>\n",
       "      <td>0.997464</td>\n",
       "      <td>3.398000</td>\n",
       "      <td>0.570000</td>\n",
       "      <td>9.955000</td>\n",
       "    </tr>\n",
       "    <tr>\n",
       "      <th>1</th>\n",
       "      <td>3</td>\n",
       "      <td>white</td>\n",
       "      <td>7.600000</td>\n",
       "      <td>0.333250</td>\n",
       "      <td>0.336000</td>\n",
       "      <td>6.392500</td>\n",
       "      <td>0.054300</td>\n",
       "      <td>53.325000</td>\n",
       "      <td>170.600000</td>\n",
       "      <td>0.994884</td>\n",
       "      <td>3.187500</td>\n",
       "      <td>0.474500</td>\n",
       "      <td>10.345000</td>\n",
       "    </tr>\n",
       "    <tr>\n",
       "      <th>2</th>\n",
       "      <td>4</td>\n",
       "      <td>red</td>\n",
       "      <td>7.779245</td>\n",
       "      <td>0.693962</td>\n",
       "      <td>0.174151</td>\n",
       "      <td>2.694340</td>\n",
       "      <td>0.090679</td>\n",
       "      <td>12.264151</td>\n",
       "      <td>36.245283</td>\n",
       "      <td>0.996542</td>\n",
       "      <td>3.381509</td>\n",
       "      <td>0.596415</td>\n",
       "      <td>10.265094</td>\n",
       "    </tr>\n",
       "    <tr>\n",
       "      <th>3</th>\n",
       "      <td>4</td>\n",
       "      <td>white</td>\n",
       "      <td>7.129448</td>\n",
       "      <td>0.381227</td>\n",
       "      <td>0.304233</td>\n",
       "      <td>4.628221</td>\n",
       "      <td>0.050098</td>\n",
       "      <td>23.358896</td>\n",
       "      <td>125.279141</td>\n",
       "      <td>0.994277</td>\n",
       "      <td>3.182883</td>\n",
       "      <td>0.476135</td>\n",
       "      <td>10.152454</td>\n",
       "    </tr>\n",
       "    <tr>\n",
       "      <th>4</th>\n",
       "      <td>5</td>\n",
       "      <td>red</td>\n",
       "      <td>8.167254</td>\n",
       "      <td>0.577041</td>\n",
       "      <td>0.243686</td>\n",
       "      <td>2.528855</td>\n",
       "      <td>0.092736</td>\n",
       "      <td>16.983847</td>\n",
       "      <td>56.513950</td>\n",
       "      <td>0.997104</td>\n",
       "      <td>3.304949</td>\n",
       "      <td>0.620969</td>\n",
       "      <td>9.899706</td>\n",
       "    </tr>\n",
       "    <tr>\n",
       "      <th>5</th>\n",
       "      <td>5</td>\n",
       "      <td>white</td>\n",
       "      <td>6.933974</td>\n",
       "      <td>0.302011</td>\n",
       "      <td>0.337653</td>\n",
       "      <td>7.334969</td>\n",
       "      <td>0.051546</td>\n",
       "      <td>36.432052</td>\n",
       "      <td>150.904598</td>\n",
       "      <td>0.995263</td>\n",
       "      <td>3.168833</td>\n",
       "      <td>0.482203</td>\n",
       "      <td>9.808840</td>\n",
       "    </tr>\n",
       "    <tr>\n",
       "      <th>6</th>\n",
       "      <td>6</td>\n",
       "      <td>red</td>\n",
       "      <td>8.347179</td>\n",
       "      <td>0.497484</td>\n",
       "      <td>0.273824</td>\n",
       "      <td>2.477194</td>\n",
       "      <td>0.084956</td>\n",
       "      <td>15.711599</td>\n",
       "      <td>40.869906</td>\n",
       "      <td>0.996615</td>\n",
       "      <td>3.318072</td>\n",
       "      <td>0.675329</td>\n",
       "      <td>10.629519</td>\n",
       "    </tr>\n",
       "    <tr>\n",
       "      <th>7</th>\n",
       "      <td>6</td>\n",
       "      <td>white</td>\n",
       "      <td>6.837671</td>\n",
       "      <td>0.260564</td>\n",
       "      <td>0.338025</td>\n",
       "      <td>6.441606</td>\n",
       "      <td>0.045217</td>\n",
       "      <td>35.650591</td>\n",
       "      <td>137.047316</td>\n",
       "      <td>0.993961</td>\n",
       "      <td>3.188599</td>\n",
       "      <td>0.491106</td>\n",
       "      <td>10.575372</td>\n",
       "    </tr>\n",
       "    <tr>\n",
       "      <th>8</th>\n",
       "      <td>7</td>\n",
       "      <td>red</td>\n",
       "      <td>8.872362</td>\n",
       "      <td>0.403920</td>\n",
       "      <td>0.375176</td>\n",
       "      <td>2.720603</td>\n",
       "      <td>0.076588</td>\n",
       "      <td>14.045226</td>\n",
       "      <td>35.020101</td>\n",
       "      <td>0.996104</td>\n",
       "      <td>3.290754</td>\n",
       "      <td>0.741256</td>\n",
       "      <td>11.465913</td>\n",
       "    </tr>\n",
       "    <tr>\n",
       "      <th>9</th>\n",
       "      <td>7</td>\n",
       "      <td>white</td>\n",
       "      <td>6.734716</td>\n",
       "      <td>0.262767</td>\n",
       "      <td>0.325625</td>\n",
       "      <td>5.186477</td>\n",
       "      <td>0.038191</td>\n",
       "      <td>34.125568</td>\n",
       "      <td>125.114773</td>\n",
       "      <td>0.992452</td>\n",
       "      <td>3.213898</td>\n",
       "      <td>0.503102</td>\n",
       "      <td>11.367936</td>\n",
       "    </tr>\n",
       "    <tr>\n",
       "      <th>10</th>\n",
       "      <td>8</td>\n",
       "      <td>red</td>\n",
       "      <td>8.566667</td>\n",
       "      <td>0.423333</td>\n",
       "      <td>0.391111</td>\n",
       "      <td>2.577778</td>\n",
       "      <td>0.068444</td>\n",
       "      <td>13.277778</td>\n",
       "      <td>33.444444</td>\n",
       "      <td>0.995212</td>\n",
       "      <td>3.267222</td>\n",
       "      <td>0.767778</td>\n",
       "      <td>12.094444</td>\n",
       "    </tr>\n",
       "    <tr>\n",
       "      <th>11</th>\n",
       "      <td>8</td>\n",
       "      <td>white</td>\n",
       "      <td>6.657143</td>\n",
       "      <td>0.277400</td>\n",
       "      <td>0.326514</td>\n",
       "      <td>5.671429</td>\n",
       "      <td>0.038314</td>\n",
       "      <td>36.720000</td>\n",
       "      <td>126.165714</td>\n",
       "      <td>0.992236</td>\n",
       "      <td>3.218686</td>\n",
       "      <td>0.486229</td>\n",
       "      <td>11.636000</td>\n",
       "    </tr>\n",
       "    <tr>\n",
       "      <th>12</th>\n",
       "      <td>9</td>\n",
       "      <td>white</td>\n",
       "      <td>7.420000</td>\n",
       "      <td>0.298000</td>\n",
       "      <td>0.386000</td>\n",
       "      <td>4.120000</td>\n",
       "      <td>0.027400</td>\n",
       "      <td>33.400000</td>\n",
       "      <td>116.000000</td>\n",
       "      <td>0.991460</td>\n",
       "      <td>3.308000</td>\n",
       "      <td>0.466000</td>\n",
       "      <td>12.180000</td>\n",
       "    </tr>\n",
       "  </tbody>\n",
       "</table>\n",
       "</div>"
      ],
      "text/plain": [
       "    quality  color  fixed_acidity  volatile_acidity  citric_acid  \\\n",
       "0         3    red       8.360000          0.884500     0.171000   \n",
       "1         3  white       7.600000          0.333250     0.336000   \n",
       "2         4    red       7.779245          0.693962     0.174151   \n",
       "3         4  white       7.129448          0.381227     0.304233   \n",
       "4         5    red       8.167254          0.577041     0.243686   \n",
       "5         5  white       6.933974          0.302011     0.337653   \n",
       "6         6    red       8.347179          0.497484     0.273824   \n",
       "7         6  white       6.837671          0.260564     0.338025   \n",
       "8         7    red       8.872362          0.403920     0.375176   \n",
       "9         7  white       6.734716          0.262767     0.325625   \n",
       "10        8    red       8.566667          0.423333     0.391111   \n",
       "11        8  white       6.657143          0.277400     0.326514   \n",
       "12        9  white       7.420000          0.298000     0.386000   \n",
       "\n",
       "    residual_sugar  chlorides  free_sulfur_dioxide  total_sulfur_dioxide  \\\n",
       "0         2.635000   0.122500            11.000000             24.900000   \n",
       "1         6.392500   0.054300            53.325000            170.600000   \n",
       "2         2.694340   0.090679            12.264151             36.245283   \n",
       "3         4.628221   0.050098            23.358896            125.279141   \n",
       "4         2.528855   0.092736            16.983847             56.513950   \n",
       "5         7.334969   0.051546            36.432052            150.904598   \n",
       "6         2.477194   0.084956            15.711599             40.869906   \n",
       "7         6.441606   0.045217            35.650591            137.047316   \n",
       "8         2.720603   0.076588            14.045226             35.020101   \n",
       "9         5.186477   0.038191            34.125568            125.114773   \n",
       "10        2.577778   0.068444            13.277778             33.444444   \n",
       "11        5.671429   0.038314            36.720000            126.165714   \n",
       "12        4.120000   0.027400            33.400000            116.000000   \n",
       "\n",
       "     density        pH  sulphates    alcohol  \n",
       "0   0.997464  3.398000   0.570000   9.955000  \n",
       "1   0.994884  3.187500   0.474500  10.345000  \n",
       "2   0.996542  3.381509   0.596415  10.265094  \n",
       "3   0.994277  3.182883   0.476135  10.152454  \n",
       "4   0.997104  3.304949   0.620969   9.899706  \n",
       "5   0.995263  3.168833   0.482203   9.808840  \n",
       "6   0.996615  3.318072   0.675329  10.629519  \n",
       "7   0.993961  3.188599   0.491106  10.575372  \n",
       "8   0.996104  3.290754   0.741256  11.465913  \n",
       "9   0.992452  3.213898   0.503102  11.367936  \n",
       "10  0.995212  3.267222   0.767778  12.094444  \n",
       "11  0.992236  3.218686   0.486229  11.636000  \n",
       "12  0.991460  3.308000   0.466000  12.180000  "
      ]
     },
     "execution_count": 178,
     "metadata": {},
     "output_type": "execute_result"
    }
   ],
   "source": [
    "df_wine.groupby(['quality', 'color'], as_index=False).mean()"
   ]
  },
  {
   "cell_type": "code",
   "execution_count": 179,
   "id": "142ae792",
   "metadata": {
    "execution": {
     "iopub.execute_input": "2022-02-26T00:48:32.353653Z",
     "iopub.status.busy": "2022-02-26T00:48:32.353653Z",
     "iopub.status.idle": "2022-02-26T00:48:32.386360Z",
     "shell.execute_reply": "2022-02-26T00:48:32.385234Z",
     "shell.execute_reply.started": "2022-02-26T00:48:32.353653Z"
    },
    "tags": []
   },
   "outputs": [
    {
     "data": {
      "text/html": [
       "<div>\n",
       "<style scoped>\n",
       "    .dataframe tbody tr th:only-of-type {\n",
       "        vertical-align: middle;\n",
       "    }\n",
       "\n",
       "    .dataframe tbody tr th {\n",
       "        vertical-align: top;\n",
       "    }\n",
       "\n",
       "    .dataframe thead th {\n",
       "        text-align: right;\n",
       "    }\n",
       "</style>\n",
       "<table border=\"1\" class=\"dataframe\">\n",
       "  <thead>\n",
       "    <tr style=\"text-align: right;\">\n",
       "      <th></th>\n",
       "      <th>quality</th>\n",
       "      <th>color</th>\n",
       "      <th>pH</th>\n",
       "    </tr>\n",
       "  </thead>\n",
       "  <tbody>\n",
       "    <tr>\n",
       "      <th>0</th>\n",
       "      <td>3</td>\n",
       "      <td>red</td>\n",
       "      <td>3.398000</td>\n",
       "    </tr>\n",
       "    <tr>\n",
       "      <th>1</th>\n",
       "      <td>3</td>\n",
       "      <td>white</td>\n",
       "      <td>3.187500</td>\n",
       "    </tr>\n",
       "    <tr>\n",
       "      <th>2</th>\n",
       "      <td>4</td>\n",
       "      <td>red</td>\n",
       "      <td>3.381509</td>\n",
       "    </tr>\n",
       "    <tr>\n",
       "      <th>3</th>\n",
       "      <td>4</td>\n",
       "      <td>white</td>\n",
       "      <td>3.182883</td>\n",
       "    </tr>\n",
       "    <tr>\n",
       "      <th>4</th>\n",
       "      <td>5</td>\n",
       "      <td>red</td>\n",
       "      <td>3.304949</td>\n",
       "    </tr>\n",
       "    <tr>\n",
       "      <th>5</th>\n",
       "      <td>5</td>\n",
       "      <td>white</td>\n",
       "      <td>3.168833</td>\n",
       "    </tr>\n",
       "    <tr>\n",
       "      <th>6</th>\n",
       "      <td>6</td>\n",
       "      <td>red</td>\n",
       "      <td>3.318072</td>\n",
       "    </tr>\n",
       "    <tr>\n",
       "      <th>7</th>\n",
       "      <td>6</td>\n",
       "      <td>white</td>\n",
       "      <td>3.188599</td>\n",
       "    </tr>\n",
       "    <tr>\n",
       "      <th>8</th>\n",
       "      <td>7</td>\n",
       "      <td>red</td>\n",
       "      <td>3.290754</td>\n",
       "    </tr>\n",
       "    <tr>\n",
       "      <th>9</th>\n",
       "      <td>7</td>\n",
       "      <td>white</td>\n",
       "      <td>3.213898</td>\n",
       "    </tr>\n",
       "    <tr>\n",
       "      <th>10</th>\n",
       "      <td>8</td>\n",
       "      <td>red</td>\n",
       "      <td>3.267222</td>\n",
       "    </tr>\n",
       "    <tr>\n",
       "      <th>11</th>\n",
       "      <td>8</td>\n",
       "      <td>white</td>\n",
       "      <td>3.218686</td>\n",
       "    </tr>\n",
       "    <tr>\n",
       "      <th>12</th>\n",
       "      <td>9</td>\n",
       "      <td>white</td>\n",
       "      <td>3.308000</td>\n",
       "    </tr>\n",
       "  </tbody>\n",
       "</table>\n",
       "</div>"
      ],
      "text/plain": [
       "    quality  color        pH\n",
       "0         3    red  3.398000\n",
       "1         3  white  3.187500\n",
       "2         4    red  3.381509\n",
       "3         4  white  3.182883\n",
       "4         5    red  3.304949\n",
       "5         5  white  3.168833\n",
       "6         6    red  3.318072\n",
       "7         6  white  3.188599\n",
       "8         7    red  3.290754\n",
       "9         7  white  3.213898\n",
       "10        8    red  3.267222\n",
       "11        8  white  3.218686\n",
       "12        9  white  3.308000"
      ]
     },
     "execution_count": 179,
     "metadata": {},
     "output_type": "execute_result"
    }
   ],
   "source": [
    "df_wine.groupby(['quality', 'color'], as_index=False)['pH'].mean()"
   ]
  },
  {
   "cell_type": "markdown",
   "id": "146c4e6a",
   "metadata": {},
   "source": [
    "## Drawing Conclusions Using Groupby"
   ]
  },
  {
   "cell_type": "markdown",
   "id": "60733e9a",
   "metadata": {},
   "source": [
    "#### Is a certain type of wine associated with higher quality?"
   ]
  },
  {
   "cell_type": "code",
   "execution_count": 180,
   "id": "05601bea",
   "metadata": {
    "execution": {
     "iopub.execute_input": "2022-02-26T00:48:35.834198Z",
     "iopub.status.busy": "2022-02-26T00:48:35.833587Z",
     "iopub.status.idle": "2022-02-26T00:48:35.849487Z",
     "shell.execute_reply": "2022-02-26T00:48:35.848489Z",
     "shell.execute_reply.started": "2022-02-26T00:48:35.834198Z"
    },
    "tags": []
   },
   "outputs": [
    {
     "data": {
      "text/plain": [
       "color\n",
       "red      5.636023\n",
       "white    5.877909\n",
       "Name: quality, dtype: float64"
      ]
     },
     "execution_count": 180,
     "metadata": {},
     "output_type": "execute_result"
    }
   ],
   "source": [
    "df_wine.groupby('color')['quality'].mean()"
   ]
  },
  {
   "cell_type": "markdown",
   "id": "3b9c9d73",
   "metadata": {},
   "source": [
    "#### What level of acidity receives the highest average rating?"
   ]
  },
  {
   "cell_type": "code",
   "execution_count": 181,
   "id": "7c59fdf8",
   "metadata": {
    "execution": {
     "iopub.execute_input": "2022-02-26T00:48:36.528304Z",
     "iopub.status.busy": "2022-02-26T00:48:36.528304Z",
     "iopub.status.idle": "2022-02-26T00:48:36.591590Z",
     "shell.execute_reply": "2022-02-26T00:48:36.591009Z",
     "shell.execute_reply.started": "2022-02-26T00:48:36.528304Z"
    },
    "tags": []
   },
   "outputs": [
    {
     "data": {
      "text/plain": [
       "count    6497.000000\n",
       "mean        3.218501\n",
       "std         0.160787\n",
       "min         2.720000\n",
       "25%         3.110000\n",
       "50%         3.210000\n",
       "75%         3.320000\n",
       "max         4.010000\n",
       "Name: pH, dtype: float64"
      ]
     },
     "execution_count": 181,
     "metadata": {},
     "output_type": "execute_result"
    }
   ],
   "source": [
    "df_wine.describe().pH"
   ]
  },
  {
   "cell_type": "code",
   "execution_count": 182,
   "id": "99a6b186",
   "metadata": {
    "execution": {
     "iopub.execute_input": "2022-02-26T00:48:37.255217Z",
     "iopub.status.busy": "2022-02-26T00:48:37.254220Z",
     "iopub.status.idle": "2022-02-26T00:48:37.275524Z",
     "shell.execute_reply": "2022-02-26T00:48:37.274553Z",
     "shell.execute_reply.started": "2022-02-26T00:48:37.255217Z"
    },
    "tags": []
   },
   "outputs": [],
   "source": [
    "# Bin edges that will be used to \"cut\" the data into groups\n",
    "bin_edges = [2.72, 3.11, 3.21, 3.32, 4.01]\n",
    "\n",
    "# Labels for the four acidity level groups\n",
    "bin_names = ['high', 'mod_high', 'medium', 'low']\n",
    "\n",
    "# Create acidity_levels column\n",
    "df_wine['acidity_levels'] = pd.cut(df_wine['pH'], bin_edges, labels=bin_names)"
   ]
  },
  {
   "cell_type": "code",
   "execution_count": 183,
   "id": "dd24bbe2",
   "metadata": {
    "execution": {
     "iopub.execute_input": "2022-02-26T00:48:39.261636Z",
     "iopub.status.busy": "2022-02-26T00:48:39.261636Z",
     "iopub.status.idle": "2022-02-26T00:48:39.286476Z",
     "shell.execute_reply": "2022-02-26T00:48:39.285574Z",
     "shell.execute_reply.started": "2022-02-26T00:48:39.261636Z"
    },
    "tags": []
   },
   "outputs": [
    {
     "data": {
      "text/plain": [
       "acidity_levels\n",
       "high        5.783343\n",
       "mod_high    5.784540\n",
       "medium      5.850832\n",
       "low         5.859593\n",
       "Name: quality, dtype: float64"
      ]
     },
     "execution_count": 183,
     "metadata": {},
     "output_type": "execute_result"
    }
   ],
   "source": [
    "# Find the mean quality of each acidity level with groupby\n",
    "df_wine.groupby('acidity_levels').mean().quality"
   ]
  },
  {
   "cell_type": "markdown",
   "id": "86dcd567",
   "metadata": {},
   "source": [
    "## Drawing Conclusions Using Query"
   ]
  },
  {
   "cell_type": "markdown",
   "id": "6fa0a29b",
   "metadata": {},
   "source": [
    "#### Do wines with higher alcoholic content receive better ratings?"
   ]
  },
  {
   "cell_type": "code",
   "execution_count": 184,
   "id": "70afeecd",
   "metadata": {
    "execution": {
     "iopub.execute_input": "2022-02-26T00:48:41.254374Z",
     "iopub.status.busy": "2022-02-26T00:48:41.253594Z",
     "iopub.status.idle": "2022-02-26T00:48:41.276469Z",
     "shell.execute_reply": "2022-02-26T00:48:41.275420Z",
     "shell.execute_reply.started": "2022-02-26T00:48:41.254374Z"
    },
    "tags": []
   },
   "outputs": [
    {
     "data": {
      "text/plain": [
       "10.3"
      ]
     },
     "execution_count": 184,
     "metadata": {},
     "output_type": "execute_result"
    }
   ],
   "source": [
    "# Get the median amount of alcohol content\n",
    "df_wine.alcohol.median()"
   ]
  },
  {
   "cell_type": "code",
   "execution_count": 185,
   "id": "a955be68",
   "metadata": {
    "execution": {
     "iopub.execute_input": "2022-02-26T00:48:41.828933Z",
     "iopub.status.busy": "2022-02-26T00:48:41.827632Z",
     "iopub.status.idle": "2022-02-26T00:48:41.854232Z",
     "shell.execute_reply": "2022-02-26T00:48:41.853235Z",
     "shell.execute_reply.started": "2022-02-26T00:48:41.828933Z"
    },
    "tags": []
   },
   "outputs": [
    {
     "data": {
      "text/plain": [
       "True"
      ]
     },
     "execution_count": 185,
     "metadata": {},
     "output_type": "execute_result"
    }
   ],
   "source": [
    "# Select samples with alcohol content less than the median\n",
    "low_alcohol = df_wine.query('alcohol < 10.3')\n",
    "\n",
    "# Select samples with alcohol content grater than or equal to the median\n",
    "high_alcohol = df_wine.query('alcohol >= 10.3')\n",
    "\n",
    "# Ensure these queries included each sample exactly once\n",
    "num_samples = df_wine.shape[0]\n",
    "num_samples == low_alcohol['quality'].count() + high_alcohol['quality'].count()"
   ]
  },
  {
   "cell_type": "code",
   "execution_count": 186,
   "id": "700a0ebc",
   "metadata": {
    "execution": {
     "iopub.execute_input": "2022-02-26T00:48:42.496688Z",
     "iopub.status.busy": "2022-02-26T00:48:42.496688Z",
     "iopub.status.idle": "2022-02-26T00:48:42.509517Z",
     "shell.execute_reply": "2022-02-26T00:48:42.508749Z",
     "shell.execute_reply.started": "2022-02-26T00:48:42.496688Z"
    },
    "tags": []
   },
   "outputs": [
    {
     "data": {
      "text/plain": [
       "(5.475920679886686, 6.146084337349397)"
      ]
     },
     "execution_count": 186,
     "metadata": {},
     "output_type": "execute_result"
    }
   ],
   "source": [
    "# Get mean quality rating for the low alcohol and high alcohol groups\n",
    "low_alcohol.quality.mean(), high_alcohol.quality.mean()"
   ]
  },
  {
   "cell_type": "markdown",
   "id": "aab7e5e5",
   "metadata": {},
   "source": [
    "#### Do sweeter wines receive better ratings?"
   ]
  },
  {
   "cell_type": "code",
   "execution_count": 187,
   "id": "b5fc8065",
   "metadata": {
    "execution": {
     "iopub.execute_input": "2022-02-26T00:48:43.463403Z",
     "iopub.status.busy": "2022-02-26T00:48:43.463403Z",
     "iopub.status.idle": "2022-02-26T00:48:43.481846Z",
     "shell.execute_reply": "2022-02-26T00:48:43.480982Z",
     "shell.execute_reply.started": "2022-02-26T00:48:43.463403Z"
    },
    "tags": []
   },
   "outputs": [
    {
     "data": {
      "text/plain": [
       "3.0"
      ]
     },
     "execution_count": 187,
     "metadata": {},
     "output_type": "execute_result"
    }
   ],
   "source": [
    "# get the median amount of residual sugar\n",
    "df_wine['residual_sugar'].median()"
   ]
  },
  {
   "cell_type": "code",
   "execution_count": 190,
   "id": "4c02c778",
   "metadata": {
    "execution": {
     "iopub.execute_input": "2022-02-26T00:50:12.173178Z",
     "iopub.status.busy": "2022-02-26T00:50:12.172149Z",
     "iopub.status.idle": "2022-02-26T00:50:12.186376Z",
     "shell.execute_reply": "2022-02-26T00:50:12.186211Z",
     "shell.execute_reply.started": "2022-02-26T00:50:12.173178Z"
    },
    "tags": []
   },
   "outputs": [
    {
     "data": {
      "text/plain": [
       "True"
      ]
     },
     "execution_count": 190,
     "metadata": {},
     "output_type": "execute_result"
    }
   ],
   "source": [
    "# Select samples with residual sugar less than the median\n",
    "low_sugar = df_wine.query('residual_sugar < 3')\n",
    "\n",
    "# Select samples with residual sugar greather than or equal to the median\n",
    "high_sugar = df_wine.query('residual_sugar >= 3')\n",
    "\n",
    "# Ensure these queries included each sample exactly once\n",
    "num_samples == low_sugar['quality'].count() + high_sugar['quality'].count()"
   ]
  },
  {
   "cell_type": "code",
   "execution_count": 191,
   "id": "ac256157",
   "metadata": {
    "execution": {
     "iopub.execute_input": "2022-02-26T00:50:35.171296Z",
     "iopub.status.busy": "2022-02-26T00:50:35.171296Z",
     "iopub.status.idle": "2022-02-26T00:50:35.185455Z",
     "shell.execute_reply": "2022-02-26T00:50:35.184457Z",
     "shell.execute_reply.started": "2022-02-26T00:50:35.171296Z"
    }
   },
   "outputs": [
    {
     "data": {
      "text/plain": [
       "(5.808800743724822, 5.82782874617737)"
      ]
     },
     "execution_count": 191,
     "metadata": {},
     "output_type": "execute_result"
    }
   ],
   "source": [
    "# Get mean quality rating for the low sugar and high sugar groups\n",
    "low_sugar.quality.mean(), high_sugar.quality.mean()"
   ]
  },
  {
   "cell_type": "code",
   "execution_count": null,
   "id": "dee25936",
   "metadata": {},
   "outputs": [],
   "source": []
  }
 ],
 "metadata": {
  "kernelspec": {
   "display_name": "Python 3",
   "language": "python",
   "name": "python3"
  },
  "language_info": {
   "codemirror_mode": {
    "name": "ipython",
    "version": 3
   },
   "file_extension": ".py",
   "mimetype": "text/x-python",
   "name": "python",
   "nbconvert_exporter": "python",
   "pygments_lexer": "ipython3",
   "version": "3.8.8"
  }
 },
 "nbformat": 4,
 "nbformat_minor": 5
}
