{
 "cells": [
  {
   "cell_type": "code",
   "execution_count": 1,
   "metadata": {
    "collapsed": true
   },
   "outputs": [
    {
     "data": {
      "text/plain": "         id diagnosis  radius    texture  perimeter    area  smoothness  \\\n0    842302         M   17.99  19.293431     122.80  1001.0    0.118400   \n1    842517         M   20.57  17.770000     132.90  1326.0    0.084740   \n2  84300903         M   19.69  21.250000     130.00  1203.0    0.109600   \n3  84348301         M   11.42  20.380000      77.58   386.1    0.096087   \n4  84358402         M   20.29  14.340000     135.10  1297.0    0.100300   \n\n   compactness  concavity  concave_points  symmetry  fractal_dimension  \n0      0.27760     0.3001         0.14710    0.2419            0.07871  \n1      0.07864     0.0869         0.07017    0.1812            0.05667  \n2      0.15990     0.1974         0.12790    0.2069            0.05999  \n3      0.28390     0.2414         0.10520    0.2597            0.09744  \n4      0.13280     0.1980         0.10430    0.1809            0.05883  ",
      "text/html": "<div>\n<style scoped>\n    .dataframe tbody tr th:only-of-type {\n        vertical-align: middle;\n    }\n\n    .dataframe tbody tr th {\n        vertical-align: top;\n    }\n\n    .dataframe thead th {\n        text-align: right;\n    }\n</style>\n<table border=\"1\" class=\"dataframe\">\n  <thead>\n    <tr style=\"text-align: right;\">\n      <th></th>\n      <th>id</th>\n      <th>diagnosis</th>\n      <th>radius</th>\n      <th>texture</th>\n      <th>perimeter</th>\n      <th>area</th>\n      <th>smoothness</th>\n      <th>compactness</th>\n      <th>concavity</th>\n      <th>concave_points</th>\n      <th>symmetry</th>\n      <th>fractal_dimension</th>\n    </tr>\n  </thead>\n  <tbody>\n    <tr>\n      <th>0</th>\n      <td>842302</td>\n      <td>M</td>\n      <td>17.99</td>\n      <td>19.293431</td>\n      <td>122.80</td>\n      <td>1001.0</td>\n      <td>0.118400</td>\n      <td>0.27760</td>\n      <td>0.3001</td>\n      <td>0.14710</td>\n      <td>0.2419</td>\n      <td>0.07871</td>\n    </tr>\n    <tr>\n      <th>1</th>\n      <td>842517</td>\n      <td>M</td>\n      <td>20.57</td>\n      <td>17.770000</td>\n      <td>132.90</td>\n      <td>1326.0</td>\n      <td>0.084740</td>\n      <td>0.07864</td>\n      <td>0.0869</td>\n      <td>0.07017</td>\n      <td>0.1812</td>\n      <td>0.05667</td>\n    </tr>\n    <tr>\n      <th>2</th>\n      <td>84300903</td>\n      <td>M</td>\n      <td>19.69</td>\n      <td>21.250000</td>\n      <td>130.00</td>\n      <td>1203.0</td>\n      <td>0.109600</td>\n      <td>0.15990</td>\n      <td>0.1974</td>\n      <td>0.12790</td>\n      <td>0.2069</td>\n      <td>0.05999</td>\n    </tr>\n    <tr>\n      <th>3</th>\n      <td>84348301</td>\n      <td>M</td>\n      <td>11.42</td>\n      <td>20.380000</td>\n      <td>77.58</td>\n      <td>386.1</td>\n      <td>0.096087</td>\n      <td>0.28390</td>\n      <td>0.2414</td>\n      <td>0.10520</td>\n      <td>0.2597</td>\n      <td>0.09744</td>\n    </tr>\n    <tr>\n      <th>4</th>\n      <td>84358402</td>\n      <td>M</td>\n      <td>20.29</td>\n      <td>14.340000</td>\n      <td>135.10</td>\n      <td>1297.0</td>\n      <td>0.100300</td>\n      <td>0.13280</td>\n      <td>0.1980</td>\n      <td>0.10430</td>\n      <td>0.1809</td>\n      <td>0.05883</td>\n    </tr>\n  </tbody>\n</table>\n</div>"
     },
     "execution_count": 1,
     "metadata": {},
     "output_type": "execute_result"
    }
   ],
   "source": [
    "import pandas as pd\n",
    "\n",
    "df = pd.read_csv('../cancer_data_edited.csv')\n",
    "df.head()\n"
   ]
  },
  {
   "cell_type": "code",
   "execution_count": 2,
   "outputs": [
    {
     "data": {
      "text/plain": "         id diagnosis  radius    texture  perimeter    area  smoothness  \\\n0    842302         M   17.99  19.293431     122.80  1001.0    0.118400   \n1    842517         M   20.57  17.770000     132.90  1326.0    0.084740   \n2  84300903         M   19.69  21.250000     130.00  1203.0    0.109600   \n3  84348301         M   11.42  20.380000      77.58   386.1    0.096087   \n4  84358402         M   20.29  14.340000     135.10  1297.0    0.100300   \n\n   compactness  concavity  concave_points  symmetry  fractal_dimension  \n0      0.27760     0.3001         0.14710    0.2419            0.07871  \n1      0.07864     0.0869         0.07017    0.1812            0.05667  \n2      0.15990     0.1974         0.12790    0.2069            0.05999  \n3      0.28390     0.2414         0.10520    0.2597            0.09744  \n4      0.13280     0.1980         0.10430    0.1809            0.05883  ",
      "text/html": "<div>\n<style scoped>\n    .dataframe tbody tr th:only-of-type {\n        vertical-align: middle;\n    }\n\n    .dataframe tbody tr th {\n        vertical-align: top;\n    }\n\n    .dataframe thead th {\n        text-align: right;\n    }\n</style>\n<table border=\"1\" class=\"dataframe\">\n  <thead>\n    <tr style=\"text-align: right;\">\n      <th></th>\n      <th>id</th>\n      <th>diagnosis</th>\n      <th>radius</th>\n      <th>texture</th>\n      <th>perimeter</th>\n      <th>area</th>\n      <th>smoothness</th>\n      <th>compactness</th>\n      <th>concavity</th>\n      <th>concave_points</th>\n      <th>symmetry</th>\n      <th>fractal_dimension</th>\n    </tr>\n  </thead>\n  <tbody>\n    <tr>\n      <th>0</th>\n      <td>842302</td>\n      <td>M</td>\n      <td>17.99</td>\n      <td>19.293431</td>\n      <td>122.80</td>\n      <td>1001.0</td>\n      <td>0.118400</td>\n      <td>0.27760</td>\n      <td>0.3001</td>\n      <td>0.14710</td>\n      <td>0.2419</td>\n      <td>0.07871</td>\n    </tr>\n    <tr>\n      <th>1</th>\n      <td>842517</td>\n      <td>M</td>\n      <td>20.57</td>\n      <td>17.770000</td>\n      <td>132.90</td>\n      <td>1326.0</td>\n      <td>0.084740</td>\n      <td>0.07864</td>\n      <td>0.0869</td>\n      <td>0.07017</td>\n      <td>0.1812</td>\n      <td>0.05667</td>\n    </tr>\n    <tr>\n      <th>2</th>\n      <td>84300903</td>\n      <td>M</td>\n      <td>19.69</td>\n      <td>21.250000</td>\n      <td>130.00</td>\n      <td>1203.0</td>\n      <td>0.109600</td>\n      <td>0.15990</td>\n      <td>0.1974</td>\n      <td>0.12790</td>\n      <td>0.2069</td>\n      <td>0.05999</td>\n    </tr>\n    <tr>\n      <th>3</th>\n      <td>84348301</td>\n      <td>M</td>\n      <td>11.42</td>\n      <td>20.380000</td>\n      <td>77.58</td>\n      <td>386.1</td>\n      <td>0.096087</td>\n      <td>0.28390</td>\n      <td>0.2414</td>\n      <td>0.10520</td>\n      <td>0.2597</td>\n      <td>0.09744</td>\n    </tr>\n    <tr>\n      <th>4</th>\n      <td>84358402</td>\n      <td>M</td>\n      <td>20.29</td>\n      <td>14.340000</td>\n      <td>135.10</td>\n      <td>1297.0</td>\n      <td>0.100300</td>\n      <td>0.13280</td>\n      <td>0.1980</td>\n      <td>0.10430</td>\n      <td>0.1809</td>\n      <td>0.05883</td>\n    </tr>\n  </tbody>\n</table>\n</div>"
     },
     "execution_count": 2,
     "metadata": {},
     "output_type": "execute_result"
    }
   ],
   "source": [
    "df_m = df[df['diagnosis'] == 'M']\n",
    "df_m.head()\n"
   ],
   "metadata": {
    "collapsed": false,
    "pycharm": {
     "name": "#%%\n"
    }
   }
  },
  {
   "cell_type": "code",
   "execution_count": 3,
   "outputs": [
    {
     "data": {
      "text/plain": "count     210.000000\nmean      976.582857\nstd       365.494289\nmin       361.600000\n25%       706.850000\n50%       932.000000\n75%      1200.750000\nmax      2501.000000\nName: area, dtype: float64"
     },
     "execution_count": 3,
     "metadata": {},
     "output_type": "execute_result"
    }
   ],
   "source": [
    "df_m['area'].describe()\n"
   ],
   "metadata": {
    "collapsed": false,
    "pycharm": {
     "name": "#%%\n"
    }
   }
  },
  {
   "cell_type": "code",
   "execution_count": 7,
   "outputs": [
    {
     "name": "stdout",
     "output_type": "stream",
     "text": [
      "Malign mean area: 976.5828571428573 // Benign mean area: 462.7124293785311\n"
     ]
    }
   ],
   "source": [
    "df_b = df[df['diagnosis'] == 'B']\n",
    "df_b['area'].describe()\n",
    "print(\"Malign mean area: \" + str(df_m['area'].mean()) + \" // Benign mean area: \" + str(df_b['area'].mean()))\n"
   ],
   "metadata": {
    "collapsed": false,
    "pycharm": {
     "name": "#%%\n"
    }
   }
  },
  {
   "cell_type": "code",
   "execution_count": 17,
   "outputs": [
    {
     "data": {
      "text/plain": "<Figure size 576x432 with 1 Axes>",
      "image/png": "[encoded data removed]"
     },
     "metadata": {
      "needs_background": "light"
     },
     "output_type": "display_data"
    }
   ],
   "source": [
    "import matplotlib.pyplot as plt\n",
    "\n",
    "fig, ax = plt.subplots(figsize=(8, 6))\n",
    "ax.hist(df_b['area'], alpha=0.5, label='benign')\n",
    "ax.hist(df_m['area'], alpha=0.5, label='malignant')\n",
    "ax.set_title('Distributions of Benign and Malignant Tumor Areas')\n",
    "ax.set_xlabel('Area')\n",
    "ax.set_ylabel('Count')\n",
    "ax.legend(loc='upper right')\n",
    "plt.show()"
   ],
   "metadata": {
    "collapsed": false,
    "pycharm": {
     "name": "#%%\n"
    }
   }
  },
  {
   "cell_type": "code",
   "execution_count": null,
   "outputs": [],
   "source": [],
   "metadata": {
    "collapsed": false,
    "pycharm": {
     "name": "#%%\n"
    }
   }
  }
 ],
 "metadata": {
  "kernelspec": {
   "display_name": "Python 3",
   "language": "python",
   "name": "python3"
  },
  "language_info": {
   "codemirror_mode": {
    "name": "ipython",
    "version": 2
   },
   "file_extension": ".py",
   "mimetype": "text/x-python",
   "name": "python",
   "nbconvert_exporter": "python",
   "pygments_lexer": "ipython2",
   "version": "2.7.6"
  }
 },
 "nbformat": 4,
 "nbformat_minor": 0
}