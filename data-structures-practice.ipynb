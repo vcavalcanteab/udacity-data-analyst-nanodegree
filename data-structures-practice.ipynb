{
 "cells": [
  {
   "cell_type": "code",
   "execution_count": 1,
   "metadata": {
    "collapsed": true
   },
   "outputs": [],
   "source": [
    "months = ['Janeiro', 'Fevereiro', 'Março']"
   ]
  },
  {
   "cell_type": "code",
   "execution_count": 5,
   "outputs": [
    {
     "name": "stdout",
     "output_type": "stream",
     "text": [
      "['Janeiro', 'Fevereiro']\n"
     ]
    }
   ],
   "source": [
    "print(months[0:2])"
   ],
   "metadata": {
    "collapsed": false,
    "pycharm": {
     "name": "#%%\n"
    }
   }
  },
  {
   "cell_type": "code",
   "execution_count": 12,
   "outputs": [
    {
     "name": "stdout",
     "output_type": "stream",
     "text": [
      "apple - banana - watermelon\n"
     ]
    }
   ],
   "source": [
    "# Join Method\n",
    "fruits = ['apple', 'banana', 'watermelon']\n",
    "joined_fruits = \" - \".join(fruits)\n",
    "print(joined_fruits)"
   ],
   "metadata": {
    "collapsed": false,
    "pycharm": {
     "name": "#%%\n"
    }
   }
  },
  {
   "cell_type": "code",
   "execution_count": 13,
   "outputs": [
    {
     "name": "stdout",
     "output_type": "stream",
     "text": [
      "['apple', 'banana', 'watermelon']\n",
      "Lista depois de dar append: \n",
      "['apple', 'banana', 'watermelon', 'grape']\n"
     ]
    }
   ],
   "source": [
    "# Append Method\n",
    "print(fruits)\n",
    "fruits.append('grape')\n",
    "print(\"List after append: \")\n",
    "print(fruits)"
   ],
   "metadata": {
    "collapsed": false,
    "pycharm": {
     "name": "#%%\n"
    }
   }
  },
  {
   "cell_type": "code",
   "execution_count": 14,
   "outputs": [
    {
     "name": "stdout",
     "output_type": "stream",
     "text": [
      "Antoine & Benjamin & Bruna & Cecília & Clara & Edilaine & Elaine & Eliane & Fernanda & Milton & Romeu & Socorro & Vinícius\n"
     ]
    }
   ],
   "source": [
    "# Sorted + Join methods\n",
    "family = ['Fernanda', 'Bruna', 'Vinícius', 'Romeu', 'Edilaine', 'Eliane', 'Cecília', 'Elaine', 'Socorro', 'Milton', 'Antoine', 'Benjamin', 'Clara']\n",
    "print(\" & \".join(sorted(family)))"
   ],
   "metadata": {
    "collapsed": false,
    "pycharm": {
     "name": "#%%\n"
    }
   }
  },
  {
   "cell_type": "code",
   "execution_count": 21,
   "outputs": [
    {
     "name": "stdout",
     "output_type": "stream",
     "text": [
      "(-23.40399, -47.32903)\n",
      "Latitude: -23.40399. Longitude: -47.32903\n"
     ]
    }
   ],
   "source": [
    "# Tuples\n",
    "location = -23.40399, -47.32903\n",
    "print(location)\n",
    "lat, lng = location\n",
    "print(\"Latitude: {}. Longitude: {}\".format(lat, lng))"
   ],
   "metadata": {
    "collapsed": false,
    "pycharm": {
     "name": "#%%\n"
    }
   }
  },
  {
   "cell_type": "code",
   "execution_count": null,
   "outputs": [],
   "source": [],
   "metadata": {
    "collapsed": false,
    "pycharm": {
     "name": "#%%\n"
    }
   }
  },
  {
   "cell_type": "code",
   "execution_count": 28,
   "outputs": [
    {
     "name": "stdout",
     "output_type": "stream",
     "text": [
      "{'United States of America', 'Brazil', 'Spain'}\n",
      "{'Brazil', 'Spain'}\n",
      "{'Spain'}\n"
     ]
    }
   ],
   "source": [
    "# Sets\n",
    "countries_list = ['Brazil', 'Brazil', 'Brazil', 'United States of America', 'United States of America']\n",
    "countries_set = set(countries_list)\n",
    "#print(countries_set)\n",
    "#print('Brazil' in countries_list)\n",
    "#print('Brazil' in countries_set)\n",
    "countries_set.add('Spain')\n",
    "print(countries_set)\n",
    "countries_set.pop()\n",
    "print(countries_set)\n",
    "countries_set.pop()\n",
    "print(countries_set)"
   ],
   "metadata": {
    "collapsed": false,
    "pycharm": {
     "name": "#%%\n"
    }
   }
  },
  {
   "cell_type": "code",
   "execution_count": 29,
   "outputs": [
    {
     "name": "stdout",
     "output_type": "stream",
     "text": [
      "{'Vinícius': 12, 'Fernanda': 2, 'Edilaine': 6}\n"
     ]
    }
   ],
   "source": [
    "# Dictionaries\n",
    "favourite_number = {'Vinícius': 12, 'Fernanda': 2}\n",
    "favourite_number['Edilaine'] = 6\n",
    "print(favourite_number)"
   ],
   "metadata": {
    "collapsed": false,
    "pycharm": {
     "name": "#%%\n"
    }
   }
  },
  {
   "cell_type": "code",
   "execution_count": 36,
   "outputs": [
    {
     "name": "stdout",
     "output_type": "stream",
     "text": [
      "Not found :(\n",
      "Edilaine's favourite number is 6\n"
     ]
    }
   ],
   "source": [
    "print(favourite_number.get('Vini', 'Not found :('))\n",
    "name = 'Edilaine'\n",
    "print(\"{}'s favourite number is {}\".format(name,favourite_number.get(name,'Not found :(')))"
   ],
   "metadata": {
    "collapsed": false,
    "pycharm": {
     "name": "#%%\n"
    }
   }
  },
  {
   "cell_type": "code",
   "execution_count": 38,
   "outputs": [
    {
     "name": "stdout",
     "output_type": "stream",
     "text": [
      "{'favourite_number': 12, 'favourite_color': 'black', 'favourite_food': 'gnocchi'}\n",
      "black\n"
     ]
    }
   ],
   "source": [
    "family_dictionary = {'Vinícius': {'favourite_number': 12,\n",
    "                                  'favourite_color': 'black',\n",
    "                                  'favourite_food': 'gnocchi'},\n",
    "                     'Fernanda': {'favourite_number': 2,\n",
    "                                  'favourite_color': 'blue',\n",
    "                                  'favourite_food': 'nusei'}}\n",
    "\n",
    "print(family_dictionary['Vinícius'])\n",
    "print(family_dictionary['Vinícius']['favourite_color'])"
   ],
   "metadata": {
    "collapsed": false,
    "pycharm": {
     "name": "#%%\n"
    }
   }
  },
  {
   "cell_type": "code",
   "execution_count": null,
   "outputs": [],
   "source": [],
   "metadata": {
    "collapsed": false,
    "pycharm": {
     "name": "#%%\n"
    }
   }
  }
 ],
 "metadata": {
  "kernelspec": {
   "display_name": "Python 3",
   "language": "python",
   "name": "python3"
  },
  "language_info": {
   "codemirror_mode": {
    "name": "ipython",
    "version": 2
   },
   "file_extension": ".py",
   "mimetype": "text/x-python",
   "name": "python",
   "nbconvert_exporter": "python",
   "pygments_lexer": "ipython2",
   "version": "2.7.6"
  }
 },
 "nbformat": 4,
 "nbformat_minor": 0
}