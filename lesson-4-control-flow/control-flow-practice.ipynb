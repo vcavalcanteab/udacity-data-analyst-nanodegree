{
 "cells": [
  {
   "cell_type": "code",
   "execution_count": 7,
   "metadata": {
    "collapsed": true
   },
   "outputs": [
    {
     "name": "stdout",
     "output_type": "stream",
     "text": [
      "You are suffering, right? Now, take this.\n",
      "Vini is really lucky! Vini just received 50 hp!\n",
      "Your new HP status is 53\n"
     ]
    }
   ],
   "source": [
    "# If Statement\n",
    "hp = 3\n",
    "name = 'Vini'\n",
    "\n",
    "if hp == 10:\n",
    "    print('You are full HP. Now, take this.')\n",
    "    hp += 1\n",
    "    print('{} just received 1 hp point!\\nYour new HP status is {}.'.format(name, hp))\n",
    "elif hp > 10:\n",
    "    print('Wow! You have so much HP! This is not fair.')\n",
    "    hp -= 5\n",
    "    print('{} was attacked with a knife. {} lost 5 hp.'.format(name, name))\n",
    "    print('Your new HP status is {}'.format(hp))\n",
    "else:\n",
    "    print('You are suffering, right? Now, take this.')\n",
    "    hp += 50\n",
    "    print('{} is really lucky! {} just received 50 hp!'.format(name, name))\n",
    "    print('Your new HP status is {}'.format(hp))"
   ]
  },
  {
   "cell_type": "code",
   "execution_count": 8,
   "outputs": [
    {
     "name": "stdout",
     "output_type": "stream",
     "text": [
      "Congratulations! You won a wafer-thin mint!\n"
     ]
    }
   ],
   "source": [
    "points = 174  # use this input to make your submission\n",
    "prizes = ['wooden rabbit', 'no prize', 'wafer-thin mint', 'penguin']\n",
    "# write your if statement here\n",
    "\n",
    "if 1 <= points <= 50:\n",
    "    result = 'Congratulations! You won a {}!'.format(prizes[0])\n",
    "elif 51 <= points <= 150:\n",
    "    result = 'Congratulations! You won a {}!'.format(prizes[1])\n",
    "elif 151 <= points <= 180:\n",
    "    result = 'Congratulations! You won a {}!'.format(prizes[2])\n",
    "elif 181 <= points <= 200:\n",
    "    result = 'Congratulations! You won a {}!'.format(prizes[3])\n",
    "else:\n",
    "    result = 'Oh dear, no prize this time.'\n",
    "\n",
    "print(result)"
   ],
   "metadata": {
    "collapsed": false,
    "pycharm": {
     "name": "#%%\n"
    }
   }
  },
  {
   "cell_type": "code",
   "execution_count": 9,
   "outputs": [
    {
     "name": "stdout",
     "output_type": "stream",
     "text": [
      "Oops!  Your guess was too low.\n"
     ]
    }
   ],
   "source": [
    "# '''\n",
    "# You decide you want to play a game where you are hiding\n",
    "# a number from someone.  Store this number in a variable\n",
    "# called 'answer'.  Another user provides a number called\n",
    "# 'guess'.  By comparing guess to answer, you inform the user\n",
    "# if their guess is too high or too low.\n",
    "\n",
    "# Fill in the conditionals below to inform the user about how\n",
    "# their guess compares to the answer.\n",
    "# '''\n",
    "answer = 15\n",
    "guess = 14\n",
    "\n",
    "if guess < answer:\n",
    "    result = \"Oops!  Your guess was too low.\"\n",
    "elif guess > answer:\n",
    "    result = \"Oops!  Your guess was too high.\"\n",
    "elif guess == answer:\n",
    "    result = \"Nice!  Your guess matched the answer!\"\n",
    "\n",
    "print(result)"
   ],
   "metadata": {
    "collapsed": false,
    "pycharm": {
     "name": "#%%\n"
    }
   }
  },
  {
   "cell_type": "code",
   "execution_count": null,
   "outputs": [],
   "source": [
    "# '''\n",
    "# Depending on where an individual is from we need to tax them\n",
    "# appropriately.  The states of CA, MN, and\n",
    "# NY have taxes of 7.5%, 9.5%, and 8.9% respectively.\n",
    "# Use this information to take the amount of a purchase and\n",
    "# the corresponding state to assure that they are taxed by the right\n",
    "# amount.\n",
    "# '''\n",
    "state = 'CA' #Either CA, MN, or NY\n",
    "purchase_amount = 10 #amount of purchase\n",
    "\n",
    "if state == 'CA': #provide conditional for checking state is CA\n",
    "    tax_amount = .075\n",
    "    total_cost = purchase_amount*(1+tax_amount)\n",
    "    result = \"Since you're from {}, your total cost is {}.\".format(state, total_cost)\n",
    "\n",
    "elif state == 'MN': #provide conditional for checking state is MN\n",
    "    tax_amount = .095\n",
    "    total_cost = purchase_amount*(1+tax_amount)\n",
    "    result = \"Since you're from {}, your total cost is {}.\".format(state, total_cost)\n",
    "\n",
    "elif state == 'NY': #provide conditional for checking state is NY\n",
    "    tax_amount = .089\n",
    "    total_cost = purchase_amount*(1+tax_amount)\n",
    "    result = \"Since you're from {}, your total cost is {}.\".format(state, total_cost)\n",
    "\n",
    "print(result)"
   ],
   "metadata": {
    "collapsed": false,
    "pycharm": {
     "name": "#%%\n"
    }
   }
  },
  {
   "cell_type": "code",
   "execution_count": 10,
   "outputs": [
    {
     "name": "stdout",
     "output_type": "stream",
     "text": [
      "You have 3 errors to fix!\n"
     ]
    }
   ],
   "source": [
    "errors = 3\n",
    "if errors:\n",
    "    print(\"You have {} errors to fix!\".format(errors))\n",
    "else:\n",
    "    print(\"No errors to fix!\")"
   ],
   "metadata": {
    "collapsed": false,
    "pycharm": {
     "name": "#%%\n"
    }
   }
  },
  {
   "cell_type": "code",
   "execution_count": null,
   "outputs": [],
   "source": [
    "te    if text == '':\n",
    "        return ''\n",
    "    else:\n",
    "        text.split('-')"
   ],
   "metadata": {
    "collapsed": false,
    "pycharm": {
     "name": "#%%\n"
    }
   }
  },
  {
   "cell_type": "code",
   "execution_count": 38,
   "outputs": [
    {
     "name": "stdout",
     "output_type": "stream",
     "text": [
      "theWarriorGod\n"
     ]
    }
   ],
   "source": [
    "from re import sub\n",
    "def camel_sol(text): return sub(\"[-_](.)\",lambda x: x.group(1).upper(),text)\n",
    "print(camel_sol('the_warrior_god'))\n",
    "foo = long_function_name(var_one, var_two,\n",
    "                         var three, var four)"
   ],
   "metadata": {
    "collapsed": false,
    "pycharm": {
     "name": "#%%\n"
    }
   }
  },
  {
   "cell_type": "code",
   "execution_count": null,
   "outputs": [],
   "source": [],
   "metadata": {
    "collapsed": false,
    "pycharm": {
     "name": "#%%\n"
    }
   }
  }
 ],
 "metadata": {
  "kernelspec": {
   "display_name": "Python 3",
   "language": "python",
   "name": "python3"
  },
  "language_info": {
   "codemirror_mode": {
    "name": "ipython",
    "version": 2
   },
   "file_extension": ".py",
   "mimetype": "text/x-python",
   "name": "python",
   "nbconvert_exporter": "python",
   "pygments_lexer": "ipython2",
   "version": "2.7.6"
  }
 },
 "nbformat": 4,
 "nbformat_minor": 0
}